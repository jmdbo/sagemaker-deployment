{
 "cells": [
  {
   "cell_type": "markdown",
   "metadata": {},
   "source": [
    "# Sentiment Analysis Web App\n",
    "\n",
    "_Deep Learning Nanodegree Program | Deployment_\n",
    "\n",
    "---\n",
    "\n",
    "In this notebook we will use Amazon's SageMaker service to construct a random tree model to predict the sentiment of a movie review. In addition, we will deploy this model to an endpoint and construct a very simple web app which will interact with our model's deployed endpoint.\n",
    "\n",
    "## General Outline\n",
    "\n",
    "Typically, when using a notebook instance with SageMaker, you will proceed through the following steps. Of course, not every step will need to be done with each project. Also, there is quite a lot of room for variation in many of the steps, as you will see throughout these lessons.\n",
    "\n",
    "1. Download or otherwise retrieve the data.\n",
    "2. Process / Prepare the data.\n",
    "3. Upload the processed data to S3.\n",
    "4. Train a chosen model.\n",
    "5. Test the trained model (typically using a batch transform job).\n",
    "6. Deploy the trained model.\n",
    "7. Use the deployed model.\n",
    "\n",
    "In this notebook we will progress through each of the steps above. We will also see that the final step, using the deployed model, can be quite challenging."
   ]
  },
  {
   "cell_type": "code",
   "execution_count": 1,
   "metadata": {},
   "outputs": [
    {
     "name": "stdout",
     "output_type": "stream",
     "text": [
      "Requirement already satisfied: sagemaker==1.72.0 in /home/ec2-user/anaconda3/envs/python3/lib/python3.6/site-packages (1.72.0)\n",
      "Requirement already satisfied: numpy>=1.9.0 in /home/ec2-user/anaconda3/envs/python3/lib/python3.6/site-packages (from sagemaker==1.72.0) (1.19.5)\n",
      "Requirement already satisfied: protobuf3-to-dict>=0.1.5 in /home/ec2-user/anaconda3/envs/python3/lib/python3.6/site-packages (from sagemaker==1.72.0) (0.1.5)\n",
      "Requirement already satisfied: importlib-metadata>=1.4.0 in /home/ec2-user/anaconda3/envs/python3/lib/python3.6/site-packages (from sagemaker==1.72.0) (1.5.0)\n",
      "Requirement already satisfied: packaging>=20.0 in /home/ec2-user/anaconda3/envs/python3/lib/python3.6/site-packages (from sagemaker==1.72.0) (20.1)\n",
      "Requirement already satisfied: smdebug-rulesconfig==0.1.4 in /home/ec2-user/anaconda3/envs/python3/lib/python3.6/site-packages (from sagemaker==1.72.0) (0.1.4)\n",
      "Requirement already satisfied: scipy>=0.19.0 in /home/ec2-user/anaconda3/envs/python3/lib/python3.6/site-packages (from sagemaker==1.72.0) (1.4.1)\n",
      "Requirement already satisfied: protobuf>=3.1 in /home/ec2-user/anaconda3/envs/python3/lib/python3.6/site-packages (from sagemaker==1.72.0) (3.11.4)\n",
      "Requirement already satisfied: boto3>=1.14.12 in /home/ec2-user/anaconda3/envs/python3/lib/python3.6/site-packages (from sagemaker==1.72.0) (1.17.16)\n",
      "Requirement already satisfied: s3transfer<0.4.0,>=0.3.0 in /home/ec2-user/anaconda3/envs/python3/lib/python3.6/site-packages (from boto3>=1.14.12->sagemaker==1.72.0) (0.3.4)\n",
      "Requirement already satisfied: botocore<1.21.0,>=1.20.16 in /home/ec2-user/anaconda3/envs/python3/lib/python3.6/site-packages (from boto3>=1.14.12->sagemaker==1.72.0) (1.20.16)\n",
      "Requirement already satisfied: jmespath<1.0.0,>=0.7.1 in /home/ec2-user/anaconda3/envs/python3/lib/python3.6/site-packages (from boto3>=1.14.12->sagemaker==1.72.0) (0.10.0)\n",
      "Requirement already satisfied: python-dateutil<3.0.0,>=2.1 in /home/ec2-user/anaconda3/envs/python3/lib/python3.6/site-packages (from botocore<1.21.0,>=1.20.16->boto3>=1.14.12->sagemaker==1.72.0) (2.8.1)\n",
      "Requirement already satisfied: urllib3<1.27,>=1.25.4 in /home/ec2-user/anaconda3/envs/python3/lib/python3.6/site-packages (from botocore<1.21.0,>=1.20.16->boto3>=1.14.12->sagemaker==1.72.0) (1.25.10)\n",
      "Requirement already satisfied: zipp>=0.5 in /home/ec2-user/anaconda3/envs/python3/lib/python3.6/site-packages (from importlib-metadata>=1.4.0->sagemaker==1.72.0) (2.2.0)\n",
      "Requirement already satisfied: pyparsing>=2.0.2 in /home/ec2-user/anaconda3/envs/python3/lib/python3.6/site-packages (from packaging>=20.0->sagemaker==1.72.0) (2.4.6)\n",
      "Requirement already satisfied: six in /home/ec2-user/anaconda3/envs/python3/lib/python3.6/site-packages (from packaging>=20.0->sagemaker==1.72.0) (1.14.0)\n",
      "Requirement already satisfied: setuptools in /home/ec2-user/anaconda3/envs/python3/lib/python3.6/site-packages (from protobuf>=3.1->sagemaker==1.72.0) (53.0.0)\n"
     ]
    }
   ],
   "source": [
    "# Make sure that we use SageMaker 1.x\n",
    "!pip install sagemaker==1.72.0"
   ]
  },
  {
   "cell_type": "markdown",
   "metadata": {},
   "source": [
    "## Step 1: Downloading the data\n",
    "\n",
    "The dataset we are going to use is very popular among researchers in Natural Language Processing, usually referred to as the [IMDb dataset](http://ai.stanford.edu/~amaas/data/sentiment/). It consists of movie reviews from the website [imdb.com](http://www.imdb.com/), each labeled as either '**pos**itive', if the reviewer enjoyed the film, or '**neg**ative' otherwise.\n",
    "\n",
    "> Maas, Andrew L., et al. [Learning Word Vectors for Sentiment Analysis](http://ai.stanford.edu/~amaas/data/sentiment/). In _Proceedings of the 49th Annual Meeting of the Association for Computational Linguistics: Human Language Technologies_. Association for Computational Linguistics, 2011.\n",
    "\n",
    "We begin by using some Jupyter Notebook magic to download and extract the dataset."
   ]
  },
  {
   "cell_type": "code",
   "execution_count": 2,
   "metadata": {},
   "outputs": [
    {
     "name": "stdout",
     "output_type": "stream",
     "text": [
      "mkdir: cannot create directory ‘../data’: File exists\n",
      "--2021-03-07 00:32:32--  http://ai.stanford.edu/~amaas/data/sentiment/aclImdb_v1.tar.gz\n",
      "Resolving ai.stanford.edu (ai.stanford.edu)... 171.64.68.10\n",
      "Connecting to ai.stanford.edu (ai.stanford.edu)|171.64.68.10|:80... connected.\n",
      "HTTP request sent, awaiting response... 200 OK\n",
      "Length: 84125825 (80M) [application/x-gzip]\n",
      "Saving to: ‘../data/aclImdb_v1.tar.gz’\n",
      "\n",
      "../data/aclImdb_v1. 100%[===================>]  80.23M  10.9MB/s    in 13s     \n",
      "\n",
      "2021-03-07 00:32:45 (6.39 MB/s) - ‘../data/aclImdb_v1.tar.gz’ saved [84125825/84125825]\n",
      "\n"
     ]
    }
   ],
   "source": [
    "%mkdir ../data\n",
    "!wget -O ../data/aclImdb_v1.tar.gz http://ai.stanford.edu/~amaas/data/sentiment/aclImdb_v1.tar.gz\n",
    "!tar -zxf ../data/aclImdb_v1.tar.gz -C ../data"
   ]
  },
  {
   "cell_type": "markdown",
   "metadata": {},
   "source": [
    "## Step 2: Preparing and Processing the data\n",
    "\n",
    "The data we have downloaded is split into various files, each of which contains a single review. It will be much easier going forward if we combine these individual files into two large files, one for training and one for testing."
   ]
  },
  {
   "cell_type": "code",
   "execution_count": 3,
   "metadata": {},
   "outputs": [],
   "source": [
    "import os\n",
    "import glob\n",
    "\n",
    "def read_imdb_data(data_dir='../data/aclImdb'):\n",
    "    data = {}\n",
    "    labels = {}\n",
    "    \n",
    "    for data_type in ['train', 'test']:\n",
    "        data[data_type] = {}\n",
    "        labels[data_type] = {}\n",
    "        \n",
    "        for sentiment in ['pos', 'neg']:\n",
    "            data[data_type][sentiment] = []\n",
    "            labels[data_type][sentiment] = []\n",
    "            \n",
    "            path = os.path.join(data_dir, data_type, sentiment, '*.txt')\n",
    "            files = glob.glob(path)\n",
    "            \n",
    "            for f in files:\n",
    "                with open(f) as review:\n",
    "                    data[data_type][sentiment].append(review.read())\n",
    "                    # Here we represent a positive review by '1' and a negative review by '0'\n",
    "                    labels[data_type][sentiment].append(1 if sentiment == 'pos' else 0)\n",
    "                    \n",
    "            assert len(data[data_type][sentiment]) == len(labels[data_type][sentiment]), \\\n",
    "                    \"{}/{} data size does not match labels size\".format(data_type, sentiment)\n",
    "                \n",
    "    return data, labels"
   ]
  },
  {
   "cell_type": "code",
   "execution_count": 4,
   "metadata": {},
   "outputs": [
    {
     "name": "stdout",
     "output_type": "stream",
     "text": [
      "IMDB reviews: train = 12500 pos / 12500 neg, test = 12500 pos / 12500 neg\n"
     ]
    }
   ],
   "source": [
    "data, labels = read_imdb_data()\n",
    "print(\"IMDB reviews: train = {} pos / {} neg, test = {} pos / {} neg\".format(\n",
    "            len(data['train']['pos']), len(data['train']['neg']),\n",
    "            len(data['test']['pos']), len(data['test']['neg'])))"
   ]
  },
  {
   "cell_type": "code",
   "execution_count": 5,
   "metadata": {},
   "outputs": [],
   "source": [
    "from sklearn.utils import shuffle\n",
    "\n",
    "def prepare_imdb_data(data, labels):\n",
    "    \"\"\"Prepare training and test sets from IMDb movie reviews.\"\"\"\n",
    "    \n",
    "    #Combine positive and negative reviews and labels\n",
    "    data_train = data['train']['pos'] + data['train']['neg']\n",
    "    data_test = data['test']['pos'] + data['test']['neg']\n",
    "    labels_train = labels['train']['pos'] + labels['train']['neg']\n",
    "    labels_test = labels['test']['pos'] + labels['test']['neg']\n",
    "    \n",
    "    #Shuffle reviews and corresponding labels within training and test sets\n",
    "    data_train, labels_train = shuffle(data_train, labels_train)\n",
    "    data_test, labels_test = shuffle(data_test, labels_test)\n",
    "    \n",
    "    # Return a unified training data, test data, training labels, test labets\n",
    "    return data_train, data_test, labels_train, labels_test"
   ]
  },
  {
   "cell_type": "code",
   "execution_count": 6,
   "metadata": {},
   "outputs": [
    {
     "name": "stdout",
     "output_type": "stream",
     "text": [
      "IMDb reviews (combined): train = 25000, test = 25000\n"
     ]
    }
   ],
   "source": [
    "train_X, test_X, train_y, test_y = prepare_imdb_data(data, labels)\n",
    "print(\"IMDb reviews (combined): train = {}, test = {}\".format(len(train_X), len(test_X)))"
   ]
  },
  {
   "cell_type": "code",
   "execution_count": 7,
   "metadata": {},
   "outputs": [
    {
     "data": {
      "text/plain": [
       "'When it comes to movies I can be pretty picky, and I\\'ll complain about anything and everything that is done wrong. While every movie has its flaws, The Night Listener had an exceptionally low count.<br /><br />If you read the last review (it was hard, since half of it was written in caps and it contained no actual information about the movie), you may have been led to believe that this movie was not too well done. Unfortunately, if you read more than 3 lines into that same review, you discovered the poster\\'s reason for disdain: he/she does not like the fact that the director is gay (or that the production team smokes crack...apparently).<br /><br />So, despite the fact that I have never written a review before, I thought this movie deserved one based on its merits, not the sexual orientation of its director. Let\\'s go over a quick checklist first: 1. Great plot? Absolutely. I won\\'t give a shred of it away, but the plot is highly compelling and definitely not what one would expect based on the commercials. This is a thriller, not a horror, and it should be approached as such. The story really will amaze you, even more so because it\\'s true (and the plot did stay quite faithful to the actual events).<br /><br />2. Wonderful Acting? Oh Yes. Robin Williams long ago broke free from the chains of the comedy type-cast, and he has since flourished in serious roles for which many people would have wrote him off just a decade ago. He once again achieves high form in his role in The Night Listener, playing a radio host who becomes increasingly troubled by and entangled in a case of...well, I\\'ll let you see for yourself.<br /><br />3. Excellent direction? Certainly. Now, unlike the other poster to which I referred, I actually know something about direction. I\\'ve been sutdying the art of direction at school now for 3 years. Of course I really don\\'t think that makes a lick of difference (the only thing that matters is if YOU like the direction), but I thought I should simply establish once again that I\\'m basing my opinions here on something both substantial and relevant...for example: not the sexual orientation of the director (or the alleged drug habits of the production team, LOL).<br /><br />Patrick Stettner\\'s direction was moody and dark, and he allowed the angles and lighting to help create those so-sought-after feelings of \"tension and release\" rather than the messy, fast-paced camera-work and quick cuts we\\'re so often subjected to today. Some people can truly show you a story through their camera, while other\\'s feel as if they have to make the story with the camera. I really appreciate when someone these days has the courage to just use the camera as its supposed to be utilized, which is as an eyeball through which we all see.<br /><br />4. Lighting, cinematography, and editing? Great all around. I\\'ve already wrote so much, and I could go on about these last three things for another ten paragraphs, so I\\'ll just wrap it up.<br /><br />In short, go see this movie. Don\\'t listen to people who have alterior motives for trashing it, especially if they\\'re so stupid that they unknowingly reveal that motive 1/4 of the way through their post. Enjoy the show! -Ben'"
      ]
     },
     "execution_count": 7,
     "metadata": {},
     "output_type": "execute_result"
    }
   ],
   "source": [
    "train_X[100]"
   ]
  },
  {
   "cell_type": "markdown",
   "metadata": {},
   "source": [
    "## Processing the data\n",
    "\n",
    "Now that we have our training and testing datasets merged and ready to use, we need to start processing the raw data into something that will be useable by our machine learning algorithm. To begin with, we remove any html formatting and any non-alpha numeric characters that may appear in the reviews. We will do this in a very simplistic way using Python's regular expression module. We will discuss the reason for this rather simplistic pre-processing later on."
   ]
  },
  {
   "cell_type": "code",
   "execution_count": 8,
   "metadata": {},
   "outputs": [],
   "source": [
    "import re\n",
    "\n",
    "REPLACE_NO_SPACE = re.compile(\"(\\.)|(\\;)|(\\:)|(\\!)|(\\')|(\\?)|(\\,)|(\\\")|(\\()|(\\))|(\\[)|(\\])\")\n",
    "REPLACE_WITH_SPACE = re.compile(\"(<br\\s*/><br\\s*/>)|(\\-)|(\\/)\")\n",
    "\n",
    "def review_to_words(review):\n",
    "    words = REPLACE_NO_SPACE.sub(\"\", review.lower())\n",
    "    words = REPLACE_WITH_SPACE.sub(\" \", words)\n",
    "    return words"
   ]
  },
  {
   "cell_type": "code",
   "execution_count": 9,
   "metadata": {},
   "outputs": [
    {
     "data": {
      "text/plain": [
       "'when it comes to movies i can be pretty picky and ill complain about anything and everything that is done wrong while every movie has its flaws the night listener had an exceptionally low count if you read the last review it was hard since half of it was written in caps and it contained no actual information about the movie you may have been led to believe that this movie was not too well done unfortunately if you read more than 3 lines into that same review you discovered the posters reason for disdain he she does not like the fact that the director is gay or that the production team smokes crackapparently so despite the fact that i have never written a review before i thought this movie deserved one based on its merits not the sexual orientation of its director lets go over a quick checklist first 1 great plot absolutely i wont give a shred of it away but the plot is highly compelling and definitely not what one would expect based on the commercials this is a thriller not a horror and it should be approached as such the story really will amaze you even more so because its true and the plot did stay quite faithful to the actual events 2 wonderful acting oh yes robin williams long ago broke free from the chains of the comedy type cast and he has since flourished in serious roles for which many people would have wrote him off just a decade ago he once again achieves high form in his role in the night listener playing a radio host who becomes increasingly troubled by and entangled in a case ofwell ill let you see for yourself 3 excellent direction certainly now unlike the other poster to which i referred i actually know something about direction ive been sutdying the art of direction at school now for 3 years of course i really dont think that makes a lick of difference the only thing that matters is if you like the direction but i thought i should simply establish once again that im basing my opinions here on something both substantial and relevantfor example not the sexual orientation of the director or the alleged drug habits of the production team lol patrick stettners direction was moody and dark and he allowed the angles and lighting to help create those so sought after feelings of tension and release rather than the messy fast paced camera work and quick cuts were so often subjected to today some people can truly show you a story through their camera while others feel as if they have to make the story with the camera i really appreciate when someone these days has the courage to just use the camera as its supposed to be utilized which is as an eyeball through which we all see 4 lighting cinematography and editing great all around ive already wrote so much and i could go on about these last three things for another ten paragraphs so ill just wrap it up in short go see this movie dont listen to people who have alterior motives for trashing it especially if theyre so stupid that they unknowingly reveal that motive 1 4 of the way through their post enjoy the show  ben'"
      ]
     },
     "execution_count": 9,
     "metadata": {},
     "output_type": "execute_result"
    }
   ],
   "source": [
    "review_to_words(train_X[100])"
   ]
  },
  {
   "cell_type": "code",
   "execution_count": 10,
   "metadata": {},
   "outputs": [],
   "source": [
    "import pickle\n",
    "\n",
    "cache_dir = os.path.join(\"../cache\", \"sentiment_web_app\")  # where to store cache files\n",
    "os.makedirs(cache_dir, exist_ok=True)  # ensure cache directory exists\n",
    "\n",
    "def preprocess_data(data_train, data_test, labels_train, labels_test,\n",
    "                    cache_dir=cache_dir, cache_file=\"preprocessed_data.pkl\"):\n",
    "    \"\"\"Convert each review to words; read from cache if available.\"\"\"\n",
    "\n",
    "    # If cache_file is not None, try to read from it first\n",
    "    cache_data = None\n",
    "    if cache_file is not None:\n",
    "        try:\n",
    "            with open(os.path.join(cache_dir, cache_file), \"rb\") as f:\n",
    "                cache_data = pickle.load(f)\n",
    "            print(\"Read preprocessed data from cache file:\", cache_file)\n",
    "        except:\n",
    "            pass  # unable to read from cache, but that's okay\n",
    "    \n",
    "    # If cache is missing, then do the heavy lifting\n",
    "    if cache_data is None:\n",
    "        # Preprocess training and test data to obtain words for each review\n",
    "        #words_train = list(map(review_to_words, data_train))\n",
    "        #words_test = list(map(review_to_words, data_test))\n",
    "        words_train = [review_to_words(review) for review in data_train]\n",
    "        words_test = [review_to_words(review) for review in data_test]\n",
    "        \n",
    "        # Write to cache file for future runs\n",
    "        if cache_file is not None:\n",
    "            cache_data = dict(words_train=words_train, words_test=words_test,\n",
    "                              labels_train=labels_train, labels_test=labels_test)\n",
    "            with open(os.path.join(cache_dir, cache_file), \"wb\") as f:\n",
    "                pickle.dump(cache_data, f)\n",
    "            print(\"Wrote preprocessed data to cache file:\", cache_file)\n",
    "    else:\n",
    "        # Unpack data loaded from cache file\n",
    "        words_train, words_test, labels_train, labels_test = (cache_data['words_train'],\n",
    "                cache_data['words_test'], cache_data['labels_train'], cache_data['labels_test'])\n",
    "    \n",
    "    return words_train, words_test, labels_train, labels_test"
   ]
  },
  {
   "cell_type": "code",
   "execution_count": 11,
   "metadata": {},
   "outputs": [
    {
     "name": "stdout",
     "output_type": "stream",
     "text": [
      "Wrote preprocessed data to cache file: preprocessed_data.pkl\n"
     ]
    }
   ],
   "source": [
    "# Preprocess data\n",
    "train_X, test_X, train_y, test_y = preprocess_data(train_X, test_X, train_y, test_y)"
   ]
  },
  {
   "cell_type": "markdown",
   "metadata": {},
   "source": [
    "### Extract Bag-of-Words features\n",
    "\n",
    "For the model we will be implementing, rather than using the reviews directly, we are going to transform each review into a Bag-of-Words feature representation. Keep in mind that 'in the wild' we will only have access to the training set so our transformer can only use the training set to construct a representation."
   ]
  },
  {
   "cell_type": "code",
   "execution_count": 12,
   "metadata": {},
   "outputs": [],
   "source": [
    "import numpy as np\n",
    "from sklearn.feature_extraction.text import CountVectorizer\n",
    "\n",
    "# sklearn.externals.joblib is deprecated in 0.21 and will be removed in 0.23. \n",
    "# from sklearn.externals import joblib\n",
    "\n",
    "# Import joblib package directly\n",
    "import joblib\n",
    "# joblib is an enhanced version of pickle that is more efficient for storing NumPy arrays\n",
    "\n",
    "def extract_BoW_features(words_train, words_test, vocabulary_size=5000,\n",
    "                         cache_dir=cache_dir, cache_file=\"bow_features.pkl\"):\n",
    "    \"\"\"Extract Bag-of-Words for a given set of documents, already preprocessed into words.\"\"\"\n",
    "    \n",
    "    # If cache_file is not None, try to read from it first\n",
    "    cache_data = None\n",
    "    if cache_file is not None:\n",
    "        try:\n",
    "            with open(os.path.join(cache_dir, cache_file), \"rb\") as f:\n",
    "                cache_data = joblib.load(f)\n",
    "            print(\"Read features from cache file:\", cache_file)\n",
    "        except:\n",
    "            pass  # unable to read from cache, but that's okay\n",
    "    \n",
    "    # If cache is missing, then do the heavy lifting\n",
    "    if cache_data is None:\n",
    "        # Fit a vectorizer to training documents and use it to transform them\n",
    "        # NOTE: Training documents have already been preprocessed and tokenized into words;\n",
    "        #       pass in dummy functions to skip those steps, e.g. preprocessor=lambda x: x\n",
    "        vectorizer = CountVectorizer(max_features=vocabulary_size)\n",
    "        features_train = vectorizer.fit_transform(words_train).toarray()\n",
    "\n",
    "        # Apply the same vectorizer to transform the test documents (ignore unknown words)\n",
    "        features_test = vectorizer.transform(words_test).toarray()\n",
    "        \n",
    "        # NOTE: Remember to convert the features using .toarray() for a compact representation\n",
    "        \n",
    "        # Write to cache file for future runs (store vocabulary as well)\n",
    "        if cache_file is not None:\n",
    "            vocabulary = vectorizer.vocabulary_\n",
    "            cache_data = dict(features_train=features_train, features_test=features_test,\n",
    "                             vocabulary=vocabulary)\n",
    "            with open(os.path.join(cache_dir, cache_file), \"wb\") as f:\n",
    "                joblib.dump(cache_data, f)\n",
    "            print(\"Wrote features to cache file:\", cache_file)\n",
    "    else:\n",
    "        # Unpack data loaded from cache file\n",
    "        features_train, features_test, vocabulary = (cache_data['features_train'],\n",
    "                cache_data['features_test'], cache_data['vocabulary'])\n",
    "    \n",
    "    # Return both the extracted features as well as the vocabulary\n",
    "    return features_train, features_test, vocabulary"
   ]
  },
  {
   "cell_type": "code",
   "execution_count": 13,
   "metadata": {},
   "outputs": [
    {
     "name": "stdout",
     "output_type": "stream",
     "text": [
      "Wrote features to cache file: bow_features.pkl\n"
     ]
    }
   ],
   "source": [
    "# Extract Bag of Words features for both training and test datasets\n",
    "train_X, test_X, vocabulary = extract_BoW_features(train_X, test_X)"
   ]
  },
  {
   "cell_type": "code",
   "execution_count": 14,
   "metadata": {},
   "outputs": [
    {
     "data": {
      "text/plain": [
       "5000"
      ]
     },
     "execution_count": 14,
     "metadata": {},
     "output_type": "execute_result"
    }
   ],
   "source": [
    "len(train_X[100])"
   ]
  },
  {
   "cell_type": "markdown",
   "metadata": {},
   "source": [
    "## Step 3: Upload data to S3\n",
    "\n",
    "Now that we have created the feature representation of our training (and testing) data, it is time to start setting up and using the XGBoost classifier provided by SageMaker.\n",
    "\n",
    "### Writing the datasets\n",
    "\n",
    "The XGBoost classifier that we will be using requires the dataset to be written to a file and stored using Amazon S3. To do this, we will start by splitting the training dataset into two parts, the data we will train the model with and a validation set. Then, we will write those datasets to a file locally and then upload the files to S3. In addition, we will write the test set to a file and upload that file to S3. This is so that we can use SageMakers Batch Transform functionality to test our model once we've fit it."
   ]
  },
  {
   "cell_type": "code",
   "execution_count": 15,
   "metadata": {},
   "outputs": [],
   "source": [
    "import pandas as pd\n",
    "\n",
    "# Earlier we shuffled the training dataset so to make things simple we can just assign\n",
    "# the first 10 000 reviews to the validation set and use the remaining reviews for training.\n",
    "val_X = pd.DataFrame(train_X[:10000])\n",
    "train_X = pd.DataFrame(train_X[10000:])\n",
    "\n",
    "val_y = pd.DataFrame(train_y[:10000])\n",
    "train_y = pd.DataFrame(train_y[10000:])"
   ]
  },
  {
   "cell_type": "markdown",
   "metadata": {},
   "source": [
    "The documentation for the XGBoost algorithm in SageMaker requires that the training and validation datasets should contain no headers or index and that the label should occur first for each sample.\n",
    "\n",
    "For more information about this and other algorithms, the SageMaker developer documentation can be found on __[Amazon's website.](https://docs.aws.amazon.com/sagemaker/latest/dg/)__"
   ]
  },
  {
   "cell_type": "code",
   "execution_count": 16,
   "metadata": {},
   "outputs": [],
   "source": [
    "# First we make sure that the local directory in which we'd like to store the training and validation csv files exists.\n",
    "data_dir = '../data/sentiment_web_app'\n",
    "if not os.path.exists(data_dir):\n",
    "    os.makedirs(data_dir)"
   ]
  },
  {
   "cell_type": "code",
   "execution_count": 17,
   "metadata": {},
   "outputs": [],
   "source": [
    "pd.DataFrame(test_X).to_csv(os.path.join(data_dir, 'test.csv'), header=False, index=False)\n",
    "\n",
    "pd.concat([val_y, val_X], axis=1).to_csv(os.path.join(data_dir, 'validation.csv'), header=False, index=False)\n",
    "pd.concat([train_y, train_X], axis=1).to_csv(os.path.join(data_dir, 'train.csv'), header=False, index=False)"
   ]
  },
  {
   "cell_type": "code",
   "execution_count": 18,
   "metadata": {},
   "outputs": [],
   "source": [
    "# To save a bit of memory we can set text_X, train_X, val_X, train_y and val_y to None.\n",
    "\n",
    "test_X = train_X = val_X = train_y = val_y = None"
   ]
  },
  {
   "cell_type": "markdown",
   "metadata": {},
   "source": [
    "### Uploading Training / Validation files to S3\n",
    "\n",
    "Amazon's S3 service allows us to store files that can be accessed by both the built-in training models such as the XGBoost model we will be using as well as custom models such as the one we will see a little later.\n",
    "\n",
    "For this and most other tasks we will be doing using SageMaker, there are two methods we could use. The first is to use the low level functionality of SageMaker which requires knowing each of the objects involved in the SageMaker environment. The second is to use the high level functionality in which certain choices have been made on the user's behalf. The low level approach benefits from allowing the user a great deal of flexibility while the high level approach makes development much quicker. For our purposes we will opt to use the high level approach although using the low-level approach is certainly an option.\n",
    "\n",
    "Recall the method `upload_data()` which is a member of the object representing our current SageMaker session. What this method does is upload the data to the default bucket (which is created if it does not exist) into the path described by the key_prefix variable. To see this for yourself, once you have uploaded the data files, go to the S3 console and look to see where the files have been uploaded.\n",
    "\n",
    "For additional resources, see the __[SageMaker API documentation](http://sagemaker.readthedocs.io/en/latest/)__ and in addition the __[SageMaker Developer Guide.](https://docs.aws.amazon.com/sagemaker/latest/dg/)__"
   ]
  },
  {
   "cell_type": "code",
   "execution_count": 19,
   "metadata": {},
   "outputs": [],
   "source": [
    "import sagemaker\n",
    "\n",
    "session = sagemaker.Session() # Store the current SageMaker session\n",
    "\n",
    "# S3 prefix (which folder will we use)\n",
    "prefix = 'sentiment-web-app'\n",
    "\n",
    "test_location = session.upload_data(os.path.join(data_dir, 'test.csv'), key_prefix=prefix)\n",
    "val_location = session.upload_data(os.path.join(data_dir, 'validation.csv'), key_prefix=prefix)\n",
    "train_location = session.upload_data(os.path.join(data_dir, 'train.csv'), key_prefix=prefix)"
   ]
  },
  {
   "cell_type": "markdown",
   "metadata": {},
   "source": [
    "## Step 4: Creating the XGBoost model\n",
    "\n",
    "Now that the data has been uploaded it is time to create the XGBoost model. To begin with, we need to do some setup. At this point it is worth discussing what a model is in SageMaker. It is easiest to think of a model of comprising three different objects in the SageMaker ecosystem, which interact with one another.\n",
    "\n",
    "- Model Artifacts\n",
    "- Training Code (Container)\n",
    "- Inference Code (Container)\n",
    "\n",
    "The Model Artifacts are what you might think of as the actual model itself. For example, if you were building a neural network, the model artifacts would be the weights of the various layers. In our case, for an XGBoost model, the artifacts are the actual trees that are created during training.\n",
    "\n",
    "The other two objects, the training code and the inference code are then used to manipulate the training artifacts. More precisely, the training code uses the training data that is provided and creates the model artifacts, while the inference code uses the model artifacts to make predictions on new data.\n",
    "\n",
    "The way that SageMaker runs the training and inference code is by making use of Docker containers. For now, think of a container as being a way of packaging code up so that dependencies aren't an issue."
   ]
  },
  {
   "cell_type": "code",
   "execution_count": 20,
   "metadata": {},
   "outputs": [],
   "source": [
    "from sagemaker import get_execution_role\n",
    "\n",
    "# Our current execution role is required when creating the model as the training\n",
    "# and inference code will need to access the model artifacts.\n",
    "role = get_execution_role()"
   ]
  },
  {
   "cell_type": "code",
   "execution_count": 21,
   "metadata": {},
   "outputs": [
    {
     "name": "stderr",
     "output_type": "stream",
     "text": [
      "'get_image_uri' method will be deprecated in favor of 'ImageURIProvider' class in SageMaker Python SDK v2.\n",
      "There is a more up to date SageMaker XGBoost image. To use the newer image, please set 'repo_version'='1.0-1'. For example:\n",
      "\tget_image_uri(region, 'xgboost', '1.0-1').\n"
     ]
    }
   ],
   "source": [
    "# We need to retrieve the location of the container which is provided by Amazon for using XGBoost.\n",
    "# As a matter of convenience, the training and inference code both use the same container.\n",
    "from sagemaker.amazon.amazon_estimator import get_image_uri\n",
    "\n",
    "container = get_image_uri(session.boto_region_name, 'xgboost')"
   ]
  },
  {
   "cell_type": "code",
   "execution_count": 22,
   "metadata": {},
   "outputs": [
    {
     "name": "stderr",
     "output_type": "stream",
     "text": [
      "Parameter image_name will be renamed to image_uri in SageMaker Python SDK v2.\n"
     ]
    }
   ],
   "source": [
    "# First we create a SageMaker estimator object for our model.\n",
    "xgb = sagemaker.estimator.Estimator(container, # The location of the container we wish to use\n",
    "                                    role,                                    # What is our current IAM Role\n",
    "                                    train_instance_count=1,                  # How many compute instances\n",
    "                                    train_instance_type='ml.m4.xlarge',      # What kind of compute instances\n",
    "                                    output_path='s3://{}/{}/output'.format(session.default_bucket(), prefix),\n",
    "                                    sagemaker_session=session)\n",
    "\n",
    "# And then set the algorithm specific parameters.\n",
    "xgb.set_hyperparameters(max_depth=5,\n",
    "                        eta=0.2,\n",
    "                        gamma=4,\n",
    "                        min_child_weight=6,\n",
    "                        subsample=0.8,\n",
    "                        silent=0,\n",
    "                        objective='binary:logistic',\n",
    "                        early_stopping_rounds=10,\n",
    "                        num_round=500)"
   ]
  },
  {
   "cell_type": "markdown",
   "metadata": {},
   "source": [
    "### Fit the XGBoost model\n",
    "\n",
    "Now that our model has been set up we simply need to attach the training and validation datasets and then ask SageMaker to set up the computation."
   ]
  },
  {
   "cell_type": "code",
   "execution_count": 23,
   "metadata": {},
   "outputs": [
    {
     "name": "stderr",
     "output_type": "stream",
     "text": [
      "'s3_input' class will be renamed to 'TrainingInput' in SageMaker Python SDK v2.\n",
      "'s3_input' class will be renamed to 'TrainingInput' in SageMaker Python SDK v2.\n"
     ]
    }
   ],
   "source": [
    "s3_input_train = sagemaker.s3_input(s3_data=train_location, content_type='csv')\n",
    "s3_input_validation = sagemaker.s3_input(s3_data=val_location, content_type='csv')"
   ]
  },
  {
   "cell_type": "code",
   "execution_count": 24,
   "metadata": {},
   "outputs": [
    {
     "name": "stdout",
     "output_type": "stream",
     "text": [
      "2021-03-07 00:49:50 Starting - Starting the training job...\n",
      "2021-03-07 00:49:54 Starting - Launching requested ML instances......\n",
      "2021-03-07 00:50:59 Starting - Preparing the instances for training...\n",
      "2021-03-07 00:51:50 Downloading - Downloading input data...\n",
      "2021-03-07 00:52:14 Training - Downloading the training image...\u001b[34mArguments: train\u001b[0m\n",
      "\u001b[34m[2021-03-07:00:52:35:INFO] Running standalone xgboost training.\u001b[0m\n",
      "\u001b[34m[2021-03-07:00:52:35:INFO] File size need to be processed in the node: 238.5mb. Available memory size in the node: 8426.8mb\u001b[0m\n",
      "\u001b[34m[2021-03-07:00:52:35:INFO] Determined delimiter of CSV input is ','\u001b[0m\n",
      "\u001b[34m[00:52:35] S3DistributionType set as FullyReplicated\u001b[0m\n",
      "\u001b[34m[00:52:37] 15000x5000 matrix with 75000000 entries loaded from /opt/ml/input/data/train?format=csv&label_column=0&delimiter=,\u001b[0m\n",
      "\u001b[34m[2021-03-07:00:52:37:INFO] Determined delimiter of CSV input is ','\u001b[0m\n",
      "\u001b[34m[00:52:37] S3DistributionType set as FullyReplicated\u001b[0m\n",
      "\u001b[34m[00:52:39] 10000x5000 matrix with 50000000 entries loaded from /opt/ml/input/data/validation?format=csv&label_column=0&delimiter=,\u001b[0m\n",
      "\u001b[34m[00:52:42] src/tree/updater_prune.cc:74: tree pruning end, 1 roots, 38 extra nodes, 12 pruned nodes, max_depth=5\u001b[0m\n",
      "\u001b[34m[0]#011train-error:0.309733#011validation-error:0.308\u001b[0m\n",
      "\u001b[34mMultiple eval metrics have been passed: 'validation-error' will be used for early stopping.\n",
      "\u001b[0m\n",
      "\u001b[34mWill train until validation-error hasn't improved in 10 rounds.\u001b[0m\n",
      "\u001b[34m[00:52:44] src/tree/updater_prune.cc:74: tree pruning end, 1 roots, 48 extra nodes, 2 pruned nodes, max_depth=5\u001b[0m\n",
      "\u001b[34m[1]#011train-error:0.2812#011validation-error:0.2865\u001b[0m\n",
      "\u001b[34m[00:52:45] src/tree/updater_prune.cc:74: tree pruning end, 1 roots, 36 extra nodes, 6 pruned nodes, max_depth=5\u001b[0m\n",
      "\u001b[34m[2]#011train-error:0.282533#011validation-error:0.287\u001b[0m\n",
      "\u001b[34m[00:52:47] src/tree/updater_prune.cc:74: tree pruning end, 1 roots, 30 extra nodes, 8 pruned nodes, max_depth=5\u001b[0m\n",
      "\u001b[34m[3]#011train-error:0.274933#011validation-error:0.2803\u001b[0m\n",
      "\u001b[34m[00:52:48] src/tree/updater_prune.cc:74: tree pruning end, 1 roots, 46 extra nodes, 2 pruned nodes, max_depth=5\u001b[0m\n",
      "\u001b[34m[4]#011train-error:0.261867#011validation-error:0.2725\u001b[0m\n",
      "\u001b[34m[00:52:50] src/tree/updater_prune.cc:74: tree pruning end, 1 roots, 32 extra nodes, 6 pruned nodes, max_depth=5\u001b[0m\n",
      "\u001b[34m[5]#011train-error:0.250533#011validation-error:0.2618\u001b[0m\n",
      "\u001b[34m[00:52:51] src/tree/updater_prune.cc:74: tree pruning end, 1 roots, 30 extra nodes, 4 pruned nodes, max_depth=5\u001b[0m\n",
      "\u001b[34m[6]#011train-error:0.242467#011validation-error:0.257\u001b[0m\n",
      "\u001b[34m[00:52:52] src/tree/updater_prune.cc:74: tree pruning end, 1 roots, 40 extra nodes, 2 pruned nodes, max_depth=5\u001b[0m\n",
      "\u001b[34m[7]#011train-error:0.238533#011validation-error:0.2555\u001b[0m\n",
      "\u001b[34m[00:52:53] src/tree/updater_prune.cc:74: tree pruning end, 1 roots, 36 extra nodes, 8 pruned nodes, max_depth=5\u001b[0m\n",
      "\u001b[34m[8]#011train-error:0.231533#011validation-error:0.2468\u001b[0m\n",
      "\u001b[34m[00:52:55] src/tree/updater_prune.cc:74: tree pruning end, 1 roots, 28 extra nodes, 4 pruned nodes, max_depth=5\u001b[0m\n",
      "\u001b[34m[9]#011train-error:0.221933#011validation-error:0.2387\u001b[0m\n",
      "\u001b[34m[00:52:56] src/tree/updater_prune.cc:74: tree pruning end, 1 roots, 30 extra nodes, 6 pruned nodes, max_depth=5\u001b[0m\n",
      "\u001b[34m[10]#011train-error:0.2176#011validation-error:0.2336\u001b[0m\n",
      "\u001b[34m[00:52:57] src/tree/updater_prune.cc:74: tree pruning end, 1 roots, 36 extra nodes, 2 pruned nodes, max_depth=5\u001b[0m\n",
      "\u001b[34m[11]#011train-error:0.214267#011validation-error:0.2339\u001b[0m\n",
      "\u001b[34m[00:52:59] src/tree/updater_prune.cc:74: tree pruning end, 1 roots, 18 extra nodes, 12 pruned nodes, max_depth=5\u001b[0m\n",
      "\u001b[34m[12]#011train-error:0.212933#011validation-error:0.232\u001b[0m\n",
      "\u001b[34m[00:53:00] src/tree/updater_prune.cc:74: tree pruning end, 1 roots, 44 extra nodes, 4 pruned nodes, max_depth=5\u001b[0m\n",
      "\u001b[34m[13]#011train-error:0.208533#011validation-error:0.2316\u001b[0m\n",
      "\u001b[34m[00:53:01] src/tree/updater_prune.cc:74: tree pruning end, 1 roots, 34 extra nodes, 10 pruned nodes, max_depth=5\u001b[0m\n",
      "\u001b[34m[14]#011train-error:0.2028#011validation-error:0.2306\u001b[0m\n",
      "\u001b[34m[00:53:03] src/tree/updater_prune.cc:74: tree pruning end, 1 roots, 28 extra nodes, 6 pruned nodes, max_depth=5\u001b[0m\n",
      "\u001b[34m[15]#011train-error:0.196267#011validation-error:0.2255\u001b[0m\n",
      "\u001b[34m[00:53:04] src/tree/updater_prune.cc:74: tree pruning end, 1 roots, 32 extra nodes, 0 pruned nodes, max_depth=5\u001b[0m\n",
      "\u001b[34m[16]#011train-error:0.191467#011validation-error:0.2233\u001b[0m\n",
      "\u001b[34m[00:53:06] src/tree/updater_prune.cc:74: tree pruning end, 1 roots, 26 extra nodes, 8 pruned nodes, max_depth=5\u001b[0m\n",
      "\u001b[34m[17]#011train-error:0.1894#011validation-error:0.2203\u001b[0m\n",
      "\u001b[34m[00:53:07] src/tree/updater_prune.cc:74: tree pruning end, 1 roots, 38 extra nodes, 2 pruned nodes, max_depth=5\u001b[0m\n",
      "\u001b[34m[18]#011train-error:0.1882#011validation-error:0.217\u001b[0m\n",
      "\n",
      "2021-03-07 00:52:54 Training - Training image download completed. Training in progress.\u001b[34m[00:53:09] src/tree/updater_prune.cc:74: tree pruning end, 1 roots, 40 extra nodes, 12 pruned nodes, max_depth=5\u001b[0m\n",
      "\u001b[34m[19]#011train-error:0.185#011validation-error:0.2145\u001b[0m\n",
      "\u001b[34m[00:53:10] src/tree/updater_prune.cc:74: tree pruning end, 1 roots, 22 extra nodes, 10 pruned nodes, max_depth=5\u001b[0m\n",
      "\u001b[34m[20]#011train-error:0.1828#011validation-error:0.2107\u001b[0m\n",
      "\u001b[34m[00:53:11] src/tree/updater_prune.cc:74: tree pruning end, 1 roots, 34 extra nodes, 8 pruned nodes, max_depth=5\u001b[0m\n",
      "\u001b[34m[21]#011train-error:0.178267#011validation-error:0.2083\u001b[0m\n",
      "\u001b[34m[00:53:13] src/tree/updater_prune.cc:74: tree pruning end, 1 roots, 20 extra nodes, 12 pruned nodes, max_depth=5\u001b[0m\n",
      "\u001b[34m[22]#011train-error:0.177133#011validation-error:0.2068\u001b[0m\n",
      "\u001b[34m[00:53:14] src/tree/updater_prune.cc:74: tree pruning end, 1 roots, 24 extra nodes, 8 pruned nodes, max_depth=5\u001b[0m\n",
      "\u001b[34m[23]#011train-error:0.176#011validation-error:0.2071\u001b[0m\n",
      "\u001b[34m[00:53:15] src/tree/updater_prune.cc:74: tree pruning end, 1 roots, 20 extra nodes, 6 pruned nodes, max_depth=5\u001b[0m\n",
      "\u001b[34m[24]#011train-error:0.1746#011validation-error:0.2054\u001b[0m\n",
      "\u001b[34m[00:53:17] src/tree/updater_prune.cc:74: tree pruning end, 1 roots, 26 extra nodes, 12 pruned nodes, max_depth=5\u001b[0m\n",
      "\u001b[34m[25]#011train-error:0.171733#011validation-error:0.204\u001b[0m\n",
      "\u001b[34m[00:53:18] src/tree/updater_prune.cc:74: tree pruning end, 1 roots, 42 extra nodes, 6 pruned nodes, max_depth=5\u001b[0m\n",
      "\u001b[34m[26]#011train-error:0.1694#011validation-error:0.2033\u001b[0m\n",
      "\u001b[34m[00:53:19] src/tree/updater_prune.cc:74: tree pruning end, 1 roots, 28 extra nodes, 12 pruned nodes, max_depth=5\u001b[0m\n",
      "\u001b[34m[27]#011train-error:0.1696#011validation-error:0.2026\u001b[0m\n",
      "\u001b[34m[00:53:21] src/tree/updater_prune.cc:74: tree pruning end, 1 roots, 24 extra nodes, 12 pruned nodes, max_depth=5\u001b[0m\n",
      "\u001b[34m[28]#011train-error:0.168#011validation-error:0.2002\u001b[0m\n",
      "\u001b[34m[00:53:22] src/tree/updater_prune.cc:74: tree pruning end, 1 roots, 14 extra nodes, 8 pruned nodes, max_depth=5\u001b[0m\n",
      "\u001b[34m[29]#011train-error:0.165867#011validation-error:0.1986\u001b[0m\n",
      "\u001b[34m[00:53:23] src/tree/updater_prune.cc:74: tree pruning end, 1 roots, 14 extra nodes, 4 pruned nodes, max_depth=5\u001b[0m\n",
      "\u001b[34m[30]#011train-error:0.163467#011validation-error:0.1977\u001b[0m\n",
      "\u001b[34m[00:53:24] src/tree/updater_prune.cc:74: tree pruning end, 1 roots, 24 extra nodes, 6 pruned nodes, max_depth=5\u001b[0m\n",
      "\u001b[34m[31]#011train-error:0.1624#011validation-error:0.1941\u001b[0m\n",
      "\u001b[34m[00:53:26] src/tree/updater_prune.cc:74: tree pruning end, 1 roots, 36 extra nodes, 6 pruned nodes, max_depth=5\u001b[0m\n",
      "\u001b[34m[32]#011train-error:0.1592#011validation-error:0.1928\u001b[0m\n",
      "\u001b[34m[00:53:27] src/tree/updater_prune.cc:74: tree pruning end, 1 roots, 30 extra nodes, 6 pruned nodes, max_depth=5\u001b[0m\n",
      "\u001b[34m[33]#011train-error:0.1586#011validation-error:0.1933\u001b[0m\n",
      "\u001b[34m[00:53:28] src/tree/updater_prune.cc:74: tree pruning end, 1 roots, 24 extra nodes, 10 pruned nodes, max_depth=5\u001b[0m\n",
      "\u001b[34m[34]#011train-error:0.157467#011validation-error:0.1924\u001b[0m\n",
      "\u001b[34m[00:53:30] src/tree/updater_prune.cc:74: tree pruning end, 1 roots, 12 extra nodes, 8 pruned nodes, max_depth=5\u001b[0m\n",
      "\u001b[34m[35]#011train-error:0.1558#011validation-error:0.191\u001b[0m\n",
      "\u001b[34m[00:53:31] src/tree/updater_prune.cc:74: tree pruning end, 1 roots, 18 extra nodes, 8 pruned nodes, max_depth=5\u001b[0m\n",
      "\u001b[34m[36]#011train-error:0.154533#011validation-error:0.1909\u001b[0m\n",
      "\u001b[34m[00:53:32] src/tree/updater_prune.cc:74: tree pruning end, 1 roots, 24 extra nodes, 10 pruned nodes, max_depth=5\u001b[0m\n",
      "\u001b[34m[37]#011train-error:0.154667#011validation-error:0.1901\u001b[0m\n",
      "\u001b[34m[00:53:34] src/tree/updater_prune.cc:74: tree pruning end, 1 roots, 22 extra nodes, 8 pruned nodes, max_depth=5\u001b[0m\n",
      "\u001b[34m[38]#011train-error:0.152933#011validation-error:0.1889\u001b[0m\n",
      "\u001b[34m[00:53:35] src/tree/updater_prune.cc:74: tree pruning end, 1 roots, 18 extra nodes, 8 pruned nodes, max_depth=5\u001b[0m\n",
      "\u001b[34m[39]#011train-error:0.153067#011validation-error:0.1887\u001b[0m\n",
      "\u001b[34m[00:53:36] src/tree/updater_prune.cc:74: tree pruning end, 1 roots, 26 extra nodes, 2 pruned nodes, max_depth=5\u001b[0m\n",
      "\u001b[34m[40]#011train-error:0.150733#011validation-error:0.1902\u001b[0m\n",
      "\u001b[34m[00:53:37] src/tree/updater_prune.cc:74: tree pruning end, 1 roots, 40 extra nodes, 10 pruned nodes, max_depth=5\u001b[0m\n",
      "\u001b[34m[41]#011train-error:0.148867#011validation-error:0.1886\u001b[0m\n"
     ]
    },
    {
     "name": "stdout",
     "output_type": "stream",
     "text": [
      "\u001b[34m[00:53:39] src/tree/updater_prune.cc:74: tree pruning end, 1 roots, 32 extra nodes, 4 pruned nodes, max_depth=5\u001b[0m\n",
      "\u001b[34m[42]#011train-error:0.1476#011validation-error:0.1871\u001b[0m\n",
      "\u001b[34m[00:53:40] src/tree/updater_prune.cc:74: tree pruning end, 1 roots, 28 extra nodes, 4 pruned nodes, max_depth=5\u001b[0m\n",
      "\u001b[34m[43]#011train-error:0.145667#011validation-error:0.1886\u001b[0m\n",
      "\u001b[34m[00:53:41] src/tree/updater_prune.cc:74: tree pruning end, 1 roots, 24 extra nodes, 14 pruned nodes, max_depth=5\u001b[0m\n",
      "\u001b[34m[44]#011train-error:0.1438#011validation-error:0.1862\u001b[0m\n",
      "\u001b[34m[00:53:43] src/tree/updater_prune.cc:74: tree pruning end, 1 roots, 22 extra nodes, 10 pruned nodes, max_depth=5\u001b[0m\n",
      "\u001b[34m[45]#011train-error:0.142733#011validation-error:0.1857\u001b[0m\n",
      "\u001b[34m[00:53:44] src/tree/updater_prune.cc:74: tree pruning end, 1 roots, 18 extra nodes, 6 pruned nodes, max_depth=5\u001b[0m\n",
      "\u001b[34m[46]#011train-error:0.142733#011validation-error:0.1854\u001b[0m\n",
      "\u001b[34m[00:53:45] src/tree/updater_prune.cc:74: tree pruning end, 1 roots, 16 extra nodes, 10 pruned nodes, max_depth=5\u001b[0m\n",
      "\u001b[34m[47]#011train-error:0.141867#011validation-error:0.1829\u001b[0m\n",
      "\u001b[34m[00:53:47] src/tree/updater_prune.cc:74: tree pruning end, 1 roots, 22 extra nodes, 8 pruned nodes, max_depth=5\u001b[0m\n",
      "\u001b[34m[48]#011train-error:0.141667#011validation-error:0.1824\u001b[0m\n",
      "\u001b[34m[00:53:48] src/tree/updater_prune.cc:74: tree pruning end, 1 roots, 18 extra nodes, 8 pruned nodes, max_depth=5\u001b[0m\n",
      "\u001b[34m[49]#011train-error:0.140733#011validation-error:0.1825\u001b[0m\n",
      "\u001b[34m[00:53:49] src/tree/updater_prune.cc:74: tree pruning end, 1 roots, 22 extra nodes, 8 pruned nodes, max_depth=5\u001b[0m\n",
      "\u001b[34m[50]#011train-error:0.138867#011validation-error:0.182\u001b[0m\n",
      "\u001b[34m[00:53:51] src/tree/updater_prune.cc:74: tree pruning end, 1 roots, 14 extra nodes, 12 pruned nodes, max_depth=5\u001b[0m\n",
      "\u001b[34m[51]#011train-error:0.1382#011validation-error:0.1814\u001b[0m\n",
      "\u001b[34m[00:53:52] src/tree/updater_prune.cc:74: tree pruning end, 1 roots, 32 extra nodes, 8 pruned nodes, max_depth=5\u001b[0m\n",
      "\u001b[34m[52]#011train-error:0.136933#011validation-error:0.1817\u001b[0m\n",
      "\u001b[34m[00:53:53] src/tree/updater_prune.cc:74: tree pruning end, 1 roots, 12 extra nodes, 10 pruned nodes, max_depth=5\u001b[0m\n",
      "\u001b[34m[53]#011train-error:0.1354#011validation-error:0.1797\u001b[0m\n",
      "\u001b[34m[00:53:54] src/tree/updater_prune.cc:74: tree pruning end, 1 roots, 30 extra nodes, 10 pruned nodes, max_depth=5\u001b[0m\n",
      "\u001b[34m[54]#011train-error:0.134467#011validation-error:0.1786\u001b[0m\n",
      "\u001b[34m[00:53:56] src/tree/updater_prune.cc:74: tree pruning end, 1 roots, 32 extra nodes, 6 pruned nodes, max_depth=5\u001b[0m\n",
      "\u001b[34m[55]#011train-error:0.132133#011validation-error:0.1764\u001b[0m\n",
      "\u001b[34m[00:53:57] src/tree/updater_prune.cc:74: tree pruning end, 1 roots, 16 extra nodes, 6 pruned nodes, max_depth=5\u001b[0m\n",
      "\u001b[34m[56]#011train-error:0.131667#011validation-error:0.1758\u001b[0m\n",
      "\u001b[34m[00:53:58] src/tree/updater_prune.cc:74: tree pruning end, 1 roots, 24 extra nodes, 10 pruned nodes, max_depth=5\u001b[0m\n",
      "\u001b[34m[57]#011train-error:0.130467#011validation-error:0.1743\u001b[0m\n",
      "\u001b[34m[00:54:00] src/tree/updater_prune.cc:74: tree pruning end, 1 roots, 18 extra nodes, 8 pruned nodes, max_depth=5\u001b[0m\n",
      "\u001b[34m[58]#011train-error:0.129#011validation-error:0.1743\u001b[0m\n",
      "\u001b[34m[00:54:01] src/tree/updater_prune.cc:74: tree pruning end, 1 roots, 20 extra nodes, 8 pruned nodes, max_depth=5\u001b[0m\n",
      "\u001b[34m[59]#011train-error:0.128867#011validation-error:0.1729\u001b[0m\n",
      "\u001b[34m[00:54:02] src/tree/updater_prune.cc:74: tree pruning end, 1 roots, 16 extra nodes, 8 pruned nodes, max_depth=5\u001b[0m\n",
      "\u001b[34m[60]#011train-error:0.128933#011validation-error:0.1716\u001b[0m\n",
      "\u001b[34m[00:54:04] src/tree/updater_prune.cc:74: tree pruning end, 1 roots, 26 extra nodes, 12 pruned nodes, max_depth=5\u001b[0m\n",
      "\u001b[34m[61]#011train-error:0.127333#011validation-error:0.1708\u001b[0m\n",
      "\u001b[34m[00:54:05] src/tree/updater_prune.cc:74: tree pruning end, 1 roots, 34 extra nodes, 6 pruned nodes, max_depth=5\u001b[0m\n",
      "\u001b[34m[62]#011train-error:0.125867#011validation-error:0.1705\u001b[0m\n",
      "\u001b[34m[00:54:07] src/tree/updater_prune.cc:74: tree pruning end, 1 roots, 24 extra nodes, 4 pruned nodes, max_depth=5\u001b[0m\n",
      "\u001b[34m[63]#011train-error:0.125467#011validation-error:0.1696\u001b[0m\n",
      "\u001b[34m[00:54:08] src/tree/updater_prune.cc:74: tree pruning end, 1 roots, 22 extra nodes, 10 pruned nodes, max_depth=5\u001b[0m\n",
      "\u001b[34m[64]#011train-error:0.124333#011validation-error:0.1687\u001b[0m\n",
      "\u001b[34m[00:54:09] src/tree/updater_prune.cc:74: tree pruning end, 1 roots, 28 extra nodes, 10 pruned nodes, max_depth=5\u001b[0m\n",
      "\u001b[34m[65]#011train-error:0.1226#011validation-error:0.1686\u001b[0m\n",
      "\u001b[34m[00:54:11] src/tree/updater_prune.cc:74: tree pruning end, 1 roots, 22 extra nodes, 12 pruned nodes, max_depth=5\u001b[0m\n",
      "\u001b[34m[66]#011train-error:0.121733#011validation-error:0.1683\u001b[0m\n",
      "\u001b[34m[00:54:12] src/tree/updater_prune.cc:74: tree pruning end, 1 roots, 24 extra nodes, 12 pruned nodes, max_depth=5\u001b[0m\n",
      "\u001b[34m[67]#011train-error:0.1212#011validation-error:0.1686\u001b[0m\n",
      "\u001b[34m[00:54:13] src/tree/updater_prune.cc:74: tree pruning end, 1 roots, 12 extra nodes, 2 pruned nodes, max_depth=5\u001b[0m\n",
      "\u001b[34m[68]#011train-error:0.120867#011validation-error:0.1687\u001b[0m\n",
      "\u001b[34m[00:54:15] src/tree/updater_prune.cc:74: tree pruning end, 1 roots, 24 extra nodes, 10 pruned nodes, max_depth=5\u001b[0m\n",
      "\u001b[34m[69]#011train-error:0.1202#011validation-error:0.1696\u001b[0m\n",
      "\u001b[34m[00:54:16] src/tree/updater_prune.cc:74: tree pruning end, 1 roots, 22 extra nodes, 16 pruned nodes, max_depth=5\u001b[0m\n",
      "\u001b[34m[70]#011train-error:0.119733#011validation-error:0.1688\u001b[0m\n",
      "\u001b[34m[00:54:17] src/tree/updater_prune.cc:74: tree pruning end, 1 roots, 22 extra nodes, 14 pruned nodes, max_depth=5\u001b[0m\n",
      "\u001b[34m[71]#011train-error:0.1192#011validation-error:0.1681\u001b[0m\n",
      "\u001b[34m[00:54:19] src/tree/updater_prune.cc:74: tree pruning end, 1 roots, 14 extra nodes, 6 pruned nodes, max_depth=5\u001b[0m\n",
      "\u001b[34m[72]#011train-error:0.119#011validation-error:0.1676\u001b[0m\n",
      "\u001b[34m[00:54:20] src/tree/updater_prune.cc:74: tree pruning end, 1 roots, 16 extra nodes, 6 pruned nodes, max_depth=5\u001b[0m\n",
      "\u001b[34m[73]#011train-error:0.1178#011validation-error:0.1674\u001b[0m\n",
      "\u001b[34m[00:54:21] src/tree/updater_prune.cc:74: tree pruning end, 1 roots, 16 extra nodes, 12 pruned nodes, max_depth=5\u001b[0m\n",
      "\u001b[34m[74]#011train-error:0.118067#011validation-error:0.1676\u001b[0m\n",
      "\u001b[34m[00:54:23] src/tree/updater_prune.cc:74: tree pruning end, 1 roots, 14 extra nodes, 4 pruned nodes, max_depth=5\u001b[0m\n",
      "\u001b[34m[75]#011train-error:0.117733#011validation-error:0.1668\u001b[0m\n",
      "\u001b[34m[00:54:24] src/tree/updater_prune.cc:74: tree pruning end, 1 roots, 12 extra nodes, 8 pruned nodes, max_depth=5\u001b[0m\n",
      "\u001b[34m[76]#011train-error:0.117867#011validation-error:0.1663\u001b[0m\n",
      "\u001b[34m[00:54:25] src/tree/updater_prune.cc:74: tree pruning end, 1 roots, 20 extra nodes, 14 pruned nodes, max_depth=5\u001b[0m\n",
      "\u001b[34m[77]#011train-error:0.117267#011validation-error:0.1652\u001b[0m\n",
      "\u001b[34m[00:54:26] src/tree/updater_prune.cc:74: tree pruning end, 1 roots, 22 extra nodes, 6 pruned nodes, max_depth=5\u001b[0m\n",
      "\u001b[34m[78]#011train-error:0.1168#011validation-error:0.164\u001b[0m\n",
      "\u001b[34m[00:54:28] src/tree/updater_prune.cc:74: tree pruning end, 1 roots, 32 extra nodes, 6 pruned nodes, max_depth=5\u001b[0m\n",
      "\u001b[34m[79]#011train-error:0.115667#011validation-error:0.1642\u001b[0m\n",
      "\u001b[34m[00:54:29] src/tree/updater_prune.cc:74: tree pruning end, 1 roots, 18 extra nodes, 6 pruned nodes, max_depth=5\u001b[0m\n",
      "\u001b[34m[80]#011train-error:0.1148#011validation-error:0.1633\u001b[0m\n",
      "\u001b[34m[00:54:30] src/tree/updater_prune.cc:74: tree pruning end, 1 roots, 18 extra nodes, 4 pruned nodes, max_depth=5\u001b[0m\n",
      "\u001b[34m[81]#011train-error:0.114#011validation-error:0.1632\u001b[0m\n",
      "\u001b[34m[00:54:32] src/tree/updater_prune.cc:74: tree pruning end, 1 roots, 18 extra nodes, 4 pruned nodes, max_depth=5\u001b[0m\n",
      "\u001b[34m[82]#011train-error:0.113#011validation-error:0.1625\u001b[0m\n",
      "\u001b[34m[00:54:33] src/tree/updater_prune.cc:74: tree pruning end, 1 roots, 26 extra nodes, 2 pruned nodes, max_depth=5\u001b[0m\n",
      "\u001b[34m[83]#011train-error:0.111867#011validation-error:0.162\u001b[0m\n",
      "\u001b[34m[00:54:34] src/tree/updater_prune.cc:74: tree pruning end, 1 roots, 14 extra nodes, 12 pruned nodes, max_depth=5\u001b[0m\n",
      "\u001b[34m[84]#011train-error:0.1116#011validation-error:0.1617\u001b[0m\n",
      "\u001b[34m[00:54:36] src/tree/updater_prune.cc:74: tree pruning end, 1 roots, 14 extra nodes, 8 pruned nodes, max_depth=5\u001b[0m\n",
      "\u001b[34m[85]#011train-error:0.111067#011validation-error:0.1611\u001b[0m\n",
      "\u001b[34m[00:54:37] src/tree/updater_prune.cc:74: tree pruning end, 1 roots, 18 extra nodes, 8 pruned nodes, max_depth=5\u001b[0m\n",
      "\u001b[34m[86]#011train-error:0.110133#011validation-error:0.1606\u001b[0m\n",
      "\u001b[34m[00:54:38] src/tree/updater_prune.cc:74: tree pruning end, 1 roots, 22 extra nodes, 10 pruned nodes, max_depth=5\u001b[0m\n",
      "\u001b[34m[87]#011train-error:0.110267#011validation-error:0.1599\u001b[0m\n",
      "\u001b[34m[00:54:39] src/tree/updater_prune.cc:74: tree pruning end, 1 roots, 14 extra nodes, 16 pruned nodes, max_depth=5\u001b[0m\n",
      "\u001b[34m[88]#011train-error:0.1094#011validation-error:0.1603\u001b[0m\n"
     ]
    },
    {
     "name": "stdout",
     "output_type": "stream",
     "text": [
      "\u001b[34m[00:54:41] src/tree/updater_prune.cc:74: tree pruning end, 1 roots, 20 extra nodes, 6 pruned nodes, max_depth=5\u001b[0m\n",
      "\u001b[34m[89]#011train-error:0.108933#011validation-error:0.1593\u001b[0m\n",
      "\u001b[34m[00:54:42] src/tree/updater_prune.cc:74: tree pruning end, 1 roots, 12 extra nodes, 8 pruned nodes, max_depth=5\u001b[0m\n",
      "\u001b[34m[90]#011train-error:0.108267#011validation-error:0.1585\u001b[0m\n",
      "\u001b[34m[00:54:43] src/tree/updater_prune.cc:74: tree pruning end, 1 roots, 18 extra nodes, 14 pruned nodes, max_depth=5\u001b[0m\n",
      "\u001b[34m[91]#011train-error:0.107733#011validation-error:0.1585\u001b[0m\n",
      "\u001b[34m[00:54:45] src/tree/updater_prune.cc:74: tree pruning end, 1 roots, 12 extra nodes, 6 pruned nodes, max_depth=5\u001b[0m\n",
      "\u001b[34m[92]#011train-error:0.107467#011validation-error:0.1579\u001b[0m\n",
      "\u001b[34m[00:54:46] src/tree/updater_prune.cc:74: tree pruning end, 1 roots, 14 extra nodes, 8 pruned nodes, max_depth=5\u001b[0m\n",
      "\u001b[34m[93]#011train-error:0.1072#011validation-error:0.1576\u001b[0m\n",
      "\u001b[34m[00:54:47] src/tree/updater_prune.cc:74: tree pruning end, 1 roots, 22 extra nodes, 2 pruned nodes, max_depth=5\u001b[0m\n",
      "\u001b[34m[94]#011train-error:0.106933#011validation-error:0.1575\u001b[0m\n",
      "\u001b[34m[00:54:48] src/tree/updater_prune.cc:74: tree pruning end, 1 roots, 24 extra nodes, 10 pruned nodes, max_depth=5\u001b[0m\n",
      "\u001b[34m[95]#011train-error:0.1074#011validation-error:0.1572\u001b[0m\n",
      "\u001b[34m[00:54:50] src/tree/updater_prune.cc:74: tree pruning end, 1 roots, 20 extra nodes, 10 pruned nodes, max_depth=5\u001b[0m\n",
      "\u001b[34m[96]#011train-error:0.106467#011validation-error:0.1569\u001b[0m\n",
      "\u001b[34m[00:54:51] src/tree/updater_prune.cc:74: tree pruning end, 1 roots, 34 extra nodes, 20 pruned nodes, max_depth=5\u001b[0m\n",
      "\u001b[34m[97]#011train-error:0.1058#011validation-error:0.1565\u001b[0m\n",
      "\u001b[34m[00:54:52] src/tree/updater_prune.cc:74: tree pruning end, 1 roots, 16 extra nodes, 10 pruned nodes, max_depth=5\u001b[0m\n",
      "\u001b[34m[98]#011train-error:0.105067#011validation-error:0.1565\u001b[0m\n",
      "\u001b[34m[00:54:54] src/tree/updater_prune.cc:74: tree pruning end, 1 roots, 12 extra nodes, 12 pruned nodes, max_depth=5\u001b[0m\n",
      "\u001b[34m[99]#011train-error:0.104133#011validation-error:0.1565\u001b[0m\n",
      "\u001b[34m[00:54:55] src/tree/updater_prune.cc:74: tree pruning end, 1 roots, 16 extra nodes, 12 pruned nodes, max_depth=5\u001b[0m\n",
      "\u001b[34m[100]#011train-error:0.104#011validation-error:0.1565\u001b[0m\n",
      "\u001b[34m[00:54:56] src/tree/updater_prune.cc:74: tree pruning end, 1 roots, 28 extra nodes, 10 pruned nodes, max_depth=5\u001b[0m\n",
      "\u001b[34m[101]#011train-error:0.103333#011validation-error:0.157\u001b[0m\n",
      "\u001b[34m[00:54:58] src/tree/updater_prune.cc:74: tree pruning end, 1 roots, 42 extra nodes, 0 pruned nodes, max_depth=5\u001b[0m\n",
      "\u001b[34m[102]#011train-error:0.101533#011validation-error:0.156\u001b[0m\n",
      "\u001b[34m[00:54:59] src/tree/updater_prune.cc:74: tree pruning end, 1 roots, 26 extra nodes, 8 pruned nodes, max_depth=5\u001b[0m\n",
      "\u001b[34m[103]#011train-error:0.100867#011validation-error:0.1562\u001b[0m\n",
      "\u001b[34m[00:55:00] src/tree/updater_prune.cc:74: tree pruning end, 1 roots, 12 extra nodes, 6 pruned nodes, max_depth=5\u001b[0m\n",
      "\u001b[34m[104]#011train-error:0.1006#011validation-error:0.1558\u001b[0m\n",
      "\u001b[34m[00:55:02] src/tree/updater_prune.cc:74: tree pruning end, 1 roots, 22 extra nodes, 12 pruned nodes, max_depth=5\u001b[0m\n",
      "\u001b[34m[105]#011train-error:0.1#011validation-error:0.1555\u001b[0m\n",
      "\u001b[34m[00:55:03] src/tree/updater_prune.cc:74: tree pruning end, 1 roots, 32 extra nodes, 12 pruned nodes, max_depth=5\u001b[0m\n",
      "\u001b[34m[106]#011train-error:0.099267#011validation-error:0.1553\u001b[0m\n",
      "\u001b[34m[00:55:05] src/tree/updater_prune.cc:74: tree pruning end, 1 roots, 10 extra nodes, 24 pruned nodes, max_depth=5\u001b[0m\n",
      "\u001b[34m[107]#011train-error:0.098933#011validation-error:0.1549\u001b[0m\n",
      "\u001b[34m[00:55:06] src/tree/updater_prune.cc:74: tree pruning end, 1 roots, 16 extra nodes, 4 pruned nodes, max_depth=5\u001b[0m\n",
      "\u001b[34m[108]#011train-error:0.099067#011validation-error:0.1542\u001b[0m\n",
      "\u001b[34m[00:55:08] src/tree/updater_prune.cc:74: tree pruning end, 1 roots, 36 extra nodes, 8 pruned nodes, max_depth=5\u001b[0m\n",
      "\u001b[34m[109]#011train-error:0.0968#011validation-error:0.1549\u001b[0m\n",
      "\u001b[34m[00:55:09] src/tree/updater_prune.cc:74: tree pruning end, 1 roots, 22 extra nodes, 4 pruned nodes, max_depth=5\u001b[0m\n",
      "\u001b[34m[110]#011train-error:0.095867#011validation-error:0.1541\u001b[0m\n",
      "\u001b[34m[00:55:10] src/tree/updater_prune.cc:74: tree pruning end, 1 roots, 24 extra nodes, 10 pruned nodes, max_depth=5\u001b[0m\n",
      "\u001b[34m[111]#011train-error:0.094733#011validation-error:0.1535\u001b[0m\n",
      "\u001b[34m[00:55:11] src/tree/updater_prune.cc:74: tree pruning end, 1 roots, 30 extra nodes, 6 pruned nodes, max_depth=5\u001b[0m\n",
      "\u001b[34m[112]#011train-error:0.094#011validation-error:0.1546\u001b[0m\n",
      "\u001b[34m[00:55:13] src/tree/updater_prune.cc:74: tree pruning end, 1 roots, 24 extra nodes, 12 pruned nodes, max_depth=5\u001b[0m\n",
      "\u001b[34m[113]#011train-error:0.0946#011validation-error:0.1554\u001b[0m\n",
      "\u001b[34m[00:55:14] src/tree/updater_prune.cc:74: tree pruning end, 1 roots, 18 extra nodes, 4 pruned nodes, max_depth=5\u001b[0m\n",
      "\u001b[34m[114]#011train-error:0.0938#011validation-error:0.1545\u001b[0m\n",
      "\u001b[34m[00:55:15] src/tree/updater_prune.cc:74: tree pruning end, 1 roots, 16 extra nodes, 8 pruned nodes, max_depth=5\u001b[0m\n",
      "\u001b[34m[115]#011train-error:0.092933#011validation-error:0.1544\u001b[0m\n",
      "\u001b[34m[00:55:17] src/tree/updater_prune.cc:74: tree pruning end, 1 roots, 24 extra nodes, 10 pruned nodes, max_depth=5\u001b[0m\n",
      "\u001b[34m[116]#011train-error:0.093#011validation-error:0.1538\u001b[0m\n",
      "\u001b[34m[00:55:18] src/tree/updater_prune.cc:74: tree pruning end, 1 roots, 20 extra nodes, 4 pruned nodes, max_depth=5\u001b[0m\n",
      "\u001b[34m[117]#011train-error:0.092#011validation-error:0.1525\u001b[0m\n",
      "\u001b[34m[00:55:19] src/tree/updater_prune.cc:74: tree pruning end, 1 roots, 16 extra nodes, 6 pruned nodes, max_depth=5\u001b[0m\n",
      "\u001b[34m[118]#011train-error:0.092#011validation-error:0.1521\u001b[0m\n",
      "\u001b[34m[00:55:21] src/tree/updater_prune.cc:74: tree pruning end, 1 roots, 12 extra nodes, 14 pruned nodes, max_depth=5\u001b[0m\n",
      "\u001b[34m[119]#011train-error:0.091667#011validation-error:0.1523\u001b[0m\n",
      "\u001b[34m[00:55:22] src/tree/updater_prune.cc:74: tree pruning end, 1 roots, 14 extra nodes, 10 pruned nodes, max_depth=5\u001b[0m\n",
      "\u001b[34m[120]#011train-error:0.091533#011validation-error:0.1526\u001b[0m\n",
      "\u001b[34m[00:55:23] src/tree/updater_prune.cc:74: tree pruning end, 1 roots, 20 extra nodes, 12 pruned nodes, max_depth=5\u001b[0m\n",
      "\u001b[34m[121]#011train-error:0.091867#011validation-error:0.1521\u001b[0m\n",
      "\u001b[34m[00:55:25] src/tree/updater_prune.cc:74: tree pruning end, 1 roots, 12 extra nodes, 10 pruned nodes, max_depth=5\u001b[0m\n",
      "\u001b[34m[122]#011train-error:0.091533#011validation-error:0.1528\u001b[0m\n",
      "\u001b[34m[00:55:26] src/tree/updater_prune.cc:74: tree pruning end, 1 roots, 14 extra nodes, 12 pruned nodes, max_depth=5\u001b[0m\n",
      "\u001b[34m[123]#011train-error:0.0916#011validation-error:0.1525\u001b[0m\n",
      "\u001b[34m[00:55:27] src/tree/updater_prune.cc:74: tree pruning end, 1 roots, 12 extra nodes, 8 pruned nodes, max_depth=5\u001b[0m\n",
      "\u001b[34m[124]#011train-error:0.0906#011validation-error:0.1521\u001b[0m\n",
      "\u001b[34m[00:55:29] src/tree/updater_prune.cc:74: tree pruning end, 1 roots, 24 extra nodes, 12 pruned nodes, max_depth=5\u001b[0m\n",
      "\u001b[34m[125]#011train-error:0.090533#011validation-error:0.152\u001b[0m\n",
      "\u001b[34m[00:55:30] src/tree/updater_prune.cc:74: tree pruning end, 1 roots, 10 extra nodes, 6 pruned nodes, max_depth=5\u001b[0m\n",
      "\u001b[34m[126]#011train-error:0.090133#011validation-error:0.152\u001b[0m\n",
      "\u001b[34m[00:55:31] src/tree/updater_prune.cc:74: tree pruning end, 1 roots, 16 extra nodes, 18 pruned nodes, max_depth=5\u001b[0m\n",
      "\u001b[34m[127]#011train-error:0.089467#011validation-error:0.1509\u001b[0m\n",
      "\u001b[34m[00:55:32] src/tree/updater_prune.cc:74: tree pruning end, 1 roots, 12 extra nodes, 8 pruned nodes, max_depth=5\u001b[0m\n",
      "\u001b[34m[128]#011train-error:0.0898#011validation-error:0.1512\u001b[0m\n",
      "\u001b[34m[00:55:34] src/tree/updater_prune.cc:74: tree pruning end, 1 roots, 12 extra nodes, 2 pruned nodes, max_depth=5\u001b[0m\n",
      "\u001b[34m[129]#011train-error:0.089733#011validation-error:0.1509\u001b[0m\n",
      "\u001b[34m[00:55:35] src/tree/updater_prune.cc:74: tree pruning end, 1 roots, 22 extra nodes, 2 pruned nodes, max_depth=5\u001b[0m\n",
      "\u001b[34m[130]#011train-error:0.089133#011validation-error:0.1509\u001b[0m\n",
      "\u001b[34m[00:55:36] src/tree/updater_prune.cc:74: tree pruning end, 1 roots, 30 extra nodes, 10 pruned nodes, max_depth=5\u001b[0m\n",
      "\u001b[34m[131]#011train-error:0.087733#011validation-error:0.1509\u001b[0m\n",
      "\u001b[34m[00:55:38] src/tree/updater_prune.cc:74: tree pruning end, 1 roots, 12 extra nodes, 16 pruned nodes, max_depth=5\u001b[0m\n",
      "\u001b[34m[132]#011train-error:0.0878#011validation-error:0.1509\u001b[0m\n",
      "\u001b[34m[00:55:39] src/tree/updater_prune.cc:74: tree pruning end, 1 roots, 10 extra nodes, 6 pruned nodes, max_depth=5\u001b[0m\n",
      "\u001b[34m[133]#011train-error:0.087867#011validation-error:0.1514\u001b[0m\n",
      "\u001b[34m[00:55:40] src/tree/updater_prune.cc:74: tree pruning end, 1 roots, 24 extra nodes, 4 pruned nodes, max_depth=5\u001b[0m\n",
      "\u001b[34m[134]#011train-error:0.086867#011validation-error:0.1499\u001b[0m\n",
      "\u001b[34m[00:55:42] src/tree/updater_prune.cc:74: tree pruning end, 1 roots, 18 extra nodes, 2 pruned nodes, max_depth=5\u001b[0m\n",
      "\u001b[34m[135]#011train-error:0.0868#011validation-error:0.1497\u001b[0m\n",
      "\u001b[34m[00:55:43] src/tree/updater_prune.cc:74: tree pruning end, 1 roots, 10 extra nodes, 4 pruned nodes, max_depth=5\u001b[0m\n",
      "\u001b[34m[136]#011train-error:0.0864#011validation-error:0.1498\u001b[0m\n",
      "\u001b[34m[00:55:44] src/tree/updater_prune.cc:74: tree pruning end, 1 roots, 18 extra nodes, 4 pruned nodes, max_depth=5\u001b[0m\n",
      "\u001b[34m[137]#011train-error:0.086067#011validation-error:0.1492\u001b[0m\n",
      "\u001b[34m[00:55:46] src/tree/updater_prune.cc:74: tree pruning end, 1 roots, 14 extra nodes, 16 pruned nodes, max_depth=5\u001b[0m\n",
      "\u001b[34m[138]#011train-error:0.086067#011validation-error:0.1497\u001b[0m\n",
      "\u001b[34m[00:55:47] src/tree/updater_prune.cc:74: tree pruning end, 1 roots, 16 extra nodes, 8 pruned nodes, max_depth=5\u001b[0m\n",
      "\u001b[34m[139]#011train-error:0.085733#011validation-error:0.1494\u001b[0m\n"
     ]
    },
    {
     "name": "stdout",
     "output_type": "stream",
     "text": [
      "\u001b[34m[00:55:48] src/tree/updater_prune.cc:74: tree pruning end, 1 roots, 16 extra nodes, 20 pruned nodes, max_depth=5\u001b[0m\n",
      "\u001b[34m[140]#011train-error:0.0858#011validation-error:0.1501\u001b[0m\n",
      "\u001b[34m[00:55:49] src/tree/updater_prune.cc:74: tree pruning end, 1 roots, 12 extra nodes, 8 pruned nodes, max_depth=5\u001b[0m\n",
      "\u001b[34m[141]#011train-error:0.0852#011validation-error:0.1498\u001b[0m\n",
      "\u001b[34m[00:55:51] src/tree/updater_prune.cc:74: tree pruning end, 1 roots, 12 extra nodes, 12 pruned nodes, max_depth=5\u001b[0m\n",
      "\u001b[34m[142]#011train-error:0.084933#011validation-error:0.1499\u001b[0m\n",
      "\u001b[34m[00:55:52] src/tree/updater_prune.cc:74: tree pruning end, 1 roots, 14 extra nodes, 2 pruned nodes, max_depth=5\u001b[0m\n",
      "\u001b[34m[143]#011train-error:0.0852#011validation-error:0.1492\u001b[0m\n",
      "\u001b[34m[00:55:53] src/tree/updater_prune.cc:74: tree pruning end, 1 roots, 10 extra nodes, 0 pruned nodes, max_depth=5\u001b[0m\n",
      "\u001b[34m[144]#011train-error:0.0852#011validation-error:0.1492\u001b[0m\n",
      "\u001b[34m[00:55:55] src/tree/updater_prune.cc:74: tree pruning end, 1 roots, 18 extra nodes, 10 pruned nodes, max_depth=5\u001b[0m\n",
      "\u001b[34m[145]#011train-error:0.084733#011validation-error:0.1489\u001b[0m\n",
      "\u001b[34m[00:55:56] src/tree/updater_prune.cc:74: tree pruning end, 1 roots, 18 extra nodes, 8 pruned nodes, max_depth=5\u001b[0m\n",
      "\u001b[34m[146]#011train-error:0.084867#011validation-error:0.1488\u001b[0m\n",
      "\u001b[34m[00:55:57] src/tree/updater_prune.cc:74: tree pruning end, 1 roots, 10 extra nodes, 6 pruned nodes, max_depth=5\u001b[0m\n",
      "\u001b[34m[147]#011train-error:0.0844#011validation-error:0.1485\u001b[0m\n",
      "\u001b[34m[00:55:59] src/tree/updater_prune.cc:74: tree pruning end, 1 roots, 44 extra nodes, 10 pruned nodes, max_depth=5\u001b[0m\n",
      "\u001b[34m[148]#011train-error:0.0834#011validation-error:0.1488\u001b[0m\n",
      "\u001b[34m[00:56:00] src/tree/updater_prune.cc:74: tree pruning end, 1 roots, 14 extra nodes, 10 pruned nodes, max_depth=5\u001b[0m\n",
      "\u001b[34m[149]#011train-error:0.0834#011validation-error:0.1483\u001b[0m\n",
      "\u001b[34m[00:56:01] src/tree/updater_prune.cc:74: tree pruning end, 1 roots, 18 extra nodes, 4 pruned nodes, max_depth=5\u001b[0m\n",
      "\u001b[34m[150]#011train-error:0.0834#011validation-error:0.1484\u001b[0m\n",
      "\u001b[34m[00:56:03] src/tree/updater_prune.cc:74: tree pruning end, 1 roots, 12 extra nodes, 8 pruned nodes, max_depth=5\u001b[0m\n",
      "\u001b[34m[151]#011train-error:0.0832#011validation-error:0.1478\u001b[0m\n",
      "\u001b[34m[00:56:04] src/tree/updater_prune.cc:74: tree pruning end, 1 roots, 16 extra nodes, 4 pruned nodes, max_depth=5\u001b[0m\n",
      "\u001b[34m[152]#011train-error:0.082667#011validation-error:0.1475\u001b[0m\n",
      "\u001b[34m[00:56:06] src/tree/updater_prune.cc:74: tree pruning end, 1 roots, 14 extra nodes, 10 pruned nodes, max_depth=5\u001b[0m\n",
      "\u001b[34m[153]#011train-error:0.082133#011validation-error:0.1478\u001b[0m\n",
      "\u001b[34m[00:56:07] src/tree/updater_prune.cc:74: tree pruning end, 1 roots, 16 extra nodes, 6 pruned nodes, max_depth=5\u001b[0m\n",
      "\u001b[34m[154]#011train-error:0.082#011validation-error:0.1478\u001b[0m\n",
      "\u001b[34m[00:56:09] src/tree/updater_prune.cc:74: tree pruning end, 1 roots, 14 extra nodes, 20 pruned nodes, max_depth=5\u001b[0m\n",
      "\u001b[34m[155]#011train-error:0.081533#011validation-error:0.1473\u001b[0m\n",
      "\u001b[34m[00:56:10] src/tree/updater_prune.cc:74: tree pruning end, 1 roots, 12 extra nodes, 16 pruned nodes, max_depth=5\u001b[0m\n",
      "\u001b[34m[156]#011train-error:0.081867#011validation-error:0.1467\u001b[0m\n",
      "\u001b[34m[00:56:11] src/tree/updater_prune.cc:74: tree pruning end, 1 roots, 12 extra nodes, 4 pruned nodes, max_depth=5\u001b[0m\n",
      "\u001b[34m[157]#011train-error:0.082067#011validation-error:0.1467\u001b[0m\n",
      "\u001b[34m[00:56:13] src/tree/updater_prune.cc:74: tree pruning end, 1 roots, 10 extra nodes, 4 pruned nodes, max_depth=5\u001b[0m\n",
      "\u001b[34m[158]#011train-error:0.081933#011validation-error:0.1463\u001b[0m\n",
      "\u001b[34m[00:56:14] src/tree/updater_prune.cc:74: tree pruning end, 1 roots, 10 extra nodes, 8 pruned nodes, max_depth=5\u001b[0m\n",
      "\u001b[34m[159]#011train-error:0.081733#011validation-error:0.1459\u001b[0m\n",
      "\u001b[34m[00:56:15] src/tree/updater_prune.cc:74: tree pruning end, 1 roots, 12 extra nodes, 6 pruned nodes, max_depth=5\u001b[0m\n",
      "\u001b[34m[160]#011train-error:0.081467#011validation-error:0.1458\u001b[0m\n",
      "\u001b[34m[00:56:17] src/tree/updater_prune.cc:74: tree pruning end, 1 roots, 10 extra nodes, 18 pruned nodes, max_depth=5\u001b[0m\n",
      "\u001b[34m[161]#011train-error:0.081333#011validation-error:0.1462\u001b[0m\n",
      "\u001b[34m[00:56:18] src/tree/updater_prune.cc:74: tree pruning end, 1 roots, 18 extra nodes, 4 pruned nodes, max_depth=5\u001b[0m\n",
      "\u001b[34m[162]#011train-error:0.080933#011validation-error:0.1453\u001b[0m\n",
      "\u001b[34m[00:56:19] src/tree/updater_prune.cc:74: tree pruning end, 1 roots, 16 extra nodes, 8 pruned nodes, max_depth=5\u001b[0m\n",
      "\u001b[34m[163]#011train-error:0.080533#011validation-error:0.1449\u001b[0m\n",
      "\u001b[34m[00:56:20] src/tree/updater_prune.cc:74: tree pruning end, 1 roots, 10 extra nodes, 8 pruned nodes, max_depth=5\u001b[0m\n",
      "\u001b[34m[164]#011train-error:0.079667#011validation-error:0.1444\u001b[0m\n",
      "\u001b[34m[00:56:22] src/tree/updater_prune.cc:74: tree pruning end, 1 roots, 18 extra nodes, 16 pruned nodes, max_depth=5\u001b[0m\n",
      "\u001b[34m[165]#011train-error:0.08#011validation-error:0.1439\u001b[0m\n",
      "\u001b[34m[00:56:23] src/tree/updater_prune.cc:74: tree pruning end, 1 roots, 10 extra nodes, 2 pruned nodes, max_depth=5\u001b[0m\n",
      "\u001b[34m[166]#011train-error:0.0792#011validation-error:0.1441\u001b[0m\n",
      "\u001b[34m[00:56:24] src/tree/updater_prune.cc:74: tree pruning end, 1 roots, 14 extra nodes, 12 pruned nodes, max_depth=5\u001b[0m\n",
      "\u001b[34m[167]#011train-error:0.0794#011validation-error:0.1435\u001b[0m\n",
      "\u001b[34m[00:56:26] src/tree/updater_prune.cc:74: tree pruning end, 1 roots, 10 extra nodes, 12 pruned nodes, max_depth=5\u001b[0m\n",
      "\u001b[34m[168]#011train-error:0.0794#011validation-error:0.1439\u001b[0m\n",
      "\u001b[34m[00:56:27] src/tree/updater_prune.cc:74: tree pruning end, 1 roots, 10 extra nodes, 6 pruned nodes, max_depth=5\u001b[0m\n",
      "\u001b[34m[169]#011train-error:0.0794#011validation-error:0.1439\u001b[0m\n",
      "\u001b[34m[00:56:28] src/tree/updater_prune.cc:74: tree pruning end, 1 roots, 12 extra nodes, 2 pruned nodes, max_depth=5\u001b[0m\n",
      "\u001b[34m[170]#011train-error:0.079133#011validation-error:0.1438\u001b[0m\n",
      "\u001b[34m[00:56:30] src/tree/updater_prune.cc:74: tree pruning end, 1 roots, 14 extra nodes, 14 pruned nodes, max_depth=5\u001b[0m\n",
      "\u001b[34m[171]#011train-error:0.078467#011validation-error:0.1438\u001b[0m\n",
      "\u001b[34m[00:56:31] src/tree/updater_prune.cc:74: tree pruning end, 1 roots, 14 extra nodes, 8 pruned nodes, max_depth=5\u001b[0m\n",
      "\u001b[34m[172]#011train-error:0.078533#011validation-error:0.1435\u001b[0m\n",
      "\u001b[34m[00:56:32] src/tree/updater_prune.cc:74: tree pruning end, 1 roots, 10 extra nodes, 0 pruned nodes, max_depth=5\u001b[0m\n",
      "\u001b[34m[173]#011train-error:0.0782#011validation-error:0.1433\u001b[0m\n",
      "\u001b[34m[00:56:34] src/tree/updater_prune.cc:74: tree pruning end, 1 roots, 18 extra nodes, 4 pruned nodes, max_depth=5\u001b[0m\n",
      "\u001b[34m[174]#011train-error:0.077933#011validation-error:0.1431\u001b[0m\n",
      "\u001b[34m[00:56:35] src/tree/updater_prune.cc:74: tree pruning end, 1 roots, 10 extra nodes, 10 pruned nodes, max_depth=5\u001b[0m\n",
      "\u001b[34m[175]#011train-error:0.078067#011validation-error:0.1429\u001b[0m\n",
      "\u001b[34m[00:56:36] src/tree/updater_prune.cc:74: tree pruning end, 1 roots, 16 extra nodes, 10 pruned nodes, max_depth=5\u001b[0m\n",
      "\u001b[34m[176]#011train-error:0.0776#011validation-error:0.1426\u001b[0m\n",
      "\u001b[34m[00:56:37] src/tree/updater_prune.cc:74: tree pruning end, 1 roots, 20 extra nodes, 10 pruned nodes, max_depth=5\u001b[0m\n",
      "\u001b[34m[177]#011train-error:0.0776#011validation-error:0.1424\u001b[0m\n",
      "\u001b[34m[00:56:39] src/tree/updater_prune.cc:74: tree pruning end, 1 roots, 18 extra nodes, 6 pruned nodes, max_depth=5\u001b[0m\n",
      "\u001b[34m[178]#011train-error:0.077267#011validation-error:0.1424\u001b[0m\n",
      "\u001b[34m[00:56:40] src/tree/updater_prune.cc:74: tree pruning end, 1 roots, 12 extra nodes, 8 pruned nodes, max_depth=5\u001b[0m\n",
      "\u001b[34m[179]#011train-error:0.077133#011validation-error:0.1426\u001b[0m\n",
      "\u001b[34m[00:56:41] src/tree/updater_prune.cc:74: tree pruning end, 1 roots, 14 extra nodes, 6 pruned nodes, max_depth=5\u001b[0m\n",
      "\u001b[34m[180]#011train-error:0.076867#011validation-error:0.1422\u001b[0m\n",
      "\u001b[34m[00:56:43] src/tree/updater_prune.cc:74: tree pruning end, 1 roots, 16 extra nodes, 6 pruned nodes, max_depth=5\u001b[0m\n",
      "\u001b[34m[181]#011train-error:0.0768#011validation-error:0.1424\u001b[0m\n",
      "\u001b[34m[00:56:44] src/tree/updater_prune.cc:74: tree pruning end, 1 roots, 14 extra nodes, 4 pruned nodes, max_depth=5\u001b[0m\n",
      "\u001b[34m[182]#011train-error:0.0762#011validation-error:0.142\u001b[0m\n",
      "\u001b[34m[00:56:45] src/tree/updater_prune.cc:74: tree pruning end, 1 roots, 14 extra nodes, 6 pruned nodes, max_depth=5\u001b[0m\n",
      "\u001b[34m[183]#011train-error:0.075733#011validation-error:0.1418\u001b[0m\n",
      "\u001b[34m[00:56:46] src/tree/updater_prune.cc:74: tree pruning end, 1 roots, 10 extra nodes, 10 pruned nodes, max_depth=5\u001b[0m\n",
      "\u001b[34m[184]#011train-error:0.075667#011validation-error:0.1417\u001b[0m\n",
      "\u001b[34m[00:56:48] src/tree/updater_prune.cc:74: tree pruning end, 1 roots, 18 extra nodes, 10 pruned nodes, max_depth=5\u001b[0m\n",
      "\u001b[34m[185]#011train-error:0.075733#011validation-error:0.1415\u001b[0m\n",
      "\u001b[34m[00:56:49] src/tree/updater_prune.cc:74: tree pruning end, 1 roots, 14 extra nodes, 12 pruned nodes, max_depth=5\u001b[0m\n",
      "\u001b[34m[186]#011train-error:0.075267#011validation-error:0.1432\u001b[0m\n"
     ]
    },
    {
     "name": "stdout",
     "output_type": "stream",
     "text": [
      "\u001b[34m[00:56:50] src/tree/updater_prune.cc:74: tree pruning end, 1 roots, 14 extra nodes, 14 pruned nodes, max_depth=5\u001b[0m\n",
      "\u001b[34m[187]#011train-error:0.0752#011validation-error:0.1431\u001b[0m\n",
      "\u001b[34m[00:56:52] src/tree/updater_prune.cc:74: tree pruning end, 1 roots, 10 extra nodes, 2 pruned nodes, max_depth=5\u001b[0m\n",
      "\u001b[34m[188]#011train-error:0.075267#011validation-error:0.1428\u001b[0m\n",
      "\u001b[34m[00:56:53] src/tree/updater_prune.cc:74: tree pruning end, 1 roots, 10 extra nodes, 6 pruned nodes, max_depth=5\u001b[0m\n",
      "\u001b[34m[189]#011train-error:0.075333#011validation-error:0.1427\u001b[0m\n",
      "\u001b[34m[00:56:54] src/tree/updater_prune.cc:74: tree pruning end, 1 roots, 12 extra nodes, 4 pruned nodes, max_depth=5\u001b[0m\n",
      "\u001b[34m[190]#011train-error:0.075133#011validation-error:0.1432\u001b[0m\n",
      "\u001b[34m[00:56:56] src/tree/updater_prune.cc:74: tree pruning end, 1 roots, 12 extra nodes, 2 pruned nodes, max_depth=5\u001b[0m\n",
      "\u001b[34m[191]#011train-error:0.075#011validation-error:0.1426\u001b[0m\n",
      "\u001b[34m[00:56:57] src/tree/updater_prune.cc:74: tree pruning end, 1 roots, 14 extra nodes, 14 pruned nodes, max_depth=5\u001b[0m\n",
      "\u001b[34m[192]#011train-error:0.0748#011validation-error:0.1421\u001b[0m\n",
      "\u001b[34m[00:56:58] src/tree/updater_prune.cc:74: tree pruning end, 1 roots, 12 extra nodes, 14 pruned nodes, max_depth=5\u001b[0m\n",
      "\u001b[34m[193]#011train-error:0.074933#011validation-error:0.142\u001b[0m\n",
      "\u001b[34m[00:56:59] src/tree/updater_prune.cc:74: tree pruning end, 1 roots, 14 extra nodes, 14 pruned nodes, max_depth=5\u001b[0m\n",
      "\u001b[34m[194]#011train-error:0.074867#011validation-error:0.1418\u001b[0m\n",
      "\u001b[34m[00:57:01] src/tree/updater_prune.cc:74: tree pruning end, 1 roots, 14 extra nodes, 6 pruned nodes, max_depth=5\u001b[0m\n",
      "\u001b[34m[195]#011train-error:0.0744#011validation-error:0.1427\u001b[0m\n",
      "\u001b[34mStopping. Best iteration:\u001b[0m\n",
      "\u001b[34m[185]#011train-error:0.075733#011validation-error:0.1415\n",
      "\u001b[0m\n",
      "\n",
      "2021-03-07 00:58:03 Uploading - Uploading generated training model\n",
      "2021-03-07 00:58:03 Completed - Training job completed\n",
      "Training seconds: 373\n",
      "Billable seconds: 373\n"
     ]
    }
   ],
   "source": [
    "xgb.fit({'train': s3_input_train, 'validation': s3_input_validation})"
   ]
  },
  {
   "cell_type": "markdown",
   "metadata": {},
   "source": [
    "## Step 5: Testing the model\n",
    "\n",
    "Now that we've fit our XGBoost model, it's time to see how well it performs. To do this we will use SageMakers Batch Transform functionality. Batch Transform is a convenient way to perform inference on a large dataset in a way that is not realtime. That is, we don't necessarily need to use our model's results immediately and instead we can perform inference on a large number of samples. An example of this in industry might be performing an end of month report. This method of inference can also be useful to us as it means that we can perform inference on our entire test set. \n",
    "\n",
    "To perform a Batch Transformation we need to first create a transformer objects from our trained estimator object."
   ]
  },
  {
   "cell_type": "code",
   "execution_count": 25,
   "metadata": {},
   "outputs": [
    {
     "name": "stderr",
     "output_type": "stream",
     "text": [
      "Parameter image will be renamed to image_uri in SageMaker Python SDK v2.\n"
     ]
    }
   ],
   "source": [
    "xgb_transformer = xgb.transformer(instance_count = 1, instance_type = 'ml.m4.xlarge')"
   ]
  },
  {
   "cell_type": "markdown",
   "metadata": {},
   "source": [
    "Next we actually perform the transform job. When doing so we need to make sure to specify the type of data we are sending so that it is serialized correctly in the background. In our case we are providing our model with csv data so we specify `text/csv`. Also, if the test data that we have provided is too large to process all at once then we need to specify how the data file should be split up. Since each line is a single entry in our data set we tell SageMaker that it can split the input on each line."
   ]
  },
  {
   "cell_type": "code",
   "execution_count": 26,
   "metadata": {},
   "outputs": [],
   "source": [
    "xgb_transformer.transform(test_location, content_type='text/csv', split_type='Line')"
   ]
  },
  {
   "cell_type": "markdown",
   "metadata": {},
   "source": [
    "Currently the transform job is running but it is doing so in the background. Since we wish to wait until the transform job is done and we would like a bit of feedback we can run the `wait()` method."
   ]
  },
  {
   "cell_type": "code",
   "execution_count": 27,
   "metadata": {},
   "outputs": [
    {
     "name": "stdout",
     "output_type": "stream",
     "text": [
      "...........................\u001b[34mArguments: serve\u001b[0m\n",
      "\u001b[35mArguments: serve\u001b[0m\n",
      "\u001b[34m[2021-03-07 01:03:03 +0000] [1] [INFO] Starting gunicorn 19.7.1\u001b[0m\n",
      "\u001b[34m[2021-03-07 01:03:03 +0000] [1] [INFO] Listening at: http://0.0.0.0:8080 (1)\u001b[0m\n",
      "\u001b[34m[2021-03-07 01:03:03 +0000] [1] [INFO] Using worker: gevent\u001b[0m\n",
      "\u001b[34m[2021-03-07 01:03:03 +0000] [36] [INFO] Booting worker with pid: 36\u001b[0m\n",
      "\u001b[34m[2021-03-07 01:03:03 +0000] [37] [INFO] Booting worker with pid: 37\u001b[0m\n",
      "\u001b[34m[2021-03-07 01:03:03 +0000] [38] [INFO] Booting worker with pid: 38\u001b[0m\n",
      "\u001b[34m[2021-03-07 01:03:03 +0000] [39] [INFO] Booting worker with pid: 39\u001b[0m\n",
      "\u001b[34m[2021-03-07:01:03:03:INFO] Model loaded successfully for worker : 36\u001b[0m\n",
      "\u001b[34m[2021-03-07:01:03:03:INFO] Model loaded successfully for worker : 38\u001b[0m\n",
      "\u001b[34m[2021-03-07:01:03:03:INFO] Model loaded successfully for worker : 37\u001b[0m\n",
      "\u001b[34m[2021-03-07:01:03:03:INFO] Model loaded successfully for worker : 39\u001b[0m\n",
      "\u001b[34m[2021-03-07:01:03:04:INFO] Sniff delimiter as ','\u001b[0m\n",
      "\u001b[34m[2021-03-07:01:03:04:INFO] Determined delimiter of CSV input is ','\u001b[0m\n",
      "\u001b[34m[2021-03-07:01:03:04:INFO] Sniff delimiter as ','\u001b[0m\n",
      "\u001b[34m[2021-03-07:01:03:04:INFO] Determined delimiter of CSV input is ','\u001b[0m\n",
      "\u001b[35m[2021-03-07 01:03:03 +0000] [1] [INFO] Starting gunicorn 19.7.1\u001b[0m\n",
      "\u001b[35m[2021-03-07 01:03:03 +0000] [1] [INFO] Listening at: http://0.0.0.0:8080 (1)\u001b[0m\n",
      "\u001b[35m[2021-03-07 01:03:03 +0000] [1] [INFO] Using worker: gevent\u001b[0m\n",
      "\u001b[35m[2021-03-07 01:03:03 +0000] [36] [INFO] Booting worker with pid: 36\u001b[0m\n",
      "\u001b[35m[2021-03-07 01:03:03 +0000] [37] [INFO] Booting worker with pid: 37\u001b[0m\n",
      "\u001b[35m[2021-03-07 01:03:03 +0000] [38] [INFO] Booting worker with pid: 38\u001b[0m\n",
      "\u001b[35m[2021-03-07 01:03:03 +0000] [39] [INFO] Booting worker with pid: 39\u001b[0m\n",
      "\u001b[35m[2021-03-07:01:03:03:INFO] Model loaded successfully for worker : 36\u001b[0m\n",
      "\u001b[35m[2021-03-07:01:03:03:INFO] Model loaded successfully for worker : 38\u001b[0m\n",
      "\u001b[35m[2021-03-07:01:03:03:INFO] Model loaded successfully for worker : 37\u001b[0m\n",
      "\u001b[35m[2021-03-07:01:03:03:INFO] Model loaded successfully for worker : 39\u001b[0m\n",
      "\u001b[35m[2021-03-07:01:03:04:INFO] Sniff delimiter as ','\u001b[0m\n",
      "\u001b[35m[2021-03-07:01:03:04:INFO] Determined delimiter of CSV input is ','\u001b[0m\n",
      "\u001b[35m[2021-03-07:01:03:04:INFO] Sniff delimiter as ','\u001b[0m\n",
      "\u001b[35m[2021-03-07:01:03:04:INFO] Determined delimiter of CSV input is ','\u001b[0m\n",
      "\u001b[34m[2021-03-07:01:03:04:INFO] Sniff delimiter as ','\u001b[0m\n",
      "\u001b[34m[2021-03-07:01:03:04:INFO] Determined delimiter of CSV input is ','\u001b[0m\n",
      "\u001b[34m[2021-03-07:01:03:04:INFO] Sniff delimiter as ','\u001b[0m\n",
      "\u001b[34m[2021-03-07:01:03:04:INFO] Determined delimiter of CSV input is ','\u001b[0m\n",
      "\u001b[35m[2021-03-07:01:03:04:INFO] Sniff delimiter as ','\u001b[0m\n",
      "\u001b[35m[2021-03-07:01:03:04:INFO] Determined delimiter of CSV input is ','\u001b[0m\n",
      "\u001b[35m[2021-03-07:01:03:04:INFO] Sniff delimiter as ','\u001b[0m\n",
      "\u001b[35m[2021-03-07:01:03:04:INFO] Determined delimiter of CSV input is ','\u001b[0m\n",
      "\u001b[34m[2021-03-07:01:03:06:INFO] Sniff delimiter as ','\u001b[0m\n",
      "\u001b[34m[2021-03-07:01:03:06:INFO] Determined delimiter of CSV input is ','\u001b[0m\n",
      "\u001b[34m[2021-03-07:01:03:06:INFO] Sniff delimiter as ','\u001b[0m\n",
      "\u001b[34m[2021-03-07:01:03:06:INFO] Determined delimiter of CSV input is ','\u001b[0m\n",
      "\u001b[34m[2021-03-07:01:03:06:INFO] Sniff delimiter as ','\u001b[0m\n",
      "\u001b[34m[2021-03-07:01:03:06:INFO] Determined delimiter of CSV input is ','\u001b[0m\n",
      "\u001b[34m[2021-03-07:01:03:07:INFO] Sniff delimiter as ','\u001b[0m\n",
      "\u001b[34m[2021-03-07:01:03:07:INFO] Determined delimiter of CSV input is ','\u001b[0m\n",
      "\u001b[35m[2021-03-07:01:03:06:INFO] Sniff delimiter as ','\u001b[0m\n",
      "\u001b[35m[2021-03-07:01:03:06:INFO] Determined delimiter of CSV input is ','\u001b[0m\n",
      "\u001b[35m[2021-03-07:01:03:06:INFO] Sniff delimiter as ','\u001b[0m\n",
      "\u001b[35m[2021-03-07:01:03:06:INFO] Determined delimiter of CSV input is ','\u001b[0m\n",
      "\u001b[35m[2021-03-07:01:03:06:INFO] Sniff delimiter as ','\u001b[0m\n",
      "\u001b[35m[2021-03-07:01:03:06:INFO] Determined delimiter of CSV input is ','\u001b[0m\n",
      "\u001b[35m[2021-03-07:01:03:07:INFO] Sniff delimiter as ','\u001b[0m\n",
      "\u001b[35m[2021-03-07:01:03:07:INFO] Determined delimiter of CSV input is ','\u001b[0m\n",
      "\u001b[32m2021-03-07T01:03:03.829:[sagemaker logs]: MaxConcurrentTransforms=4, MaxPayloadInMB=6, BatchStrategy=MULTI_RECORD\u001b[0m\n",
      "\u001b[34m[2021-03-07:01:03:09:INFO] Sniff delimiter as ','\u001b[0m\n",
      "\u001b[34m[2021-03-07:01:03:09:INFO] Determined delimiter of CSV input is ','\u001b[0m\n",
      "\u001b[34m[2021-03-07:01:03:09:INFO] Sniff delimiter as ','\u001b[0m\n",
      "\u001b[34m[2021-03-07:01:03:09:INFO] Determined delimiter of CSV input is ','\u001b[0m\n",
      "\u001b[34m[2021-03-07:01:03:09:INFO] Sniff delimiter as ','\u001b[0m\n",
      "\u001b[34m[2021-03-07:01:03:09:INFO] Determined delimiter of CSV input is ','\u001b[0m\n",
      "\u001b[35m[2021-03-07:01:03:09:INFO] Sniff delimiter as ','\u001b[0m\n",
      "\u001b[35m[2021-03-07:01:03:09:INFO] Determined delimiter of CSV input is ','\u001b[0m\n",
      "\u001b[35m[2021-03-07:01:03:09:INFO] Sniff delimiter as ','\u001b[0m\n",
      "\u001b[35m[2021-03-07:01:03:09:INFO] Determined delimiter of CSV input is ','\u001b[0m\n",
      "\u001b[35m[2021-03-07:01:03:09:INFO] Sniff delimiter as ','\u001b[0m\n",
      "\u001b[35m[2021-03-07:01:03:09:INFO] Determined delimiter of CSV input is ','\u001b[0m\n",
      "\u001b[34m[2021-03-07:01:03:09:INFO] Sniff delimiter as ','\u001b[0m\n",
      "\u001b[34m[2021-03-07:01:03:09:INFO] Determined delimiter of CSV input is ','\u001b[0m\n",
      "\u001b[35m[2021-03-07:01:03:09:INFO] Sniff delimiter as ','\u001b[0m\n",
      "\u001b[35m[2021-03-07:01:03:09:INFO] Determined delimiter of CSV input is ','\u001b[0m\n",
      "\u001b[34m[2021-03-07:01:03:11:INFO] Sniff delimiter as ','\u001b[0m\n",
      "\u001b[34m[2021-03-07:01:03:11:INFO] Determined delimiter of CSV input is ','\u001b[0m\n",
      "\u001b[34m[2021-03-07:01:03:11:INFO] Sniff delimiter as ','\u001b[0m\n",
      "\u001b[34m[2021-03-07:01:03:11:INFO] Determined delimiter of CSV input is ','\u001b[0m\n",
      "\u001b[34m[2021-03-07:01:03:11:INFO] Sniff delimiter as ','\u001b[0m\n",
      "\u001b[34m[2021-03-07:01:03:11:INFO] Determined delimiter of CSV input is ','\u001b[0m\n",
      "\u001b[34m[2021-03-07:01:03:12:INFO] Sniff delimiter as ','\u001b[0m\n",
      "\u001b[34m[2021-03-07:01:03:12:INFO] Determined delimiter of CSV input is ','\u001b[0m\n",
      "\u001b[35m[2021-03-07:01:03:11:INFO] Sniff delimiter as ','\u001b[0m\n",
      "\u001b[35m[2021-03-07:01:03:11:INFO] Determined delimiter of CSV input is ','\u001b[0m\n",
      "\u001b[35m[2021-03-07:01:03:11:INFO] Sniff delimiter as ','\u001b[0m\n",
      "\u001b[35m[2021-03-07:01:03:11:INFO] Determined delimiter of CSV input is ','\u001b[0m\n",
      "\u001b[35m[2021-03-07:01:03:11:INFO] Sniff delimiter as ','\u001b[0m\n",
      "\u001b[35m[2021-03-07:01:03:11:INFO] Determined delimiter of CSV input is ','\u001b[0m\n",
      "\u001b[35m[2021-03-07:01:03:12:INFO] Sniff delimiter as ','\u001b[0m\n",
      "\u001b[35m[2021-03-07:01:03:12:INFO] Determined delimiter of CSV input is ','\u001b[0m\n",
      "\u001b[34m[2021-03-07:01:03:16:INFO] Sniff delimiter as ','\u001b[0m\n",
      "\u001b[34m[2021-03-07:01:03:16:INFO] Determined delimiter of CSV input is ','\u001b[0m\n",
      "\u001b[35m[2021-03-07:01:03:16:INFO] Sniff delimiter as ','\u001b[0m\n",
      "\u001b[35m[2021-03-07:01:03:16:INFO] Determined delimiter of CSV input is ','\u001b[0m\n",
      "\u001b[34m[2021-03-07:01:03:16:INFO] Sniff delimiter as ','\u001b[0m\n",
      "\u001b[34m[2021-03-07:01:03:16:INFO] Determined delimiter of CSV input is ','\u001b[0m\n",
      "\u001b[34m[2021-03-07:01:03:16:INFO] Sniff delimiter as ','\u001b[0m\n",
      "\u001b[34m[2021-03-07:01:03:16:INFO] Determined delimiter of CSV input is ','\u001b[0m\n",
      "\u001b[34m[2021-03-07:01:03:17:INFO] Sniff delimiter as ','\u001b[0m\n",
      "\u001b[34m[2021-03-07:01:03:17:INFO] Determined delimiter of CSV input is ','\u001b[0m\n",
      "\u001b[35m[2021-03-07:01:03:16:INFO] Sniff delimiter as ','\u001b[0m\n",
      "\u001b[35m[2021-03-07:01:03:16:INFO] Determined delimiter of CSV input is ','\u001b[0m\n",
      "\u001b[35m[2021-03-07:01:03:16:INFO] Sniff delimiter as ','\u001b[0m\n",
      "\u001b[35m[2021-03-07:01:03:16:INFO] Determined delimiter of CSV input is ','\u001b[0m\n",
      "\u001b[35m[2021-03-07:01:03:17:INFO] Sniff delimiter as ','\u001b[0m\n",
      "\u001b[35m[2021-03-07:01:03:17:INFO] Determined delimiter of CSV input is ','\u001b[0m\n",
      "\u001b[34m[2021-03-07:01:03:18:INFO] Sniff delimiter as ','\u001b[0m\n",
      "\u001b[34m[2021-03-07:01:03:18:INFO] Determined delimiter of CSV input is ','\u001b[0m\n",
      "\u001b[34m[2021-03-07:01:03:19:INFO] Sniff delimiter as ','\u001b[0m\n",
      "\u001b[34m[2021-03-07:01:03:19:INFO] Determined delimiter of CSV input is ','\u001b[0m\n",
      "\u001b[34m[2021-03-07:01:03:19:INFO] Sniff delimiter as ','\u001b[0m\n",
      "\u001b[34m[2021-03-07:01:03:19:INFO] Determined delimiter of CSV input is ','\u001b[0m\n",
      "\u001b[35m[2021-03-07:01:03:18:INFO] Sniff delimiter as ','\u001b[0m\n",
      "\u001b[35m[2021-03-07:01:03:18:INFO] Determined delimiter of CSV input is ','\u001b[0m\n",
      "\u001b[35m[2021-03-07:01:03:19:INFO] Sniff delimiter as ','\u001b[0m\n",
      "\u001b[35m[2021-03-07:01:03:19:INFO] Determined delimiter of CSV input is ','\u001b[0m\n",
      "\u001b[35m[2021-03-07:01:03:19:INFO] Sniff delimiter as ','\u001b[0m\n",
      "\u001b[35m[2021-03-07:01:03:19:INFO] Determined delimiter of CSV input is ','\u001b[0m\n",
      "\u001b[34m[2021-03-07:01:03:19:INFO] Sniff delimiter as ','\u001b[0m\n",
      "\u001b[35m[2021-03-07:01:03:19:INFO] Sniff delimiter as ','\u001b[0m\n",
      "\u001b[34m[2021-03-07:01:03:19:INFO] Determined delimiter of CSV input is ','\u001b[0m\n",
      "\u001b[35m[2021-03-07:01:03:19:INFO] Determined delimiter of CSV input is ','\u001b[0m\n",
      "\u001b[34m[2021-03-07:01:03:21:INFO] Sniff delimiter as ','\u001b[0m\n",
      "\u001b[34m[2021-03-07:01:03:21:INFO] Determined delimiter of CSV input is ','\u001b[0m\n",
      "\u001b[35m[2021-03-07:01:03:21:INFO] Sniff delimiter as ','\u001b[0m\n",
      "\u001b[35m[2021-03-07:01:03:21:INFO] Determined delimiter of CSV input is ','\u001b[0m\n",
      "\u001b[34m[2021-03-07:01:03:21:INFO] Sniff delimiter as ','\u001b[0m\n",
      "\u001b[34m[2021-03-07:01:03:21:INFO] Determined delimiter of CSV input is ','\u001b[0m\n",
      "\u001b[34m[2021-03-07:01:03:21:INFO] Sniff delimiter as ','\u001b[0m\n",
      "\u001b[34m[2021-03-07:01:03:21:INFO] Determined delimiter of CSV input is ','\u001b[0m\n",
      "\u001b[34m[2021-03-07:01:03:21:INFO] Sniff delimiter as ','\u001b[0m\n",
      "\u001b[34m[2021-03-07:01:03:21:INFO] Determined delimiter of CSV input is ','\u001b[0m\n",
      "\u001b[35m[2021-03-07:01:03:21:INFO] Sniff delimiter as ','\u001b[0m\n",
      "\u001b[35m[2021-03-07:01:03:21:INFO] Determined delimiter of CSV input is ','\u001b[0m\n",
      "\u001b[35m[2021-03-07:01:03:21:INFO] Sniff delimiter as ','\u001b[0m\n",
      "\u001b[35m[2021-03-07:01:03:21:INFO] Determined delimiter of CSV input is ','\u001b[0m\n",
      "\u001b[35m[2021-03-07:01:03:21:INFO] Sniff delimiter as ','\u001b[0m\n",
      "\u001b[35m[2021-03-07:01:03:21:INFO] Determined delimiter of CSV input is ','\u001b[0m\n"
     ]
    },
    {
     "name": "stdout",
     "output_type": "stream",
     "text": [
      "\u001b[34m[2021-03-07:01:03:24:INFO] Sniff delimiter as ','\u001b[0m\n",
      "\u001b[34m[2021-03-07:01:03:24:INFO] Determined delimiter of CSV input is ','\u001b[0m\n",
      "\u001b[35m[2021-03-07:01:03:24:INFO] Sniff delimiter as ','\u001b[0m\n",
      "\u001b[35m[2021-03-07:01:03:24:INFO] Determined delimiter of CSV input is ','\u001b[0m\n",
      "\u001b[34m[2021-03-07:01:03:26:INFO] Sniff delimiter as ','\u001b[0m\n",
      "\u001b[34m[2021-03-07:01:03:26:INFO] Determined delimiter of CSV input is ','\u001b[0m\n",
      "\u001b[35m[2021-03-07:01:03:26:INFO] Sniff delimiter as ','\u001b[0m\n",
      "\u001b[35m[2021-03-07:01:03:26:INFO] Determined delimiter of CSV input is ','\u001b[0m\n",
      "\u001b[34m[2021-03-07:01:03:26:INFO] Sniff delimiter as ','\u001b[0m\n",
      "\u001b[34m[2021-03-07:01:03:26:INFO] Determined delimiter of CSV input is ','\u001b[0m\n",
      "\u001b[34m[2021-03-07:01:03:26:INFO] Sniff delimiter as ','\u001b[0m\n",
      "\u001b[34m[2021-03-07:01:03:26:INFO] Determined delimiter of CSV input is ','\u001b[0m\n",
      "\u001b[34m[2021-03-07:01:03:26:INFO] Sniff delimiter as ','\u001b[0m\n",
      "\u001b[34m[2021-03-07:01:03:26:INFO] Determined delimiter of CSV input is ','\u001b[0m\n",
      "\u001b[35m[2021-03-07:01:03:26:INFO] Sniff delimiter as ','\u001b[0m\n",
      "\u001b[35m[2021-03-07:01:03:26:INFO] Determined delimiter of CSV input is ','\u001b[0m\n",
      "\u001b[35m[2021-03-07:01:03:26:INFO] Sniff delimiter as ','\u001b[0m\n",
      "\u001b[35m[2021-03-07:01:03:26:INFO] Determined delimiter of CSV input is ','\u001b[0m\n",
      "\u001b[35m[2021-03-07:01:03:26:INFO] Sniff delimiter as ','\u001b[0m\n",
      "\u001b[35m[2021-03-07:01:03:26:INFO] Determined delimiter of CSV input is ','\u001b[0m\n",
      "\n"
     ]
    }
   ],
   "source": [
    "xgb_transformer.wait()"
   ]
  },
  {
   "cell_type": "markdown",
   "metadata": {},
   "source": [
    "Now the transform job has executed and the result, the estimated sentiment of each review, has been saved on S3. Since we would rather work on this file locally we can perform a bit of notebook magic to copy the file to the `data_dir`."
   ]
  },
  {
   "cell_type": "code",
   "execution_count": 28,
   "metadata": {},
   "outputs": [
    {
     "name": "stdout",
     "output_type": "stream",
     "text": [
      "download: s3://sagemaker-eu-west-2-266442167964/xgboost-2021-03-07-00-58-38-904/test.csv.out to ../data/sentiment_web_app/test.csv.out\n"
     ]
    }
   ],
   "source": [
    "!aws s3 cp --recursive $xgb_transformer.output_path $data_dir"
   ]
  },
  {
   "cell_type": "markdown",
   "metadata": {},
   "source": [
    "The last step is now to read in the output from our model, convert the output to something a little more usable, in this case we want the sentiment to be either `1` (positive) or `0` (negative), and then compare to the ground truth labels."
   ]
  },
  {
   "cell_type": "code",
   "execution_count": 29,
   "metadata": {},
   "outputs": [],
   "source": [
    "predictions = pd.read_csv(os.path.join(data_dir, 'test.csv.out'), header=None)\n",
    "predictions = [round(num) for num in predictions.squeeze().values]"
   ]
  },
  {
   "cell_type": "code",
   "execution_count": 30,
   "metadata": {},
   "outputs": [
    {
     "data": {
      "text/plain": [
       "0.86064"
      ]
     },
     "execution_count": 30,
     "metadata": {},
     "output_type": "execute_result"
    }
   ],
   "source": [
    "from sklearn.metrics import accuracy_score\n",
    "accuracy_score(test_y, predictions)"
   ]
  },
  {
   "cell_type": "markdown",
   "metadata": {},
   "source": [
    "## Step 6: Deploying the model\n",
    "\n",
    "Once we construct and fit our model, SageMaker stores the resulting model artifacts and we can use those to deploy an endpoint (inference code). To see this, look in the SageMaker console and you should see that a model has been created along with a link to the S3 location where the model artifacts have been stored.\n",
    "\n",
    "Deploying an endpoint is a lot like training the model with a few important differences. The first is that a deployed model doesn't change the model artifacts, so as you send it various testing instances the model won't change. Another difference is that since we aren't performing a fixed computation, as we were in the training step or while performing a batch transform, the compute instance that gets started stays running until we tell it to stop. This is important to note as if we forget and leave it running we will be charged the entire time.\n",
    "\n",
    "In other words **If you are no longer using a deployed endpoint, shut it down!**"
   ]
  },
  {
   "cell_type": "code",
   "execution_count": 31,
   "metadata": {},
   "outputs": [
    {
     "name": "stderr",
     "output_type": "stream",
     "text": [
      "Parameter image will be renamed to image_uri in SageMaker Python SDK v2.\n",
      "Using already existing model: xgboost-2021-03-07-00-49-50-055\n"
     ]
    },
    {
     "name": "stdout",
     "output_type": "stream",
     "text": [
      "-------------!"
     ]
    }
   ],
   "source": [
    "xgb_predictor = xgb.deploy(initial_instance_count = 1, instance_type = 'ml.m4.xlarge')"
   ]
  },
  {
   "cell_type": "markdown",
   "metadata": {},
   "source": [
    "### Testing the model (again)\n",
    "\n",
    "Now that we have deployed our endpoint, we can send the testing data to it and get back the inference results. We already did this earlier using the batch transform functionality of SageMaker, however, we will test our model again using the newly deployed endpoint so that we can make sure that it works properly and to get a bit of a feel for how the endpoint works.\n",
    "\n",
    "When using the created endpoint it is important to know that we are limited in the amount of information we can send in each call so we need to break the testing data up into chunks and then send each chunk. Also, we need to serialize our data before we send it to the endpoint to ensure that our data is transmitted properly. Fortunately, SageMaker can do the serialization part for us provided we tell it the format of our data."
   ]
  },
  {
   "cell_type": "code",
   "execution_count": 32,
   "metadata": {},
   "outputs": [],
   "source": [
    "from sagemaker.predictor import csv_serializer\n",
    "\n",
    "# We need to tell the endpoint what format the data we are sending is in so that SageMaker can perform the serialization.\n",
    "xgb_predictor.content_type = 'text/csv'\n",
    "xgb_predictor.serializer = csv_serializer"
   ]
  },
  {
   "cell_type": "code",
   "execution_count": 33,
   "metadata": {},
   "outputs": [],
   "source": [
    "# We split the data into chunks and send each chunk seperately, accumulating the results.\n",
    "\n",
    "def predict(data, rows=512):\n",
    "    split_array = np.array_split(data, int(data.shape[0] / float(rows) + 1))\n",
    "    predictions = ''\n",
    "    for array in split_array:\n",
    "        predictions = ','.join([predictions, xgb_predictor.predict(array).decode('utf-8')])\n",
    "    \n",
    "    return np.fromstring(predictions[1:], sep=',')"
   ]
  },
  {
   "cell_type": "code",
   "execution_count": 34,
   "metadata": {},
   "outputs": [],
   "source": [
    "test_X = pd.read_csv(os.path.join(data_dir, 'test.csv'), header=None).values\n",
    "\n",
    "predictions = predict(test_X)\n",
    "predictions = [round(num) for num in predictions]"
   ]
  },
  {
   "cell_type": "markdown",
   "metadata": {},
   "source": [
    "Lastly, we check to see what the accuracy of our model is."
   ]
  },
  {
   "cell_type": "code",
   "execution_count": 35,
   "metadata": {},
   "outputs": [
    {
     "data": {
      "text/plain": [
       "0.86064"
      ]
     },
     "execution_count": 35,
     "metadata": {},
     "output_type": "execute_result"
    }
   ],
   "source": [
    "from sklearn.metrics import accuracy_score\n",
    "accuracy_score(test_y, predictions)"
   ]
  },
  {
   "cell_type": "markdown",
   "metadata": {},
   "source": [
    "And the results here should agree with the model testing that we did earlier using the batch transform job.\n",
    "\n",
    "### Cleaning up\n",
    "\n",
    "Now that we've determined that deploying our model works as expected, we are going to shut it down. Remember that the longer the endpoint is left running, the greater the cost and since we have a bit more work to do before we are able to use our endpoint with our simple web app, we should shut everything down."
   ]
  },
  {
   "cell_type": "code",
   "execution_count": 36,
   "metadata": {},
   "outputs": [],
   "source": [
    "xgb_predictor.delete_endpoint()"
   ]
  },
  {
   "cell_type": "markdown",
   "metadata": {},
   "source": [
    "## Step 7: Putting our model to work\n",
    "\n",
    "As we've mentioned a few times now, our goal is to have our model deployed and then access it using a very simple web app. The intent is for this web app to take some user submitted data (a review), send it off to our endpoint (the model) and then display the result.\n",
    "\n",
    "However, there is a small catch. Currently the only way we can access the endpoint to send it data is using the SageMaker API. We can, if we wish, expose the actual URL that our model's endpoint is receiving data from, however, if we just send it data ourselves we will not get anything in return. This is because the endpoint created by SageMaker requires the entity accessing it have the correct permissions. So, we would need to somehow authenticate our web app with AWS.\n",
    "\n",
    "Having a website that authenticates to AWS seems a bit beyond the scope of this lesson so we will opt for an alternative approach. Namely, we will create a new endpoint which does not require authentication and which acts as a proxy for the SageMaker endpoint.\n",
    "\n",
    "As an additional constraint, we will try to avoid doing any data processing in the web app itself. Remember that when we constructed and tested our model we started with a movie review, then we simplified it by removing any html formatting and punctuation, then we constructed a bag of words embedding and the resulting vector is what we sent to our model. All of this needs to be done to our user input as well.\n",
    "\n",
    "Fortunately we can do all of this data processing in the backend, using Amazon's Lambda service.\n",
    "\n",
    "<img src=\"Web App Diagram.svg\">\n",
    "\n",
    "The diagram above gives an overview of how the various services will work together. On the far right is the model which we trained above and which will be deployed using SageMaker. On the far left is our web app that collects a user's movie review, sends it off and expects a positive or negative sentiment in return.\n",
    "\n",
    "In the middle is where some of the magic happens. We will construct a Lambda function, which you can think of as a straightforward Python function that can be executed whenever a specified event occurs. This Python function will do the data processing we need to perform on a user submitted review. In addition, we will give this function permission to send and recieve data from a SageMaker endpoint.\n",
    "\n",
    "Lastly, the method we will use to execute the Lambda function is a new endpoint that we will create using API Gateway. This endpoint will be a url that listens for data to be sent to it. Once it gets some data it will pass that data on to the Lambda function and then return whatever the Lambda function returns. Essentially it will act as an interface that lets our web app communicate with the Lambda function.\n",
    "\n",
    "### Processing a single review\n",
    "\n",
    "For now, suppose we are given a movie review by our user in the form of a string, like so:"
   ]
  },
  {
   "cell_type": "code",
   "execution_count": 37,
   "metadata": {},
   "outputs": [],
   "source": [
    "test_review = \"Nothing but a disgusting materialistic pageant of glistening abed remote control greed zombies, totally devoid of any heart or heat. A romantic comedy that has zero romantic chemestry and zero laughs!\""
   ]
  },
  {
   "cell_type": "markdown",
   "metadata": {},
   "source": [
    "How do we go from this string to the bag of words feature vector that is expected by our model?\n",
    "\n",
    "If we recall at the beginning of this notebook, the first step is to remove any unnecessary characters using the `review_to_words` method. Remember that we intentionally did this in a very simplistic way. This is because we are going to have to copy this method to our (eventual) Lambda function (we will go into more detail later) and this means it needs to be rather simplistic."
   ]
  },
  {
   "cell_type": "code",
   "execution_count": 38,
   "metadata": {},
   "outputs": [
    {
     "name": "stdout",
     "output_type": "stream",
     "text": [
      "nothing but a disgusting materialistic pageant of glistening abed remote control greed zombies totally devoid of any heart or heat a romantic comedy that has zero romantic chemestry and zero laughs\n"
     ]
    }
   ],
   "source": [
    "test_words = review_to_words(test_review)\n",
    "print(test_words)"
   ]
  },
  {
   "cell_type": "markdown",
   "metadata": {},
   "source": [
    "Next, we need to construct a bag of words embedding of the `test_words` string. To do this, remember that a bag of words embedding uses a `vocabulary` consisting of the most frequently appearing words in a set of documents. Then, for each word in the vocabulary we record the number of times that word appears in `test_words`. We constructed the `vocabulary` earlier using the training set for our problem so encoding `test_words` is relatively straightforward."
   ]
  },
  {
   "cell_type": "code",
   "execution_count": 39,
   "metadata": {},
   "outputs": [],
   "source": [
    "def bow_encoding(words, vocabulary):\n",
    "    bow = [0] * len(vocabulary) # Start by setting the count for each word in the vocabulary to zero.\n",
    "    for word in words.split():  # For each word in the string\n",
    "        if word in vocabulary:  # If the word is one that occurs in the vocabulary, increase its count.\n",
    "            bow[vocabulary[word]] += 1\n",
    "    return bow"
   ]
  },
  {
   "cell_type": "code",
   "execution_count": 40,
   "metadata": {},
   "outputs": [
    {
     "name": "stdout",
     "output_type": "stream",
     "text": [
      "[0, 0, 0, 0, 0, 0, 0, 0, 0, 0, 0, 0, 0, 0, 0, 0, 0, 0, 0, 0, 0, 0, 0, 0, 0, 0, 0, 0, 0, 0, 0, 0, 0, 0, 0, 0, 0, 0, 0, 0, 0, 0, 0, 0, 0, 0, 0, 0, 0, 0, 0, 0, 0, 0, 0, 0, 0, 0, 0, 0, 0, 0, 0, 0, 0, 0, 0, 0, 0, 0, 0, 0, 0, 0, 0, 0, 0, 0, 0, 0, 0, 0, 0, 0, 0, 0, 0, 0, 0, 0, 0, 0, 0, 0, 0, 0, 0, 0, 0, 0, 0, 0, 0, 0, 0, 0, 0, 0, 0, 0, 0, 0, 0, 0, 0, 0, 0, 0, 0, 0, 0, 0, 0, 0, 0, 0, 0, 0, 0, 0, 0, 0, 0, 0, 0, 0, 0, 0, 0, 0, 0, 0, 0, 0, 0, 0, 0, 0, 0, 0, 0, 0, 0, 0, 0, 0, 0, 0, 0, 0, 0, 0, 0, 0, 0, 0, 0, 0, 0, 0, 0, 0, 0, 0, 0, 0, 0, 0, 0, 0, 0, 0, 0, 0, 0, 0, 0, 0, 0, 0, 0, 0, 0, 0, 0, 0, 0, 0, 0, 0, 0, 0, 0, 0, 0, 0, 0, 0, 0, 0, 0, 0, 0, 0, 0, 0, 0, 0, 0, 0, 0, 0, 0, 0, 0, 0, 1, 0, 0, 0, 0, 0, 0, 0, 0, 0, 0, 0, 0, 0, 0, 0, 0, 0, 0, 0, 0, 0, 0, 0, 0, 0, 0, 0, 0, 0, 1, 0, 0, 0, 0, 0, 0, 0, 0, 0, 0, 0, 0, 0, 0, 0, 0, 0, 0, 0, 0, 0, 0, 0, 0, 0, 0, 0, 0, 0, 0, 0, 0, 0, 0, 0, 0, 0, 0, 0, 0, 0, 0, 0, 0, 0, 0, 0, 0, 0, 0, 0, 0, 0, 0, 0, 0, 0, 0, 0, 0, 0, 0, 0, 0, 0, 0, 0, 0, 0, 0, 0, 0, 0, 0, 0, 0, 0, 0, 0, 0, 0, 0, 0, 0, 0, 0, 0, 0, 0, 0, 0, 0, 0, 0, 0, 0, 0, 0, 0, 0, 0, 0, 0, 0, 0, 0, 0, 0, 0, 0, 0, 0, 0, 0, 0, 0, 0, 0, 0, 0, 0, 0, 0, 0, 0, 0, 0, 0, 0, 0, 0, 0, 0, 0, 0, 0, 0, 0, 0, 0, 0, 0, 0, 0, 0, 0, 0, 0, 0, 0, 0, 0, 0, 0, 0, 0, 0, 0, 0, 0, 0, 0, 0, 0, 0, 0, 0, 0, 0, 0, 0, 0, 0, 0, 0, 0, 0, 0, 0, 0, 0, 0, 0, 0, 0, 0, 0, 0, 0, 0, 0, 0, 0, 0, 0, 0, 0, 0, 0, 0, 0, 0, 0, 0, 0, 0, 0, 0, 0, 0, 0, 0, 0, 0, 0, 0, 0, 0, 0, 0, 0, 0, 0, 0, 0, 0, 0, 0, 0, 0, 0, 0, 0, 0, 0, 0, 0, 0, 0, 0, 0, 0, 0, 0, 0, 0, 0, 0, 0, 0, 0, 0, 0, 0, 0, 0, 0, 0, 0, 0, 0, 0, 0, 0, 0, 0, 0, 0, 0, 0, 0, 0, 0, 0, 0, 0, 0, 0, 0, 0, 0, 0, 0, 0, 0, 0, 0, 0, 0, 0, 0, 0, 0, 0, 0, 0, 0, 0, 0, 0, 0, 0, 0, 0, 0, 0, 0, 0, 0, 0, 0, 0, 0, 0, 0, 0, 0, 0, 0, 0, 0, 0, 0, 0, 0, 0, 0, 0, 0, 0, 0, 0, 0, 0, 0, 0, 0, 0, 0, 0, 0, 0, 0, 0, 0, 0, 0, 0, 0, 0, 0, 0, 0, 0, 0, 0, 0, 0, 0, 0, 0, 0, 0, 0, 0, 0, 0, 0, 0, 0, 0, 0, 0, 0, 0, 0, 0, 0, 0, 1, 0, 0, 0, 0, 0, 0, 0, 0, 0, 0, 0, 0, 0, 0, 0, 0, 0, 0, 0, 0, 0, 0, 0, 0, 0, 0, 0, 0, 0, 0, 0, 0, 0, 0, 0, 0, 0, 0, 0, 0, 0, 0, 0, 0, 0, 0, 0, 0, 0, 0, 0, 0, 0, 0, 0, 0, 0, 0, 0, 0, 0, 0, 0, 0, 0, 0, 0, 0, 0, 0, 0, 0, 0, 0, 0, 0, 0, 0, 0, 0, 0, 0, 0, 0, 0, 0, 0, 0, 0, 0, 0, 0, 0, 0, 0, 0, 0, 0, 0, 0, 0, 0, 0, 0, 0, 0, 0, 0, 0, 0, 0, 0, 0, 0, 0, 0, 0, 0, 0, 0, 0, 0, 0, 0, 0, 0, 0, 0, 0, 0, 0, 0, 0, 0, 0, 0, 0, 0, 0, 0, 0, 0, 0, 0, 0, 0, 0, 0, 0, 0, 0, 0, 0, 0, 0, 0, 0, 0, 0, 0, 0, 0, 0, 0, 0, 0, 0, 0, 0, 0, 0, 0, 0, 0, 0, 0, 0, 0, 0, 0, 0, 0, 0, 0, 0, 0, 0, 0, 0, 0, 0, 0, 0, 0, 0, 0, 0, 0, 0, 0, 0, 0, 0, 0, 0, 0, 0, 0, 0, 0, 0, 0, 0, 0, 0, 0, 0, 0, 0, 0, 0, 0, 0, 0, 0, 0, 0, 0, 0, 0, 0, 0, 0, 0, 0, 0, 0, 0, 0, 0, 0, 0, 0, 0, 0, 0, 0, 0, 0, 0, 0, 0, 0, 1, 0, 0, 0, 0, 0, 0, 0, 0, 0, 0, 0, 0, 0, 0, 0, 0, 0, 0, 0, 0, 0, 0, 0, 0, 0, 0, 0, 0, 0, 0, 0, 0, 0, 0, 0, 0, 0, 0, 0, 0, 0, 0, 0, 0, 0, 0, 0, 0, 0, 0, 0, 0, 0, 0, 0, 0, 0, 0, 0, 0, 0, 0, 0, 0, 0, 0, 0, 0, 0, 0, 0, 0, 0, 0, 0, 0, 0, 0, 0, 0, 0, 0, 0, 0, 0, 0, 1, 0, 0, 0, 0, 0, 0, 0, 0, 0, 0, 0, 0, 0, 0, 0, 0, 0, 0, 0, 0, 0, 0, 0, 0, 0, 0, 0, 0, 0, 0, 0, 0, 0, 0, 0, 0, 0, 0, 0, 0, 0, 0, 0, 0, 0, 0, 0, 0, 0, 0, 0, 0, 0, 0, 0, 0, 0, 0, 0, 0, 0, 0, 0, 0, 0, 0, 0, 0, 0, 0, 0, 0, 0, 0, 0, 0, 0, 0, 0, 0, 0, 0, 0, 0, 0, 0, 0, 0, 0, 0, 0, 0, 0, 0, 0, 0, 0, 0, 0, 0, 0, 0, 0, 0, 0, 0, 0, 0, 0, 0, 0, 0, 0, 0, 0, 0, 0, 0, 0, 0, 0, 0, 0, 0, 0, 0, 0, 0, 0, 0, 0, 0, 0, 0, 0, 0, 0, 0, 0, 0, 0, 0, 0, 0, 0, 0, 0, 0, 0, 0, 0, 0, 0, 0, 0, 0, 0, 0, 0, 0, 0, 0, 0, 0, 0, 0, 0, 0, 0, 0, 0, 0, 0, 0, 0, 0, 0, 0, 0, 0, 0, 0, 0, 0, 0, 0, 0, 0, 0, 0, 0, 0, 0, 0, 0, 0, 0, 0, 0, 0, 0, 0, 0, 0, 0, 0, 0, 0, 0, 0, 0, 0, 0, 0, 0, 0, 0, 0, 0, 0, 0, 0, 0, 0, 0, 0, 0, 0, 0, 0, 0, 0, 0, 0, 0, 0, 0, 0, 0, 0, 0, 0, 0, 0, 0, 0, 0, 0, 0, 0, 0, 0, 1, 0, 0, 0, 0, 0, 0, 0, 0, 0, 0, 0, 0, 0, 0, 0, 0, 0, 0, 0, 0, 0, 0, 0, 0, 0, 0, 0, 0, 0, 0, 0, 0, 0, 0, 0, 0, 0, 0, 0, 0, 0, 0, 0, 0, 0, 0, 0, 0, 0, 0, 0, 0, 0, 0, 0, 1, 0, 0, 0, 0, 0, 0, 0, 0, 0, 0, 0, 0, 0, 0, 0, 0, 0, 0, 0, 0, 0, 0, 0, 0, 0, 0, 0, 0, 0, 0, 0, 0, 0, 0, 0, 0, 0, 0, 0, 0, 0, 0, 0, 0, 0, 0, 0, 0, 0, 0, 0, 0, 0, 0, 0, 0, 0, 0, 0, 0, 0, 0, 0, 0, 0, 0, 0, 0, 0, 0, 0, 0, 0, 0, 0, 0, 0, 0, 0, 0, 0, 0, 0, 0, 0, 0, 0, 0, 0, 0, 0, 0, 0, 0, 0, 0, 0, 0, 0, 0, 0, 0, 0, 0, 0, 0, 0, 0, 0, 0, 0, 0, 0, 0, 0, 0, 0, 0, 0, 0, 0, 0, 0, 0, 0, 0, 0, 0, 0, 0, 0, 0, 0, 0, 0, 0, 0, 0, 0, 0, 0, 0, 0, 0, 0, 0, 0, 0, 0, 0, 0, 0, 0, 0, 0, 0, 0, 0, 0, 0, 0, 0, 0, 0, 0, 0, 0, 0, 0, 0, 0, 0, 0, 0, 0, 0, 0, 0, 0, 0, 0, 0, 0, 0, 0, 0, 0, 0, 0, 0, 0, 0, 0, 0, 0, 0, 0, 0, 0, 0, 0, 0, 0, 0, 0, 0, 0, 0, 0, 0, 0, 0, 0, 0, 0, 0, 0, 0, 0, 0, 0, 0, 0, 0, 0, 0, 0, 0, 0, 0, 0, 0, 0, 0, 0, 0, 0, 0, 0, 0, 0, 0, 0, 0, 0, 0, 0, 0, 0, 0, 0, 0, 0, 0, 0, 0, 0, 0, 0, 0, 0, 0, 0, 0, 0, 0, 0, 0, 0, 0, 0, 0, 0, 0, 0, 0, 0, 0, 0, 0, 0, 0, 0, 0, 0, 0, 0, 0, 0, 0, 0, 0, 0, 0, 0, 0, 0, 0, 0, 0, 0, 0, 0, 0, 0, 0, 0, 0, 0, 0, 0, 0, 0, 0, 0, 0, 0, 0, 0, 0, 0, 0, 0, 0, 0, 0, 0, 0, 0, 0, 0, 0, 0, 0, 0, 0, 0, 0, 0, 0, 0, 0, 0, 0, 0, 0, 0, 0, 0, 0, 0, 0, 0, 0, 0, 0, 0, 0, 0, 0, 0, 0, 0, 0, 0, 0, 0, 0, 0, 0, 0, 0, 0, 0, 0, 0, 0, 0, 0, 0, 0, 0, 0, 0, 0, 0, 0, 0, 0, 0, 0, 0, 0, 0, 0, 0, 0, 0, 0, 0, 0, 0, 0, 0, 0, 0, 0, 0, 0, 0, 0, 0, 0, 0, 0, 0, 0, 0, 0, 0, 0, 0, 0, 0, 0, 0, 0, 0, 0, 0, 0, 0, 0, 0, 0, 0, 0, 0, 0, 0, 0, 0, 0, 0, 0, 0, 0, 0, 0, 0, 0, 0, 0, 0, 0, 0, 0, 0, 0, 0, 0, 0, 0, 0, 0, 0, 0, 0, 0, 0, 0, 0, 0, 0, 0, 0, 0, 0, 0, 0, 0, 0, 0, 0, 0, 0, 0, 0, 0, 0, 0, 0, 0, 0, 0, 0, 0, 0, 0, 0, 0, 0, 0, 0, 0, 0, 0, 0, 0, 0, 0, 0, 0, 0, 0, 0, 0, 0, 0, 0, 0, 0, 0, 0, 0, 0, 0, 0, 0, 0, 0, 0, 0, 0, 0, 0, 0, 0, 0, 0, 0, 0, 0, 0, 0, 0, 0, 0, 0, 0, 0, 0, 0, 0, 0, 0, 0, 0, 0, 0, 0, 0, 0, 0, 0, 0, 0, 0, 0, 0, 0, 0, 0, 0, 0, 0, 0, 0, 0, 0, 0, 0, 0, 0, 0, 0, 0, 0, 0, 0, 0, 0, 0, 0, 0, 0, 0, 0, 0, 0, 0, 0, 0, 0, 0, 0, 0, 0, 0, 0, 0, 0, 0, 0, 0, 0, 0, 0, 0, 0, 0, 0, 0, 0, 0, 0, 0, 0, 0, 0, 0, 0, 0, 0, 0, 0, 0, 0, 0, 0, 0, 0, 0, 0, 0, 0, 0, 0, 0, 0, 0, 0, 0, 0, 0, 0, 0, 0, 0, 0, 0, 0, 0, 0, 0, 0, 0, 0, 0, 0, 0, 0, 0, 0, 0, 0, 0, 0, 0, 0, 0, 1, 0, 0, 0, 0, 0, 0, 0, 0, 0, 0, 0, 0, 0, 0, 0, 0, 0, 0, 0, 0, 0, 0, 0, 0, 0, 0, 0, 0, 0, 0, 0, 0, 0, 0, 0, 0, 0, 0, 0, 0, 0, 0, 0, 0, 0, 0, 0, 0, 0, 0, 0, 0, 0, 0, 0, 0, 0, 0, 0, 0, 0, 0, 0, 0, 0, 0, 0, 0, 0, 0, 0, 0, 0, 0, 1, 0, 0, 0, 0, 0, 0, 0, 0, 0, 0, 0, 0, 0, 0, 0, 0, 0, 0, 0, 0, 1, 0, 0, 1, 0, 0, 0, 0, 0, 0, 0, 0, 0, 0, 0, 0, 0, 0, 0, 0, 0, 0, 0, 0, 0, 0, 0, 0, 0, 0, 0, 0, 0, 0, 0, 0, 0, 0, 0, 0, 0, 0, 0, 0, 0, 0, 0, 0, 0, 0, 0, 0, 0, 0, 0, 0, 0, 0, 0, 0, 0, 0, 0, 0, 0, 0, 0, 0, 0, 0, 0, 0, 0, 0, 0, 0, 0, 0, 0, 0, 0, 0, 0, 0, 0, 0, 0, 0, 0, 0, 0, 0, 0, 0, 0, 0, 0, 0, 0, 0, 0, 0, 0, 0, 0, 0, 0, 0, 0, 0, 0, 0, 0, 0, 0, 0, 0, 0, 0, 0, 0, 0, 0, 0, 0, 0, 0, 0, 0, 0, 0, 0, 0, 0, 0, 0, 0, 0, 0, 0, 0, 0, 0, 0, 0, 0, 0, 0, 0, 0, 0, 0, 0, 0, 0, 0, 0, 0, 0, 0, 0, 0, 0, 0, 0, 0, 0, 0, 0, 0, 0, 0, 0, 0, 0, 0, 0, 0, 0, 0, 0, 0, 0, 0, 0, 0, 0, 0, 0, 0, 0, 0, 0, 0, 0, 0, 0, 0, 0, 0, 0, 0, 0, 0, 0, 0, 0, 0, 0, 0, 0, 0, 0, 0, 0, 0, 0, 0, 0, 0, 0, 0, 0, 0, 0, 0, 0, 0, 0, 0, 0, 0, 0, 0, 0, 0, 0, 0, 0, 0, 0, 0, 0, 0, 0, 0, 0, 0, 0, 0, 0, 0, 0, 0, 0, 0, 0, 0, 0, 0, 0, 0, 0, 0, 0, 0, 0, 0, 0, 0, 0, 0, 0, 0, 0, 0, 0, 0, 0, 0, 0, 0, 0, 0, 0, 0, 0, 0, 0, 0, 0, 0, 0, 0, 0, 0, 0, 0, 0, 0, 0, 0, 0, 0, 0, 0, 0, 0, 0, 0, 0, 0, 0, 0, 0, 0, 0, 0, 0, 0, 0, 0, 0, 0, 0, 0, 0, 0, 0, 0, 0, 0, 0, 0, 0, 0, 0, 0, 0, 0, 0, 0, 0, 0, 0, 0, 0, 0, 0, 0, 0, 0, 0, 0, 0, 0, 0, 0, 0, 0, 0, 0, 0, 0, 0, 0, 0, 0, 0, 0, 0, 0, 0, 0, 0, 0, 0, 0, 0, 0, 0, 0, 0, 0, 0, 0, 0, 0, 0, 0, 0, 0, 0, 0, 0, 0, 0, 0, 0, 0, 0, 0, 0, 0, 0, 0, 0, 0, 0, 0, 0, 0, 0, 0, 0, 0, 0, 0, 0, 0, 0, 0, 0, 0, 0, 0, 0, 0, 0, 0, 0, 0, 0, 0, 0, 0, 0, 0, 0, 0, 0, 0, 0, 0, 0, 0, 0, 0, 0, 0, 0, 0, 0, 0, 0, 0, 0, 0, 0, 0, 0, 0, 0, 0, 0, 0, 0, 0, 0, 0, 1, 0, 0, 0, 0, 0, 0, 0, 0, 0, 0, 0, 0, 0, 0, 0, 0, 0, 0, 0, 0, 0, 0, 0, 0, 0, 0, 0, 0, 0, 0, 0, 0, 0, 0, 0, 0, 0, 0, 0, 0, 0, 0, 0, 0, 0, 0, 0, 0, 0, 0, 0, 0, 0, 0, 0, 0, 0, 0, 0, 0, 0, 0, 0, 0, 0, 0, 0, 0, 0, 0, 0, 0, 0, 0, 0, 0, 0, 0, 0, 0, 0, 0, 0, 0, 0, 0, 0, 0, 0, 0, 0, 0, 0, 0, 0, 0, 0, 0, 0, 0, 0, 0, 0, 0, 0, 0, 0, 0, 0, 0, 0, 0, 0, 0, 0, 0, 0, 0, 0, 0, 0, 0, 0, 0, 0, 0, 0, 0, 0, 0, 0, 0, 0, 0, 0, 0, 0, 0, 0, 0, 0, 0, 0, 0, 0, 0, 0, 0, 0, 0, 0, 0, 0, 0, 0, 0, 0, 0, 0, 0, 0, 0, 0, 0, 0, 0, 0, 0, 0, 0, 0, 0, 0, 0, 0, 0, 0, 0, 0, 0, 0, 0, 0, 0, 0, 0, 0, 0, 0, 0, 0, 0, 0, 0, 0, 0, 0, 0, 0, 0, 0, 0, 0, 0, 0, 0, 0, 0, 0, 0, 0, 0, 0, 0, 0, 0, 0, 0, 0, 0, 0, 0, 0, 0, 0, 0, 0, 0, 0, 0, 0, 0, 0, 0, 0, 0, 0, 0, 0, 0, 0, 0, 0, 0, 0, 0, 0, 0, 0, 0, 0, 0, 0, 0, 0, 0, 0, 0, 0, 0, 0, 0, 0, 0, 0, 0, 0, 0, 0, 0, 0, 0, 0, 0, 0, 0, 0, 0, 0, 0, 0, 0, 0, 0, 0, 0, 0, 0, 0, 0, 0, 0, 0, 0, 0, 0, 0, 0, 0, 0, 0, 0, 0, 0, 0, 0, 0, 0, 0, 0, 0, 0, 0, 0, 0, 0, 0, 0, 0, 0, 0, 0, 0, 0, 0, 0, 0, 0, 0, 0, 0, 0, 0, 0, 0, 0, 0, 0, 0, 0, 0, 0, 0, 0, 0, 0, 0, 0, 0, 0, 0, 0, 0, 0, 0, 0, 0, 0, 0, 0, 0, 0, 0, 0, 0, 0, 0, 0, 0, 0, 0, 0, 0, 0, 0, 0, 0, 0, 0, 0, 0, 0, 0, 0, 0, 0, 0, 0, 0, 0, 0, 0, 0, 0, 0, 0, 0, 0, 0, 0, 0, 0, 0, 0, 0, 0, 0, 0, 0, 0, 0, 0, 0, 0, 0, 0, 0, 0, 0, 0, 0, 0, 0, 0, 0, 0, 0, 0, 0, 0, 0, 0, 0, 0, 0, 0, 0, 0, 0, 0, 0, 0, 0, 0, 0, 0, 0, 0, 0, 0, 0, 0, 0, 0, 0, 0, 0, 0, 0, 0, 0, 0, 0, 0, 0, 0, 0, 0, 0, 0, 0, 0, 0, 0, 0, 0, 0, 0, 0, 0, 0, 0, 0, 0, 0, 0, 0, 0, 0, 0, 0, 0, 0, 0, 0, 0, 0, 0, 0, 0, 0, 0, 0, 0, 0, 0, 0, 0, 0, 0, 0, 0, 1, 0, 0, 0, 0, 0, 0, 0, 0, 0, 0, 0, 0, 0, 0, 0, 0, 0, 0, 0, 0, 0, 0, 0, 0, 0, 0, 0, 0, 0, 0, 0, 0, 0, 0, 0, 2, 0, 0, 0, 0, 0, 0, 0, 0, 0, 0, 0, 0, 0, 0, 0, 0, 0, 0, 0, 0, 0, 0, 0, 0, 0, 0, 0, 0, 0, 0, 0, 0, 0, 0, 0, 0, 0, 0, 0, 0, 1, 0, 0, 0, 0, 0, 0, 0, 0, 0, 0, 0, 0, 0, 0, 0, 0, 0, 0, 0, 0, 0, 0, 0, 0, 0, 0, 0, 0, 0, 0, 0, 0, 0, 0, 0, 0, 0, 0, 0, 0, 0, 0, 0, 0, 0, 0, 0, 0, 0, 0, 0, 0, 0, 0, 0, 0, 0, 0, 0, 0, 0, 0, 0, 0, 0, 0, 0, 0, 0, 0, 0, 0, 0, 0, 0, 0, 0, 0, 0, 0, 0, 0, 0, 0, 0, 0, 0, 0, 0, 0, 0, 0, 0, 0, 0, 0, 0, 0, 0, 0, 0, 0, 0, 0, 0, 0, 0, 0, 0, 0, 0, 0, 0, 0, 0, 0, 0, 0, 0, 0, 0, 0, 0, 0, 0, 0, 0, 0, 0, 0, 0, 0, 0, 0, 0, 0, 0, 0, 0, 0, 0, 0, 0, 0, 0, 0, 0, 0, 0, 0, 0, 0, 0, 0, 0, 0, 0, 0, 0, 0, 0, 0, 0, 0, 0, 0, 0, 0, 0, 0, 0, 0, 0, 0, 0, 0, 0, 0, 0, 0, 0, 0, 0, 0, 0, 0, 0, 0, 0, 0, 0, 0, 0, 0, 0, 0, 0, 0, 0, 0, 0, 0, 0, 0, 0, 0, 0, 0, 0, 0, 0, 0, 0, 0, 0, 0, 0, 0, 0, 0, 0, 0, 0, 0, 0, 0, 0, 0, 0, 0, 0, 0, 0, 0, 0, 0, 0, 0, 0, 0, 0, 0, 0, 0, 0, 0, 0, 0, 0, 0, 0, 0, 0, 0, 0, 0, 0, 0, 0, 0, 0, 0, 0, 0, 0, 0, 0, 0, 0, 0, 0, 0, 0, 0, 0, 0, 0, 0, 0, 0, 0, 0, 0, 0, 0, 0, 0, 0, 0, 0, 0, 0, 0, 0, 0, 0, 0, 0, 0, 0, 0, 0, 0, 0, 0, 0, 0, 0, 0, 0, 0, 0, 0, 0, 0, 0, 0, 0, 0, 0, 0, 0, 0, 0, 0, 0, 0, 0, 0, 0, 0, 0, 0, 0, 0, 0, 0, 0, 0, 0, 0, 0, 0, 0, 0, 0, 0, 0, 0, 0, 0, 0, 0, 0, 0, 0, 0, 0, 0, 0, 0, 0, 0, 0, 0, 0, 0, 0, 0, 0, 0, 0, 0, 0, 0, 0, 0, 0, 0, 0, 0, 0, 0, 0, 0, 0, 0, 0, 0, 0, 0, 0, 0, 0, 0, 0, 0, 0, 0, 0, 0, 0, 0, 0, 0, 0, 0, 0, 0, 0, 0, 0, 0, 0, 0, 0, 0, 0, 0, 0, 0, 0, 0, 0, 0, 0, 0, 0, 0, 0, 0, 0, 0, 0, 0, 0, 0, 0, 0, 0, 0, 0, 0, 0, 0, 0, 0, 0, 0, 0, 0, 0, 0, 0, 0, 0, 0, 0, 0, 0, 0, 0, 0, 0, 0, 0, 0, 0, 0, 0, 0, 0, 0, 0, 0, 0, 0, 0, 0, 0, 0, 0, 0, 0, 0, 0, 0, 0, 0, 0, 0, 0, 0, 0, 0, 0, 0, 1, 0, 0, 0, 0, 0, 0, 0, 0, 0, 0, 0, 0, 0, 0, 0, 0, 0, 0, 0, 0, 0, 0, 0, 0, 0, 0, 0, 0, 0, 0, 0, 0, 0, 0, 0, 0, 0, 0, 0, 0, 0, 0, 0, 0, 0, 0, 0, 0, 0, 0, 0, 0, 0, 0, 0, 0, 0, 0, 0, 0, 0, 0, 0, 0, 0, 0, 0, 0, 0, 0, 0, 0, 0, 0, 0, 0, 0, 0, 0, 0, 0, 0, 0, 0, 0, 0, 0, 0, 0, 0, 0, 0, 0, 0, 0, 0, 0, 0, 0, 0, 0, 0, 0, 0, 0, 0, 0, 0, 0, 0, 2, 0, 0, 0, 0, 0, 0, 0, 0, 0, 0, 0, 0, 0, 0, 0, 0, 0, 0, 0, 0, 0, 0, 0, 0, 0, 0, 0, 0, 0, 0, 0, 0, 0, 0, 0, 0, 0, 0, 0, 0, 0, 0, 0, 0, 0, 0, 0, 0, 0, 0, 0, 0, 0, 0, 0, 0, 0, 0, 0, 0, 0, 0, 0, 0, 0, 0, 0, 0, 0, 0, 0, 0, 0, 0, 0, 0, 0, 0, 0, 0, 0, 0, 0, 0, 0, 0, 0, 0, 0, 0, 0, 0, 0, 0, 0, 0, 0, 0, 0, 0, 0, 0, 0, 0, 0, 0, 0, 0, 0, 0, 0, 0, 0, 0, 0, 0, 0, 0, 0, 0, 0, 0, 0, 0, 0, 0, 0, 0, 0, 0, 0, 0, 0, 0, 0, 0, 0, 0, 0, 0, 0, 0, 0, 0, 0, 0, 0, 0, 0, 0, 0, 0, 0, 0, 0, 0, 0, 0, 0, 0, 0, 0, 0, 0, 0, 0, 0, 0, 0, 0, 0, 0, 0, 0, 0, 0, 0, 0, 0, 0, 0, 0, 0, 0, 0, 0, 0, 0, 0, 0, 0, 0, 0, 0, 0, 0, 0, 0, 0, 0, 0, 0, 0, 0, 0, 0, 0, 0, 0, 0, 0, 0, 0, 0, 0, 0, 0, 0, 0, 0, 0, 0, 0, 0, 0, 0, 0, 0, 0, 0, 0, 0, 0, 0, 0, 0, 0, 0, 0, 0, 0, 0, 0, 0, 0, 0, 0, 0, 0, 0, 0, 0, 0, 0, 0, 0, 0, 0, 0, 0, 0, 0, 0, 0, 0, 0, 0, 0, 0, 0, 0, 0, 0, 0, 0, 0, 0, 0, 0, 0, 0, 0, 0, 0, 0, 0, 0, 0, 0, 0, 0, 0, 0, 0, 0, 0, 0, 0, 0, 0, 0, 0, 0, 0, 0, 0, 0, 0, 0, 0, 0, 0, 0, 0, 0, 0, 0, 0, 0, 0, 0, 0, 0, 0, 0, 0, 0, 0, 0, 0, 0, 0, 0, 0, 0, 0, 0, 0, 0, 0, 0, 0, 0, 0, 0, 0, 0, 0, 0, 0, 0, 0, 0, 0, 0, 0, 0, 0, 0, 0, 0, 0, 0, 0, 0, 0, 0, 0, 0, 0, 0, 0, 0, 0, 0, 0, 0, 0, 0, 0, 0, 0, 0, 0, 0, 0, 0, 0, 0, 0, 0, 0, 0, 0, 0, 0, 0, 0, 0, 0, 0, 0, 0, 0, 0, 0, 0, 0, 0, 0, 0, 0, 0, 0, 0, 0, 0, 0, 0, 0, 0, 0, 0, 0, 0, 0, 0, 0, 0, 0, 0, 0, 0, 0, 0, 0, 0, 0, 0, 0, 0, 0, 0, 0, 0, 0, 0, 0, 0, 0, 0, 0, 0, 0, 0, 0, 0, 0, 0, 0, 0, 0, 0, 0, 0, 0, 0, 0, 0, 0, 0, 0, 0, 0, 0, 0, 0, 0, 0, 0, 0, 0, 0, 0, 0, 0, 0, 0, 0, 0, 0, 0, 0, 0, 0, 0, 0, 0, 0, 0, 0, 0, 0, 0, 0, 0, 0, 0, 0, 0, 0, 0, 0, 0, 0, 0, 0, 0, 0, 0, 0, 0, 0, 0, 0, 0, 0, 0, 0, 0, 0, 0, 0, 0, 0, 0, 0, 0, 0, 0, 0, 0, 0, 0, 0, 0, 0, 0, 0, 0, 0, 0, 0, 0, 0, 0, 0, 0, 0, 0, 0, 0, 0, 0, 0, 0, 0, 0, 0, 0, 0, 0, 0, 0, 0, 0, 0, 0, 0, 0, 0, 0, 0, 0, 0, 0, 0, 0, 0, 0, 0, 0, 0, 0, 0, 0, 0, 0, 0, 0, 0, 0, 0, 0, 0, 0, 0, 0, 0, 0, 0, 0, 0, 0, 0, 0, 0, 0, 0, 0, 0, 0, 0, 0, 0, 0, 0, 0, 0, 0, 0, 0, 0, 0, 0, 0, 0, 0, 0, 0, 0, 0, 0, 0, 0, 0, 0, 0, 0, 0, 0, 0, 0, 0, 0, 0, 0, 0, 0, 0, 0, 0, 0, 0, 0, 0, 0, 0, 0, 0, 0, 0, 0, 0, 0, 0, 0, 0, 0, 0, 0, 0, 0, 0, 0, 0, 0, 0, 0, 0, 1, 0, 0, 0, 0, 0, 0, 0, 0, 0, 0, 0, 0, 0, 0, 0, 0, 0, 0, 0, 0, 0, 0, 0, 0, 0, 0, 0, 0, 0, 0, 0, 0, 0, 0, 0, 0, 0, 0, 0, 0, 0, 0, 0, 0, 0, 0, 0, 0, 0, 0, 0, 0, 0, 0, 0, 0, 0, 0, 0, 0, 0, 0, 0, 0, 0, 0, 0, 0, 0, 0, 0, 0, 0, 0, 0, 0, 0, 0, 0, 0, 0, 0, 0, 0, 0, 0, 0, 0, 0, 0, 0, 0, 0, 0, 0, 0, 0, 0, 0, 0, 0, 0, 0, 0, 0, 0, 0, 1, 0, 0, 0, 0, 0, 0, 0, 0, 0, 0, 0, 0, 0, 0, 0, 0, 0, 0, 0, 0, 0, 0, 0, 0, 0, 0, 0, 0, 0, 0, 0, 0, 0, 0, 0, 0, 0, 0, 0, 0, 0, 0, 0, 0, 0, 0, 0, 0, 0, 0, 0, 0, 0, 0, 0, 0, 0, 0, 0, 0, 0, 0, 0, 0, 0, 0, 0, 0, 0, 0, 0, 0, 0, 0, 0, 0, 0, 0, 0, 0, 0, 0, 0, 0, 0, 0, 0, 0, 0, 0, 0, 0, 0, 0, 0, 0, 0, 0, 0, 0, 0, 0, 0, 0, 0, 0, 0, 0, 0, 0, 0, 0, 0, 0, 0, 0, 0, 0, 0, 0, 0, 0, 0, 0, 0, 0, 0, 0, 0, 0, 0, 0, 0, 0, 0, 0, 0, 0, 0, 0, 0, 0, 0, 0, 0, 0, 0, 0, 0, 0, 0, 0, 0, 0, 0, 0, 0, 0, 0, 0, 0, 0, 0, 0, 0, 0, 0, 0, 0, 0, 0, 0, 0, 0, 0, 0, 0, 0, 0, 0, 0, 0, 0, 0, 0, 0, 0, 0, 0, 0, 0, 0, 0, 0, 0, 0, 0, 0, 0, 0, 0, 0, 0, 0, 0, 0, 0, 0, 0, 0, 0, 0, 0, 0, 0, 0, 0, 0, 0, 0, 0, 0, 0, 0, 0, 0, 0, 0, 0, 0, 0, 0, 0, 0, 0, 0, 0, 0, 0, 0, 0, 0, 0, 0, 0, 0, 0, 0, 0, 0, 0, 0, 0, 0, 0, 0, 0, 0, 0, 0, 0, 0, 0, 0, 0, 0, 0, 0, 0, 0, 0, 0, 0, 0, 0, 0, 0, 0, 0, 0, 0, 0, 0, 0, 0, 0, 0, 0, 0, 0, 0, 0, 0, 0, 0, 0, 0, 0, 0, 0, 0, 0, 0, 0, 0, 0, 0, 0, 0, 0, 0, 0, 0, 0, 0, 0, 0, 0, 0, 0, 0, 0, 0, 0, 0, 0, 0, 0, 0, 0, 0, 0, 0, 0, 0, 0, 0, 0, 0, 0, 0, 0, 0, 0, 0, 0, 0, 0, 0, 0, 0, 0, 0, 0, 0, 0, 0, 0, 0, 0, 0, 0, 0, 0, 0, 0, 0, 0, 0, 0, 0, 0, 0, 0, 0, 0, 0, 0, 0, 0, 0, 0, 0, 0, 0, 0, 0, 0, 0, 0, 0, 0, 0, 0, 0, 0, 0, 0, 0, 0, 0, 0, 0, 0, 0, 0, 0, 0, 0, 0, 0, 0, 0, 0, 0, 0, 0, 0, 0, 0, 0, 0, 0, 0, 0, 0, 0, 0, 0, 0, 0, 0, 0, 0, 0, 0, 0, 0, 0, 0, 0, 0, 0, 0, 0, 0, 0, 0, 0, 0, 0, 0, 0, 0, 0, 0, 0, 0, 0, 0, 0, 0, 0, 2, 0, 1, 0]\n"
     ]
    }
   ],
   "source": [
    "test_bow = bow_encoding(test_words, vocabulary)\n",
    "print(test_bow)"
   ]
  },
  {
   "cell_type": "code",
   "execution_count": 41,
   "metadata": {},
   "outputs": [
    {
     "data": {
      "text/plain": [
       "5000"
      ]
     },
     "execution_count": 41,
     "metadata": {},
     "output_type": "execute_result"
    }
   ],
   "source": [
    "len(test_bow)"
   ]
  },
  {
   "cell_type": "markdown",
   "metadata": {},
   "source": [
    "So now we know how to construct a bag of words encoding of a user provided review, how to we send it to our endpoint? First, we need to start the endpoint back up."
   ]
  },
  {
   "cell_type": "code",
   "execution_count": 42,
   "metadata": {},
   "outputs": [
    {
     "name": "stderr",
     "output_type": "stream",
     "text": [
      "Parameter image will be renamed to image_uri in SageMaker Python SDK v2.\n",
      "Using already existing model: xgboost-2021-03-07-00-49-50-055\n"
     ]
    },
    {
     "name": "stdout",
     "output_type": "stream",
     "text": [
      "-------------!"
     ]
    }
   ],
   "source": [
    "xgb_predictor = xgb.deploy(initial_instance_count = 1, instance_type = 'ml.m4.xlarge')"
   ]
  },
  {
   "cell_type": "markdown",
   "metadata": {},
   "source": [
    "At this point we could just do the same thing that we did earlier when we tested our deployed model and send `test_bow` to our endpoint using the `xgb_predictor` object. However, when we eventually construct our Lambda function we won't have access to this object, so how do we call a SageMaker endpoint?\n",
    "\n",
    "It turns out that Python functions that are used in Lambda have access to another Amazon library called `boto3`. This library provides an API for working with Amazon services, including SageMaker. To start with, we need to get a handle to the SageMaker runtime."
   ]
  },
  {
   "cell_type": "code",
   "execution_count": 43,
   "metadata": {},
   "outputs": [],
   "source": [
    "import boto3\n",
    "\n",
    "runtime = boto3.Session().client('sagemaker-runtime')"
   ]
  },
  {
   "cell_type": "markdown",
   "metadata": {},
   "source": [
    "And now that we have access to the SageMaker runtime, we can ask it to make use of (invoke) an endpoint that has already been created. However, we need to provide SageMaker with the name of the deployed endpoint. To find this out we can print it out using the `xgb_predictor` object."
   ]
  },
  {
   "cell_type": "code",
   "execution_count": 44,
   "metadata": {},
   "outputs": [
    {
     "data": {
      "text/plain": [
       "'xgboost-2021-03-07-00-49-50-055'"
      ]
     },
     "execution_count": 44,
     "metadata": {},
     "output_type": "execute_result"
    }
   ],
   "source": [
    "xgb_predictor.endpoint"
   ]
  },
  {
   "cell_type": "markdown",
   "metadata": {},
   "source": [
    "Using the SageMaker runtime and the name of our endpoint, we can invoke the endpoint and send it the `test_bow` data."
   ]
  },
  {
   "cell_type": "code",
   "execution_count": 45,
   "metadata": {},
   "outputs": [
    {
     "ename": "ParamValidationError",
     "evalue": "Parameter validation failed:\nInvalid type for parameter Body, value: [0, 0, 0, 0, 0, 0, 0, 0, 0, 0, 0, 0, 0, 0, 0, 0, 0, 0, 0, 0, 0, 0, 0, 0, 0, 0, 0, 0, 0, 0, 0, 0, 0, 0, 0, 0, 0, 0, 0, 0, 0, 0, 0, 0, 0, 0, 0, 0, 0, 0, 0, 0, 0, 0, 0, 0, 0, 0, 0, 0, 0, 0, 0, 0, 0, 0, 0, 0, 0, 0, 0, 0, 0, 0, 0, 0, 0, 0, 0, 0, 0, 0, 0, 0, 0, 0, 0, 0, 0, 0, 0, 0, 0, 0, 0, 0, 0, 0, 0, 0, 0, 0, 0, 0, 0, 0, 0, 0, 0, 0, 0, 0, 0, 0, 0, 0, 0, 0, 0, 0, 0, 0, 0, 0, 0, 0, 0, 0, 0, 0, 0, 0, 0, 0, 0, 0, 0, 0, 0, 0, 0, 0, 0, 0, 0, 0, 0, 0, 0, 0, 0, 0, 0, 0, 0, 0, 0, 0, 0, 0, 0, 0, 0, 0, 0, 0, 0, 0, 0, 0, 0, 0, 0, 0, 0, 0, 0, 0, 0, 0, 0, 0, 0, 0, 0, 0, 0, 0, 0, 0, 0, 0, 0, 0, 0, 0, 0, 0, 0, 0, 0, 0, 0, 0, 0, 0, 0, 0, 0, 0, 0, 0, 0, 0, 0, 0, 0, 0, 0, 0, 0, 0, 0, 0, 0, 0, 1, 0, 0, 0, 0, 0, 0, 0, 0, 0, 0, 0, 0, 0, 0, 0, 0, 0, 0, 0, 0, 0, 0, 0, 0, 0, 0, 0, 0, 0, 1, 0, 0, 0, 0, 0, 0, 0, 0, 0, 0, 0, 0, 0, 0, 0, 0, 0, 0, 0, 0, 0, 0, 0, 0, 0, 0, 0, 0, 0, 0, 0, 0, 0, 0, 0, 0, 0, 0, 0, 0, 0, 0, 0, 0, 0, 0, 0, 0, 0, 0, 0, 0, 0, 0, 0, 0, 0, 0, 0, 0, 0, 0, 0, 0, 0, 0, 0, 0, 0, 0, 0, 0, 0, 0, 0, 0, 0, 0, 0, 0, 0, 0, 0, 0, 0, 0, 0, 0, 0, 0, 0, 0, 0, 0, 0, 0, 0, 0, 0, 0, 0, 0, 0, 0, 0, 0, 0, 0, 0, 0, 0, 0, 0, 0, 0, 0, 0, 0, 0, 0, 0, 0, 0, 0, 0, 0, 0, 0, 0, 0, 0, 0, 0, 0, 0, 0, 0, 0, 0, 0, 0, 0, 0, 0, 0, 0, 0, 0, 0, 0, 0, 0, 0, 0, 0, 0, 0, 0, 0, 0, 0, 0, 0, 0, 0, 0, 0, 0, 0, 0, 0, 0, 0, 0, 0, 0, 0, 0, 0, 0, 0, 0, 0, 0, 0, 0, 0, 0, 0, 0, 0, 0, 0, 0, 0, 0, 0, 0, 0, 0, 0, 0, 0, 0, 0, 0, 0, 0, 0, 0, 0, 0, 0, 0, 0, 0, 0, 0, 0, 0, 0, 0, 0, 0, 0, 0, 0, 0, 0, 0, 0, 0, 0, 0, 0, 0, 0, 0, 0, 0, 0, 0, 0, 0, 0, 0, 0, 0, 0, 0, 0, 0, 0, 0, 0, 0, 0, 0, 0, 0, 0, 0, 0, 0, 0, 0, 0, 0, 0, 0, 0, 0, 0, 0, 0, 0, 0, 0, 0, 0, 0, 0, 0, 0, 0, 0, 0, 0, 0, 0, 0, 0, 0, 0, 0, 0, 0, 0, 0, 0, 0, 0, 0, 0, 0, 0, 0, 0, 0, 0, 0, 0, 0, 0, 0, 0, 0, 0, 0, 0, 0, 0, 0, 0, 0, 0, 0, 0, 0, 0, 0, 0, 0, 0, 0, 0, 0, 0, 0, 0, 0, 0, 0, 0, 0, 0, 0, 0, 0, 0, 0, 0, 0, 0, 0, 0, 0, 0, 0, 0, 0, 0, 0, 0, 0, 0, 0, 0, 0, 0, 0, 0, 0, 0, 0, 0, 0, 0, 0, 1, 0, 0, 0, 0, 0, 0, 0, 0, 0, 0, 0, 0, 0, 0, 0, 0, 0, 0, 0, 0, 0, 0, 0, 0, 0, 0, 0, 0, 0, 0, 0, 0, 0, 0, 0, 0, 0, 0, 0, 0, 0, 0, 0, 0, 0, 0, 0, 0, 0, 0, 0, 0, 0, 0, 0, 0, 0, 0, 0, 0, 0, 0, 0, 0, 0, 0, 0, 0, 0, 0, 0, 0, 0, 0, 0, 0, 0, 0, 0, 0, 0, 0, 0, 0, 0, 0, 0, 0, 0, 0, 0, 0, 0, 0, 0, 0, 0, 0, 0, 0, 0, 0, 0, 0, 0, 0, 0, 0, 0, 0, 0, 0, 0, 0, 0, 0, 0, 0, 0, 0, 0, 0, 0, 0, 0, 0, 0, 0, 0, 0, 0, 0, 0, 0, 0, 0, 0, 0, 0, 0, 0, 0, 0, 0, 0, 0, 0, 0, 0, 0, 0, 0, 0, 0, 0, 0, 0, 0, 0, 0, 0, 0, 0, 0, 0, 0, 0, 0, 0, 0, 0, 0, 0, 0, 0, 0, 0, 0, 0, 0, 0, 0, 0, 0, 0, 0, 0, 0, 0, 0, 0, 0, 0, 0, 0, 0, 0, 0, 0, 0, 0, 0, 0, 0, 0, 0, 0, 0, 0, 0, 0, 0, 0, 0, 0, 0, 0, 0, 0, 0, 0, 0, 0, 0, 0, 0, 0, 0, 0, 0, 0, 0, 0, 0, 0, 0, 0, 0, 0, 0, 0, 0, 0, 0, 0, 0, 0, 0, 0, 0, 0, 0, 0, 1, 0, 0, 0, 0, 0, 0, 0, 0, 0, 0, 0, 0, 0, 0, 0, 0, 0, 0, 0, 0, 0, 0, 0, 0, 0, 0, 0, 0, 0, 0, 0, 0, 0, 0, 0, 0, 0, 0, 0, 0, 0, 0, 0, 0, 0, 0, 0, 0, 0, 0, 0, 0, 0, 0, 0, 0, 0, 0, 0, 0, 0, 0, 0, 0, 0, 0, 0, 0, 0, 0, 0, 0, 0, 0, 0, 0, 0, 0, 0, 0, 0, 0, 0, 0, 0, 0, 1, 0, 0, 0, 0, 0, 0, 0, 0, 0, 0, 0, 0, 0, 0, 0, 0, 0, 0, 0, 0, 0, 0, 0, 0, 0, 0, 0, 0, 0, 0, 0, 0, 0, 0, 0, 0, 0, 0, 0, 0, 0, 0, 0, 0, 0, 0, 0, 0, 0, 0, 0, 0, 0, 0, 0, 0, 0, 0, 0, 0, 0, 0, 0, 0, 0, 0, 0, 0, 0, 0, 0, 0, 0, 0, 0, 0, 0, 0, 0, 0, 0, 0, 0, 0, 0, 0, 0, 0, 0, 0, 0, 0, 0, 0, 0, 0, 0, 0, 0, 0, 0, 0, 0, 0, 0, 0, 0, 0, 0, 0, 0, 0, 0, 0, 0, 0, 0, 0, 0, 0, 0, 0, 0, 0, 0, 0, 0, 0, 0, 0, 0, 0, 0, 0, 0, 0, 0, 0, 0, 0, 0, 0, 0, 0, 0, 0, 0, 0, 0, 0, 0, 0, 0, 0, 0, 0, 0, 0, 0, 0, 0, 0, 0, 0, 0, 0, 0, 0, 0, 0, 0, 0, 0, 0, 0, 0, 0, 0, 0, 0, 0, 0, 0, 0, 0, 0, 0, 0, 0, 0, 0, 0, 0, 0, 0, 0, 0, 0, 0, 0, 0, 0, 0, 0, 0, 0, 0, 0, 0, 0, 0, 0, 0, 0, 0, 0, 0, 0, 0, 0, 0, 0, 0, 0, 0, 0, 0, 0, 0, 0, 0, 0, 0, 0, 0, 0, 0, 0, 0, 0, 0, 0, 0, 0, 0, 0, 0, 0, 0, 0, 0, 0, 1, 0, 0, 0, 0, 0, 0, 0, 0, 0, 0, 0, 0, 0, 0, 0, 0, 0, 0, 0, 0, 0, 0, 0, 0, 0, 0, 0, 0, 0, 0, 0, 0, 0, 0, 0, 0, 0, 0, 0, 0, 0, 0, 0, 0, 0, 0, 0, 0, 0, 0, 0, 0, 0, 0, 0, 1, 0, 0, 0, 0, 0, 0, 0, 0, 0, 0, 0, 0, 0, 0, 0, 0, 0, 0, 0, 0, 0, 0, 0, 0, 0, 0, 0, 0, 0, 0, 0, 0, 0, 0, 0, 0, 0, 0, 0, 0, 0, 0, 0, 0, 0, 0, 0, 0, 0, 0, 0, 0, 0, 0, 0, 0, 0, 0, 0, 0, 0, 0, 0, 0, 0, 0, 0, 0, 0, 0, 0, 0, 0, 0, 0, 0, 0, 0, 0, 0, 0, 0, 0, 0, 0, 0, 0, 0, 0, 0, 0, 0, 0, 0, 0, 0, 0, 0, 0, 0, 0, 0, 0, 0, 0, 0, 0, 0, 0, 0, 0, 0, 0, 0, 0, 0, 0, 0, 0, 0, 0, 0, 0, 0, 0, 0, 0, 0, 0, 0, 0, 0, 0, 0, 0, 0, 0, 0, 0, 0, 0, 0, 0, 0, 0, 0, 0, 0, 0, 0, 0, 0, 0, 0, 0, 0, 0, 0, 0, 0, 0, 0, 0, 0, 0, 0, 0, 0, 0, 0, 0, 0, 0, 0, 0, 0, 0, 0, 0, 0, 0, 0, 0, 0, 0, 0, 0, 0, 0, 0, 0, 0, 0, 0, 0, 0, 0, 0, 0, 0, 0, 0, 0, 0, 0, 0, 0, 0, 0, 0, 0, 0, 0, 0, 0, 0, 0, 0, 0, 0, 0, 0, 0, 0, 0, 0, 0, 0, 0, 0, 0, 0, 0, 0, 0, 0, 0, 0, 0, 0, 0, 0, 0, 0, 0, 0, 0, 0, 0, 0, 0, 0, 0, 0, 0, 0, 0, 0, 0, 0, 0, 0, 0, 0, 0, 0, 0, 0, 0, 0, 0, 0, 0, 0, 0, 0, 0, 0, 0, 0, 0, 0, 0, 0, 0, 0, 0, 0, 0, 0, 0, 0, 0, 0, 0, 0, 0, 0, 0, 0, 0, 0, 0, 0, 0, 0, 0, 0, 0, 0, 0, 0, 0, 0, 0, 0, 0, 0, 0, 0, 0, 0, 0, 0, 0, 0, 0, 0, 0, 0, 0, 0, 0, 0, 0, 0, 0, 0, 0, 0, 0, 0, 0, 0, 0, 0, 0, 0, 0, 0, 0, 0, 0, 0, 0, 0, 0, 0, 0, 0, 0, 0, 0, 0, 0, 0, 0, 0, 0, 0, 0, 0, 0, 0, 0, 0, 0, 0, 0, 0, 0, 0, 0, 0, 0, 0, 0, 0, 0, 0, 0, 0, 0, 0, 0, 0, 0, 0, 0, 0, 0, 0, 0, 0, 0, 0, 0, 0, 0, 0, 0, 0, 0, 0, 0, 0, 0, 0, 0, 0, 0, 0, 0, 0, 0, 0, 0, 0, 0, 0, 0, 0, 0, 0, 0, 0, 0, 0, 0, 0, 0, 0, 0, 0, 0, 0, 0, 0, 0, 0, 0, 0, 0, 0, 0, 0, 0, 0, 0, 0, 0, 0, 0, 0, 0, 0, 0, 0, 0, 0, 0, 0, 0, 0, 0, 0, 0, 0, 0, 0, 0, 0, 0, 0, 0, 0, 0, 0, 0, 0, 0, 0, 0, 0, 0, 0, 0, 0, 0, 0, 0, 0, 0, 0, 0, 0, 0, 0, 0, 0, 0, 0, 0, 0, 0, 0, 0, 0, 0, 0, 0, 0, 0, 0, 0, 0, 0, 0, 0, 0, 0, 0, 0, 0, 0, 0, 0, 0, 0, 0, 0, 0, 0, 0, 0, 0, 0, 0, 0, 0, 0, 0, 0, 0, 0, 0, 0, 0, 0, 0, 0, 0, 0, 0, 0, 0, 0, 0, 0, 0, 0, 0, 0, 0, 0, 0, 0, 0, 0, 0, 0, 0, 0, 0, 0, 0, 0, 0, 0, 0, 0, 0, 0, 0, 0, 0, 0, 0, 0, 0, 0, 0, 0, 0, 0, 0, 0, 0, 0, 0, 0, 0, 0, 0, 0, 0, 0, 0, 0, 0, 0, 0, 0, 0, 0, 0, 0, 0, 0, 0, 0, 0, 0, 0, 0, 0, 0, 0, 0, 0, 0, 0, 0, 0, 0, 0, 0, 0, 0, 0, 0, 0, 0, 0, 0, 0, 0, 0, 0, 0, 0, 0, 0, 0, 0, 0, 0, 0, 0, 0, 0, 0, 0, 0, 0, 0, 0, 0, 0, 0, 0, 1, 0, 0, 0, 0, 0, 0, 0, 0, 0, 0, 0, 0, 0, 0, 0, 0, 0, 0, 0, 0, 0, 0, 0, 0, 0, 0, 0, 0, 0, 0, 0, 0, 0, 0, 0, 0, 0, 0, 0, 0, 0, 0, 0, 0, 0, 0, 0, 0, 0, 0, 0, 0, 0, 0, 0, 0, 0, 0, 0, 0, 0, 0, 0, 0, 0, 0, 0, 0, 0, 0, 0, 0, 0, 0, 1, 0, 0, 0, 0, 0, 0, 0, 0, 0, 0, 0, 0, 0, 0, 0, 0, 0, 0, 0, 0, 1, 0, 0, 1, 0, 0, 0, 0, 0, 0, 0, 0, 0, 0, 0, 0, 0, 0, 0, 0, 0, 0, 0, 0, 0, 0, 0, 0, 0, 0, 0, 0, 0, 0, 0, 0, 0, 0, 0, 0, 0, 0, 0, 0, 0, 0, 0, 0, 0, 0, 0, 0, 0, 0, 0, 0, 0, 0, 0, 0, 0, 0, 0, 0, 0, 0, 0, 0, 0, 0, 0, 0, 0, 0, 0, 0, 0, 0, 0, 0, 0, 0, 0, 0, 0, 0, 0, 0, 0, 0, 0, 0, 0, 0, 0, 0, 0, 0, 0, 0, 0, 0, 0, 0, 0, 0, 0, 0, 0, 0, 0, 0, 0, 0, 0, 0, 0, 0, 0, 0, 0, 0, 0, 0, 0, 0, 0, 0, 0, 0, 0, 0, 0, 0, 0, 0, 0, 0, 0, 0, 0, 0, 0, 0, 0, 0, 0, 0, 0, 0, 0, 0, 0, 0, 0, 0, 0, 0, 0, 0, 0, 0, 0, 0, 0, 0, 0, 0, 0, 0, 0, 0, 0, 0, 0, 0, 0, 0, 0, 0, 0, 0, 0, 0, 0, 0, 0, 0, 0, 0, 0, 0, 0, 0, 0, 0, 0, 0, 0, 0, 0, 0, 0, 0, 0, 0, 0, 0, 0, 0, 0, 0, 0, 0, 0, 0, 0, 0, 0, 0, 0, 0, 0, 0, 0, 0, 0, 0, 0, 0, 0, 0, 0, 0, 0, 0, 0, 0, 0, 0, 0, 0, 0, 0, 0, 0, 0, 0, 0, 0, 0, 0, 0, 0, 0, 0, 0, 0, 0, 0, 0, 0, 0, 0, 0, 0, 0, 0, 0, 0, 0, 0, 0, 0, 0, 0, 0, 0, 0, 0, 0, 0, 0, 0, 0, 0, 0, 0, 0, 0, 0, 0, 0, 0, 0, 0, 0, 0, 0, 0, 0, 0, 0, 0, 0, 0, 0, 0, 0, 0, 0, 0, 0, 0, 0, 0, 0, 0, 0, 0, 0, 0, 0, 0, 0, 0, 0, 0, 0, 0, 0, 0, 0, 0, 0, 0, 0, 0, 0, 0, 0, 0, 0, 0, 0, 0, 0, 0, 0, 0, 0, 0, 0, 0, 0, 0, 0, 0, 0, 0, 0, 0, 0, 0, 0, 0, 0, 0, 0, 0, 0, 0, 0, 0, 0, 0, 0, 0, 0, 0, 0, 0, 0, 0, 0, 0, 0, 0, 0, 0, 0, 0, 0, 0, 0, 0, 0, 0, 0, 0, 0, 0, 0, 0, 0, 0, 0, 0, 0, 0, 0, 0, 0, 0, 0, 0, 0, 0, 0, 0, 0, 0, 0, 0, 0, 0, 0, 0, 0, 0, 0, 0, 0, 0, 0, 0, 0, 0, 0, 0, 0, 0, 0, 0, 0, 0, 0, 0, 0, 0, 0, 0, 0, 0, 0, 0, 0, 0, 0, 0, 0, 0, 0, 0, 0, 0, 0, 0, 0, 0, 1, 0, 0, 0, 0, 0, 0, 0, 0, 0, 0, 0, 0, 0, 0, 0, 0, 0, 0, 0, 0, 0, 0, 0, 0, 0, 0, 0, 0, 0, 0, 0, 0, 0, 0, 0, 0, 0, 0, 0, 0, 0, 0, 0, 0, 0, 0, 0, 0, 0, 0, 0, 0, 0, 0, 0, 0, 0, 0, 0, 0, 0, 0, 0, 0, 0, 0, 0, 0, 0, 0, 0, 0, 0, 0, 0, 0, 0, 0, 0, 0, 0, 0, 0, 0, 0, 0, 0, 0, 0, 0, 0, 0, 0, 0, 0, 0, 0, 0, 0, 0, 0, 0, 0, 0, 0, 0, 0, 0, 0, 0, 0, 0, 0, 0, 0, 0, 0, 0, 0, 0, 0, 0, 0, 0, 0, 0, 0, 0, 0, 0, 0, 0, 0, 0, 0, 0, 0, 0, 0, 0, 0, 0, 0, 0, 0, 0, 0, 0, 0, 0, 0, 0, 0, 0, 0, 0, 0, 0, 0, 0, 0, 0, 0, 0, 0, 0, 0, 0, 0, 0, 0, 0, 0, 0, 0, 0, 0, 0, 0, 0, 0, 0, 0, 0, 0, 0, 0, 0, 0, 0, 0, 0, 0, 0, 0, 0, 0, 0, 0, 0, 0, 0, 0, 0, 0, 0, 0, 0, 0, 0, 0, 0, 0, 0, 0, 0, 0, 0, 0, 0, 0, 0, 0, 0, 0, 0, 0, 0, 0, 0, 0, 0, 0, 0, 0, 0, 0, 0, 0, 0, 0, 0, 0, 0, 0, 0, 0, 0, 0, 0, 0, 0, 0, 0, 0, 0, 0, 0, 0, 0, 0, 0, 0, 0, 0, 0, 0, 0, 0, 0, 0, 0, 0, 0, 0, 0, 0, 0, 0, 0, 0, 0, 0, 0, 0, 0, 0, 0, 0, 0, 0, 0, 0, 0, 0, 0, 0, 0, 0, 0, 0, 0, 0, 0, 0, 0, 0, 0, 0, 0, 0, 0, 0, 0, 0, 0, 0, 0, 0, 0, 0, 0, 0, 0, 0, 0, 0, 0, 0, 0, 0, 0, 0, 0, 0, 0, 0, 0, 0, 0, 0, 0, 0, 0, 0, 0, 0, 0, 0, 0, 0, 0, 0, 0, 0, 0, 0, 0, 0, 0, 0, 0, 0, 0, 0, 0, 0, 0, 0, 0, 0, 0, 0, 0, 0, 0, 0, 0, 0, 0, 0, 0, 0, 0, 0, 0, 0, 0, 0, 0, 0, 0, 0, 0, 0, 0, 0, 0, 0, 0, 0, 0, 0, 0, 0, 0, 0, 0, 0, 0, 0, 0, 0, 0, 0, 0, 0, 0, 0, 0, 0, 0, 0, 0, 0, 0, 0, 0, 0, 0, 0, 0, 0, 0, 0, 0, 0, 0, 0, 0, 0, 0, 0, 0, 0, 0, 0, 0, 0, 0, 0, 0, 0, 0, 0, 0, 0, 0, 0, 0, 0, 0, 0, 0, 0, 0, 0, 0, 0, 0, 0, 0, 0, 0, 0, 0, 0, 0, 0, 0, 0, 0, 0, 0, 0, 0, 0, 0, 0, 0, 0, 0, 0, 0, 0, 0, 0, 0, 0, 0, 0, 0, 0, 0, 0, 0, 0, 0, 0, 0, 0, 0, 1, 0, 0, 0, 0, 0, 0, 0, 0, 0, 0, 0, 0, 0, 0, 0, 0, 0, 0, 0, 0, 0, 0, 0, 0, 0, 0, 0, 0, 0, 0, 0, 0, 0, 0, 0, 2, 0, 0, 0, 0, 0, 0, 0, 0, 0, 0, 0, 0, 0, 0, 0, 0, 0, 0, 0, 0, 0, 0, 0, 0, 0, 0, 0, 0, 0, 0, 0, 0, 0, 0, 0, 0, 0, 0, 0, 0, 1, 0, 0, 0, 0, 0, 0, 0, 0, 0, 0, 0, 0, 0, 0, 0, 0, 0, 0, 0, 0, 0, 0, 0, 0, 0, 0, 0, 0, 0, 0, 0, 0, 0, 0, 0, 0, 0, 0, 0, 0, 0, 0, 0, 0, 0, 0, 0, 0, 0, 0, 0, 0, 0, 0, 0, 0, 0, 0, 0, 0, 0, 0, 0, 0, 0, 0, 0, 0, 0, 0, 0, 0, 0, 0, 0, 0, 0, 0, 0, 0, 0, 0, 0, 0, 0, 0, 0, 0, 0, 0, 0, 0, 0, 0, 0, 0, 0, 0, 0, 0, 0, 0, 0, 0, 0, 0, 0, 0, 0, 0, 0, 0, 0, 0, 0, 0, 0, 0, 0, 0, 0, 0, 0, 0, 0, 0, 0, 0, 0, 0, 0, 0, 0, 0, 0, 0, 0, 0, 0, 0, 0, 0, 0, 0, 0, 0, 0, 0, 0, 0, 0, 0, 0, 0, 0, 0, 0, 0, 0, 0, 0, 0, 0, 0, 0, 0, 0, 0, 0, 0, 0, 0, 0, 0, 0, 0, 0, 0, 0, 0, 0, 0, 0, 0, 0, 0, 0, 0, 0, 0, 0, 0, 0, 0, 0, 0, 0, 0, 0, 0, 0, 0, 0, 0, 0, 0, 0, 0, 0, 0, 0, 0, 0, 0, 0, 0, 0, 0, 0, 0, 0, 0, 0, 0, 0, 0, 0, 0, 0, 0, 0, 0, 0, 0, 0, 0, 0, 0, 0, 0, 0, 0, 0, 0, 0, 0, 0, 0, 0, 0, 0, 0, 0, 0, 0, 0, 0, 0, 0, 0, 0, 0, 0, 0, 0, 0, 0, 0, 0, 0, 0, 0, 0, 0, 0, 0, 0, 0, 0, 0, 0, 0, 0, 0, 0, 0, 0, 0, 0, 0, 0, 0, 0, 0, 0, 0, 0, 0, 0, 0, 0, 0, 0, 0, 0, 0, 0, 0, 0, 0, 0, 0, 0, 0, 0, 0, 0, 0, 0, 0, 0, 0, 0, 0, 0, 0, 0, 0, 0, 0, 0, 0, 0, 0, 0, 0, 0, 0, 0, 0, 0, 0, 0, 0, 0, 0, 0, 0, 0, 0, 0, 0, 0, 0, 0, 0, 0, 0, 0, 0, 0, 0, 0, 0, 0, 0, 0, 0, 0, 0, 0, 0, 0, 0, 0, 0, 0, 0, 0, 0, 0, 0, 0, 0, 0, 0, 0, 0, 0, 0, 0, 0, 0, 0, 0, 0, 0, 0, 0, 0, 0, 0, 0, 0, 0, 0, 0, 0, 0, 0, 0, 0, 0, 0, 0, 0, 0, 0, 0, 0, 0, 0, 0, 0, 0, 0, 0, 0, 0, 0, 0, 0, 0, 0, 0, 0, 0, 0, 0, 0, 0, 0, 0, 0, 0, 0, 0, 0, 0, 0, 0, 0, 0, 0, 0, 0, 0, 0, 0, 0, 0, 0, 0, 0, 0, 0, 0, 0, 0, 0, 0, 0, 0, 0, 0, 0, 0, 0, 0, 0, 0, 0, 0, 0, 0, 0, 0, 0, 0, 0, 0, 0, 0, 0, 0, 0, 0, 1, 0, 0, 0, 0, 0, 0, 0, 0, 0, 0, 0, 0, 0, 0, 0, 0, 0, 0, 0, 0, 0, 0, 0, 0, 0, 0, 0, 0, 0, 0, 0, 0, 0, 0, 0, 0, 0, 0, 0, 0, 0, 0, 0, 0, 0, 0, 0, 0, 0, 0, 0, 0, 0, 0, 0, 0, 0, 0, 0, 0, 0, 0, 0, 0, 0, 0, 0, 0, 0, 0, 0, 0, 0, 0, 0, 0, 0, 0, 0, 0, 0, 0, 0, 0, 0, 0, 0, 0, 0, 0, 0, 0, 0, 0, 0, 0, 0, 0, 0, 0, 0, 0, 0, 0, 0, 0, 0, 0, 0, 0, 2, 0, 0, 0, 0, 0, 0, 0, 0, 0, 0, 0, 0, 0, 0, 0, 0, 0, 0, 0, 0, 0, 0, 0, 0, 0, 0, 0, 0, 0, 0, 0, 0, 0, 0, 0, 0, 0, 0, 0, 0, 0, 0, 0, 0, 0, 0, 0, 0, 0, 0, 0, 0, 0, 0, 0, 0, 0, 0, 0, 0, 0, 0, 0, 0, 0, 0, 0, 0, 0, 0, 0, 0, 0, 0, 0, 0, 0, 0, 0, 0, 0, 0, 0, 0, 0, 0, 0, 0, 0, 0, 0, 0, 0, 0, 0, 0, 0, 0, 0, 0, 0, 0, 0, 0, 0, 0, 0, 0, 0, 0, 0, 0, 0, 0, 0, 0, 0, 0, 0, 0, 0, 0, 0, 0, 0, 0, 0, 0, 0, 0, 0, 0, 0, 0, 0, 0, 0, 0, 0, 0, 0, 0, 0, 0, 0, 0, 0, 0, 0, 0, 0, 0, 0, 0, 0, 0, 0, 0, 0, 0, 0, 0, 0, 0, 0, 0, 0, 0, 0, 0, 0, 0, 0, 0, 0, 0, 0, 0, 0, 0, 0, 0, 0, 0, 0, 0, 0, 0, 0, 0, 0, 0, 0, 0, 0, 0, 0, 0, 0, 0, 0, 0, 0, 0, 0, 0, 0, 0, 0, 0, 0, 0, 0, 0, 0, 0, 0, 0, 0, 0, 0, 0, 0, 0, 0, 0, 0, 0, 0, 0, 0, 0, 0, 0, 0, 0, 0, 0, 0, 0, 0, 0, 0, 0, 0, 0, 0, 0, 0, 0, 0, 0, 0, 0, 0, 0, 0, 0, 0, 0, 0, 0, 0, 0, 0, 0, 0, 0, 0, 0, 0, 0, 0, 0, 0, 0, 0, 0, 0, 0, 0, 0, 0, 0, 0, 0, 0, 0, 0, 0, 0, 0, 0, 0, 0, 0, 0, 0, 0, 0, 0, 0, 0, 0, 0, 0, 0, 0, 0, 0, 0, 0, 0, 0, 0, 0, 0, 0, 0, 0, 0, 0, 0, 0, 0, 0, 0, 0, 0, 0, 0, 0, 0, 0, 0, 0, 0, 0, 0, 0, 0, 0, 0, 0, 0, 0, 0, 0, 0, 0, 0, 0, 0, 0, 0, 0, 0, 0, 0, 0, 0, 0, 0, 0, 0, 0, 0, 0, 0, 0, 0, 0, 0, 0, 0, 0, 0, 0, 0, 0, 0, 0, 0, 0, 0, 0, 0, 0, 0, 0, 0, 0, 0, 0, 0, 0, 0, 0, 0, 0, 0, 0, 0, 0, 0, 0, 0, 0, 0, 0, 0, 0, 0, 0, 0, 0, 0, 0, 0, 0, 0, 0, 0, 0, 0, 0, 0, 0, 0, 0, 0, 0, 0, 0, 0, 0, 0, 0, 0, 0, 0, 0, 0, 0, 0, 0, 0, 0, 0, 0, 0, 0, 0, 0, 0, 0, 0, 0, 0, 0, 0, 0, 0, 0, 0, 0, 0, 0, 0, 0, 0, 0, 0, 0, 0, 0, 0, 0, 0, 0, 0, 0, 0, 0, 0, 0, 0, 0, 0, 0, 0, 0, 0, 0, 0, 0, 0, 0, 0, 0, 0, 0, 0, 0, 0, 0, 0, 0, 0, 0, 0, 0, 0, 0, 0, 0, 0, 0, 0, 0, 0, 0, 0, 0, 0, 0, 0, 0, 0, 0, 0, 0, 0, 0, 0, 0, 0, 0, 0, 0, 0, 0, 0, 0, 0, 0, 0, 0, 0, 0, 0, 0, 0, 0, 0, 0, 0, 0, 0, 0, 0, 0, 0, 0, 0, 0, 0, 0, 0, 0, 0, 0, 0, 0, 0, 0, 0, 0, 0, 0, 0, 0, 0, 0, 0, 0, 0, 0, 0, 0, 0, 0, 0, 0, 0, 0, 0, 0, 0, 0, 0, 0, 0, 0, 0, 0, 0, 0, 0, 0, 0, 0, 0, 0, 0, 0, 0, 0, 0, 0, 0, 0, 0, 0, 0, 0, 0, 0, 0, 0, 0, 0, 0, 0, 0, 0, 0, 0, 0, 0, 0, 0, 0, 0, 0, 0, 0, 0, 0, 0, 0, 0, 0, 0, 0, 0, 0, 0, 0, 0, 0, 0, 0, 0, 0, 0, 0, 0, 0, 0, 0, 0, 0, 0, 0, 0, 0, 0, 0, 0, 0, 0, 0, 0, 0, 0, 0, 0, 0, 0, 1, 0, 0, 0, 0, 0, 0, 0, 0, 0, 0, 0, 0, 0, 0, 0, 0, 0, 0, 0, 0, 0, 0, 0, 0, 0, 0, 0, 0, 0, 0, 0, 0, 0, 0, 0, 0, 0, 0, 0, 0, 0, 0, 0, 0, 0, 0, 0, 0, 0, 0, 0, 0, 0, 0, 0, 0, 0, 0, 0, 0, 0, 0, 0, 0, 0, 0, 0, 0, 0, 0, 0, 0, 0, 0, 0, 0, 0, 0, 0, 0, 0, 0, 0, 0, 0, 0, 0, 0, 0, 0, 0, 0, 0, 0, 0, 0, 0, 0, 0, 0, 0, 0, 0, 0, 0, 0, 0, 1, 0, 0, 0, 0, 0, 0, 0, 0, 0, 0, 0, 0, 0, 0, 0, 0, 0, 0, 0, 0, 0, 0, 0, 0, 0, 0, 0, 0, 0, 0, 0, 0, 0, 0, 0, 0, 0, 0, 0, 0, 0, 0, 0, 0, 0, 0, 0, 0, 0, 0, 0, 0, 0, 0, 0, 0, 0, 0, 0, 0, 0, 0, 0, 0, 0, 0, 0, 0, 0, 0, 0, 0, 0, 0, 0, 0, 0, 0, 0, 0, 0, 0, 0, 0, 0, 0, 0, 0, 0, 0, 0, 0, 0, 0, 0, 0, 0, 0, 0, 0, 0, 0, 0, 0, 0, 0, 0, 0, 0, 0, 0, 0, 0, 0, 0, 0, 0, 0, 0, 0, 0, 0, 0, 0, 0, 0, 0, 0, 0, 0, 0, 0, 0, 0, 0, 0, 0, 0, 0, 0, 0, 0, 0, 0, 0, 0, 0, 0, 0, 0, 0, 0, 0, 0, 0, 0, 0, 0, 0, 0, 0, 0, 0, 0, 0, 0, 0, 0, 0, 0, 0, 0, 0, 0, 0, 0, 0, 0, 0, 0, 0, 0, 0, 0, 0, 0, 0, 0, 0, 0, 0, 0, 0, 0, 0, 0, 0, 0, 0, 0, 0, 0, 0, 0, 0, 0, 0, 0, 0, 0, 0, 0, 0, 0, 0, 0, 0, 0, 0, 0, 0, 0, 0, 0, 0, 0, 0, 0, 0, 0, 0, 0, 0, 0, 0, 0, 0, 0, 0, 0, 0, 0, 0, 0, 0, 0, 0, 0, 0, 0, 0, 0, 0, 0, 0, 0, 0, 0, 0, 0, 0, 0, 0, 0, 0, 0, 0, 0, 0, 0, 0, 0, 0, 0, 0, 0, 0, 0, 0, 0, 0, 0, 0, 0, 0, 0, 0, 0, 0, 0, 0, 0, 0, 0, 0, 0, 0, 0, 0, 0, 0, 0, 0, 0, 0, 0, 0, 0, 0, 0, 0, 0, 0, 0, 0, 0, 0, 0, 0, 0, 0, 0, 0, 0, 0, 0, 0, 0, 0, 0, 0, 0, 0, 0, 0, 0, 0, 0, 0, 0, 0, 0, 0, 0, 0, 0, 0, 0, 0, 0, 0, 0, 0, 0, 0, 0, 0, 0, 0, 0, 0, 0, 0, 0, 0, 0, 0, 0, 0, 0, 0, 0, 0, 0, 0, 0, 0, 0, 0, 0, 0, 0, 0, 0, 0, 0, 0, 0, 0, 0, 0, 0, 0, 0, 0, 0, 0, 0, 0, 0, 0, 0, 0, 0, 0, 0, 0, 0, 0, 0, 0, 0, 0, 0, 0, 0, 0, 0, 0, 0, 0, 0, 0, 0, 0, 0, 0, 0, 0, 0, 0, 0, 0, 0, 0, 0, 0, 0, 0, 0, 0, 0, 0, 0, 0, 0, 0, 0, 0, 0, 0, 0, 0, 0, 0, 0, 0, 0, 0, 0, 0, 0, 0, 2, 0, 1, 0], type: <class 'list'>, valid types: <class 'bytes'>, <class 'bytearray'>, file-like object",
     "output_type": "error",
     "traceback": [
      "\u001b[0;31m---------------------------------------------------------------------------\u001b[0m",
      "\u001b[0;31mParamValidationError\u001b[0m                      Traceback (most recent call last)",
      "\u001b[0;32m<ipython-input-45-c9ab54ae3a48>\u001b[0m in \u001b[0;36m<module>\u001b[0;34m\u001b[0m\n\u001b[1;32m      1\u001b[0m response = runtime.invoke_endpoint(EndpointName = xgb_predictor.endpoint, # The name of the endpoint we created\n\u001b[1;32m      2\u001b[0m                                        \u001b[0mContentType\u001b[0m \u001b[0;34m=\u001b[0m \u001b[0;34m'text/csv'\u001b[0m\u001b[0;34m,\u001b[0m                     \u001b[0;31m# The data format that is expected\u001b[0m\u001b[0;34m\u001b[0m\u001b[0;34m\u001b[0m\u001b[0m\n\u001b[0;32m----> 3\u001b[0;31m                                        Body = test_bow)\n\u001b[0m",
      "\u001b[0;32m~/anaconda3/envs/python3/lib/python3.6/site-packages/botocore/client.py\u001b[0m in \u001b[0;36m_api_call\u001b[0;34m(self, *args, **kwargs)\u001b[0m\n\u001b[1;32m    355\u001b[0m                     \"%s() only accepts keyword arguments.\" % py_operation_name)\n\u001b[1;32m    356\u001b[0m             \u001b[0;31m# The \"self\" in this scope is referring to the BaseClient.\u001b[0m\u001b[0;34m\u001b[0m\u001b[0;34m\u001b[0m\u001b[0;34m\u001b[0m\u001b[0m\n\u001b[0;32m--> 357\u001b[0;31m             \u001b[0;32mreturn\u001b[0m \u001b[0mself\u001b[0m\u001b[0;34m.\u001b[0m\u001b[0m_make_api_call\u001b[0m\u001b[0;34m(\u001b[0m\u001b[0moperation_name\u001b[0m\u001b[0;34m,\u001b[0m \u001b[0mkwargs\u001b[0m\u001b[0;34m)\u001b[0m\u001b[0;34m\u001b[0m\u001b[0;34m\u001b[0m\u001b[0m\n\u001b[0m\u001b[1;32m    358\u001b[0m \u001b[0;34m\u001b[0m\u001b[0m\n\u001b[1;32m    359\u001b[0m         \u001b[0m_api_call\u001b[0m\u001b[0;34m.\u001b[0m\u001b[0m__name__\u001b[0m \u001b[0;34m=\u001b[0m \u001b[0mstr\u001b[0m\u001b[0;34m(\u001b[0m\u001b[0mpy_operation_name\u001b[0m\u001b[0;34m)\u001b[0m\u001b[0;34m\u001b[0m\u001b[0;34m\u001b[0m\u001b[0m\n",
      "\u001b[0;32m~/anaconda3/envs/python3/lib/python3.6/site-packages/botocore/client.py\u001b[0m in \u001b[0;36m_make_api_call\u001b[0;34m(self, operation_name, api_params)\u001b[0m\n\u001b[1;32m    647\u001b[0m         }\n\u001b[1;32m    648\u001b[0m         request_dict = self._convert_to_request_dict(\n\u001b[0;32m--> 649\u001b[0;31m             api_params, operation_model, context=request_context)\n\u001b[0m\u001b[1;32m    650\u001b[0m \u001b[0;34m\u001b[0m\u001b[0m\n\u001b[1;32m    651\u001b[0m         \u001b[0mservice_id\u001b[0m \u001b[0;34m=\u001b[0m \u001b[0mself\u001b[0m\u001b[0;34m.\u001b[0m\u001b[0m_service_model\u001b[0m\u001b[0;34m.\u001b[0m\u001b[0mservice_id\u001b[0m\u001b[0;34m.\u001b[0m\u001b[0mhyphenize\u001b[0m\u001b[0;34m(\u001b[0m\u001b[0;34m)\u001b[0m\u001b[0;34m\u001b[0m\u001b[0;34m\u001b[0m\u001b[0m\n",
      "\u001b[0;32m~/anaconda3/envs/python3/lib/python3.6/site-packages/botocore/client.py\u001b[0m in \u001b[0;36m_convert_to_request_dict\u001b[0;34m(self, api_params, operation_model, context)\u001b[0m\n\u001b[1;32m    695\u001b[0m             api_params, operation_model, context)\n\u001b[1;32m    696\u001b[0m         request_dict = self._serializer.serialize_to_request(\n\u001b[0;32m--> 697\u001b[0;31m             api_params, operation_model)\n\u001b[0m\u001b[1;32m    698\u001b[0m         \u001b[0;32mif\u001b[0m \u001b[0;32mnot\u001b[0m \u001b[0mself\u001b[0m\u001b[0;34m.\u001b[0m\u001b[0m_client_config\u001b[0m\u001b[0;34m.\u001b[0m\u001b[0minject_host_prefix\u001b[0m\u001b[0;34m:\u001b[0m\u001b[0;34m\u001b[0m\u001b[0;34m\u001b[0m\u001b[0m\n\u001b[1;32m    699\u001b[0m             \u001b[0mrequest_dict\u001b[0m\u001b[0;34m.\u001b[0m\u001b[0mpop\u001b[0m\u001b[0;34m(\u001b[0m\u001b[0;34m'host_prefix'\u001b[0m\u001b[0;34m,\u001b[0m \u001b[0;32mNone\u001b[0m\u001b[0;34m)\u001b[0m\u001b[0;34m\u001b[0m\u001b[0;34m\u001b[0m\u001b[0m\n",
      "\u001b[0;32m~/anaconda3/envs/python3/lib/python3.6/site-packages/botocore/validate.py\u001b[0m in \u001b[0;36mserialize_to_request\u001b[0;34m(self, parameters, operation_model)\u001b[0m\n\u001b[1;32m    291\u001b[0m                                                     operation_model.input_shape)\n\u001b[1;32m    292\u001b[0m             \u001b[0;32mif\u001b[0m \u001b[0mreport\u001b[0m\u001b[0;34m.\u001b[0m\u001b[0mhas_errors\u001b[0m\u001b[0;34m(\u001b[0m\u001b[0;34m)\u001b[0m\u001b[0;34m:\u001b[0m\u001b[0;34m\u001b[0m\u001b[0;34m\u001b[0m\u001b[0m\n\u001b[0;32m--> 293\u001b[0;31m                 \u001b[0;32mraise\u001b[0m \u001b[0mParamValidationError\u001b[0m\u001b[0;34m(\u001b[0m\u001b[0mreport\u001b[0m\u001b[0;34m=\u001b[0m\u001b[0mreport\u001b[0m\u001b[0;34m.\u001b[0m\u001b[0mgenerate_report\u001b[0m\u001b[0;34m(\u001b[0m\u001b[0;34m)\u001b[0m\u001b[0;34m)\u001b[0m\u001b[0;34m\u001b[0m\u001b[0;34m\u001b[0m\u001b[0m\n\u001b[0m\u001b[1;32m    294\u001b[0m         return self._serializer.serialize_to_request(parameters,\n\u001b[1;32m    295\u001b[0m                                                      operation_model)\n",
      "\u001b[0;31mParamValidationError\u001b[0m: Parameter validation failed:\nInvalid type for parameter Body, value: [0, 0, 0, 0, 0, 0, 0, 0, 0, 0, 0, 0, 0, 0, 0, 0, 0, 0, 0, 0, 0, 0, 0, 0, 0, 0, 0, 0, 0, 0, 0, 0, 0, 0, 0, 0, 0, 0, 0, 0, 0, 0, 0, 0, 0, 0, 0, 0, 0, 0, 0, 0, 0, 0, 0, 0, 0, 0, 0, 0, 0, 0, 0, 0, 0, 0, 0, 0, 0, 0, 0, 0, 0, 0, 0, 0, 0, 0, 0, 0, 0, 0, 0, 0, 0, 0, 0, 0, 0, 0, 0, 0, 0, 0, 0, 0, 0, 0, 0, 0, 0, 0, 0, 0, 0, 0, 0, 0, 0, 0, 0, 0, 0, 0, 0, 0, 0, 0, 0, 0, 0, 0, 0, 0, 0, 0, 0, 0, 0, 0, 0, 0, 0, 0, 0, 0, 0, 0, 0, 0, 0, 0, 0, 0, 0, 0, 0, 0, 0, 0, 0, 0, 0, 0, 0, 0, 0, 0, 0, 0, 0, 0, 0, 0, 0, 0, 0, 0, 0, 0, 0, 0, 0, 0, 0, 0, 0, 0, 0, 0, 0, 0, 0, 0, 0, 0, 0, 0, 0, 0, 0, 0, 0, 0, 0, 0, 0, 0, 0, 0, 0, 0, 0, 0, 0, 0, 0, 0, 0, 0, 0, 0, 0, 0, 0, 0, 0, 0, 0, 0, 0, 0, 0, 0, 0, 0, 1, 0, 0, 0, 0, 0, 0, 0, 0, 0, 0, 0, 0, 0, 0, 0, 0, 0, 0, 0, 0, 0, 0, 0, 0, 0, 0, 0, 0, 0, 1, 0, 0, 0, 0, 0, 0, 0, 0, 0, 0, 0, 0, 0, 0, 0, 0, 0, 0, 0, 0, 0, 0, 0, 0, 0, 0, 0, 0, 0, 0, 0, 0, 0, 0, 0, 0, 0, 0, 0, 0, 0, 0, 0, 0, 0, 0, 0, 0, 0, 0, 0, 0, 0, 0, 0, 0, 0, 0, 0, 0, 0, 0, 0, 0, 0, 0, 0, 0, 0, 0, 0, 0, 0, 0, 0, 0, 0, 0, 0, 0, 0, 0, 0, 0, 0, 0, 0, 0, 0, 0, 0, 0, 0, 0, 0, 0, 0, 0, 0, 0, 0, 0, 0, 0, 0, 0, 0, 0, 0, 0, 0, 0, 0, 0, 0, 0, 0, 0, 0, 0, 0, 0, 0, 0, 0, 0, 0, 0, 0, 0, 0, 0, 0, 0, 0, 0, 0, 0, 0, 0, 0, 0, 0, 0, 0, 0, 0, 0, 0, 0, 0, 0, 0, 0, 0, 0, 0, 0, 0, 0, 0, 0, 0, 0, 0, 0, 0, 0, 0, 0, 0, 0, 0, 0, 0, 0, 0, 0, 0, 0, 0, 0, 0, 0, 0, 0, 0, 0, 0, 0, 0, 0, 0, 0, 0, 0, 0, 0, 0, 0, 0, 0, 0, 0, 0, 0, 0, 0, 0, 0, 0, 0, 0, 0, 0, 0, 0, 0, 0, 0, 0, 0, 0, 0, 0, 0, 0, 0, 0, 0, 0, 0, 0, 0, 0, 0, 0, 0, 0, 0, 0, 0, 0, 0, 0, 0, 0, 0, 0, 0, 0, 0, 0, 0, 0, 0, 0, 0, 0, 0, 0, 0, 0, 0, 0, 0, 0, 0, 0, 0, 0, 0, 0, 0, 0, 0, 0, 0, 0, 0, 0, 0, 0, 0, 0, 0, 0, 0, 0, 0, 0, 0, 0, 0, 0, 0, 0, 0, 0, 0, 0, 0, 0, 0, 0, 0, 0, 0, 0, 0, 0, 0, 0, 0, 0, 0, 0, 0, 0, 0, 0, 0, 0, 0, 0, 0, 0, 0, 0, 0, 0, 0, 0, 0, 0, 0, 0, 0, 0, 0, 0, 0, 0, 0, 0, 0, 0, 0, 0, 0, 0, 0, 0, 0, 0, 0, 0, 0, 0, 0, 0, 0, 0, 0, 0, 0, 0, 0, 0, 0, 0, 0, 0, 0, 0, 0, 0, 0, 0, 1, 0, 0, 0, 0, 0, 0, 0, 0, 0, 0, 0, 0, 0, 0, 0, 0, 0, 0, 0, 0, 0, 0, 0, 0, 0, 0, 0, 0, 0, 0, 0, 0, 0, 0, 0, 0, 0, 0, 0, 0, 0, 0, 0, 0, 0, 0, 0, 0, 0, 0, 0, 0, 0, 0, 0, 0, 0, 0, 0, 0, 0, 0, 0, 0, 0, 0, 0, 0, 0, 0, 0, 0, 0, 0, 0, 0, 0, 0, 0, 0, 0, 0, 0, 0, 0, 0, 0, 0, 0, 0, 0, 0, 0, 0, 0, 0, 0, 0, 0, 0, 0, 0, 0, 0, 0, 0, 0, 0, 0, 0, 0, 0, 0, 0, 0, 0, 0, 0, 0, 0, 0, 0, 0, 0, 0, 0, 0, 0, 0, 0, 0, 0, 0, 0, 0, 0, 0, 0, 0, 0, 0, 0, 0, 0, 0, 0, 0, 0, 0, 0, 0, 0, 0, 0, 0, 0, 0, 0, 0, 0, 0, 0, 0, 0, 0, 0, 0, 0, 0, 0, 0, 0, 0, 0, 0, 0, 0, 0, 0, 0, 0, 0, 0, 0, 0, 0, 0, 0, 0, 0, 0, 0, 0, 0, 0, 0, 0, 0, 0, 0, 0, 0, 0, 0, 0, 0, 0, 0, 0, 0, 0, 0, 0, 0, 0, 0, 0, 0, 0, 0, 0, 0, 0, 0, 0, 0, 0, 0, 0, 0, 0, 0, 0, 0, 0, 0, 0, 0, 0, 0, 0, 0, 0, 0, 0, 0, 0, 0, 0, 0, 0, 0, 0, 1, 0, 0, 0, 0, 0, 0, 0, 0, 0, 0, 0, 0, 0, 0, 0, 0, 0, 0, 0, 0, 0, 0, 0, 0, 0, 0, 0, 0, 0, 0, 0, 0, 0, 0, 0, 0, 0, 0, 0, 0, 0, 0, 0, 0, 0, 0, 0, 0, 0, 0, 0, 0, 0, 0, 0, 0, 0, 0, 0, 0, 0, 0, 0, 0, 0, 0, 0, 0, 0, 0, 0, 0, 0, 0, 0, 0, 0, 0, 0, 0, 0, 0, 0, 0, 0, 0, 1, 0, 0, 0, 0, 0, 0, 0, 0, 0, 0, 0, 0, 0, 0, 0, 0, 0, 0, 0, 0, 0, 0, 0, 0, 0, 0, 0, 0, 0, 0, 0, 0, 0, 0, 0, 0, 0, 0, 0, 0, 0, 0, 0, 0, 0, 0, 0, 0, 0, 0, 0, 0, 0, 0, 0, 0, 0, 0, 0, 0, 0, 0, 0, 0, 0, 0, 0, 0, 0, 0, 0, 0, 0, 0, 0, 0, 0, 0, 0, 0, 0, 0, 0, 0, 0, 0, 0, 0, 0, 0, 0, 0, 0, 0, 0, 0, 0, 0, 0, 0, 0, 0, 0, 0, 0, 0, 0, 0, 0, 0, 0, 0, 0, 0, 0, 0, 0, 0, 0, 0, 0, 0, 0, 0, 0, 0, 0, 0, 0, 0, 0, 0, 0, 0, 0, 0, 0, 0, 0, 0, 0, 0, 0, 0, 0, 0, 0, 0, 0, 0, 0, 0, 0, 0, 0, 0, 0, 0, 0, 0, 0, 0, 0, 0, 0, 0, 0, 0, 0, 0, 0, 0, 0, 0, 0, 0, 0, 0, 0, 0, 0, 0, 0, 0, 0, 0, 0, 0, 0, 0, 0, 0, 0, 0, 0, 0, 0, 0, 0, 0, 0, 0, 0, 0, 0, 0, 0, 0, 0, 0, 0, 0, 0, 0, 0, 0, 0, 0, 0, 0, 0, 0, 0, 0, 0, 0, 0, 0, 0, 0, 0, 0, 0, 0, 0, 0, 0, 0, 0, 0, 0, 0, 0, 0, 0, 0, 0, 0, 0, 0, 0, 0, 1, 0, 0, 0, 0, 0, 0, 0, 0, 0, 0, 0, 0, 0, 0, 0, 0, 0, 0, 0, 0, 0, 0, 0, 0, 0, 0, 0, 0, 0, 0, 0, 0, 0, 0, 0, 0, 0, 0, 0, 0, 0, 0, 0, 0, 0, 0, 0, 0, 0, 0, 0, 0, 0, 0, 0, 1, 0, 0, 0, 0, 0, 0, 0, 0, 0, 0, 0, 0, 0, 0, 0, 0, 0, 0, 0, 0, 0, 0, 0, 0, 0, 0, 0, 0, 0, 0, 0, 0, 0, 0, 0, 0, 0, 0, 0, 0, 0, 0, 0, 0, 0, 0, 0, 0, 0, 0, 0, 0, 0, 0, 0, 0, 0, 0, 0, 0, 0, 0, 0, 0, 0, 0, 0, 0, 0, 0, 0, 0, 0, 0, 0, 0, 0, 0, 0, 0, 0, 0, 0, 0, 0, 0, 0, 0, 0, 0, 0, 0, 0, 0, 0, 0, 0, 0, 0, 0, 0, 0, 0, 0, 0, 0, 0, 0, 0, 0, 0, 0, 0, 0, 0, 0, 0, 0, 0, 0, 0, 0, 0, 0, 0, 0, 0, 0, 0, 0, 0, 0, 0, 0, 0, 0, 0, 0, 0, 0, 0, 0, 0, 0, 0, 0, 0, 0, 0, 0, 0, 0, 0, 0, 0, 0, 0, 0, 0, 0, 0, 0, 0, 0, 0, 0, 0, 0, 0, 0, 0, 0, 0, 0, 0, 0, 0, 0, 0, 0, 0, 0, 0, 0, 0, 0, 0, 0, 0, 0, 0, 0, 0, 0, 0, 0, 0, 0, 0, 0, 0, 0, 0, 0, 0, 0, 0, 0, 0, 0, 0, 0, 0, 0, 0, 0, 0, 0, 0, 0, 0, 0, 0, 0, 0, 0, 0, 0, 0, 0, 0, 0, 0, 0, 0, 0, 0, 0, 0, 0, 0, 0, 0, 0, 0, 0, 0, 0, 0, 0, 0, 0, 0, 0, 0, 0, 0, 0, 0, 0, 0, 0, 0, 0, 0, 0, 0, 0, 0, 0, 0, 0, 0, 0, 0, 0, 0, 0, 0, 0, 0, 0, 0, 0, 0, 0, 0, 0, 0, 0, 0, 0, 0, 0, 0, 0, 0, 0, 0, 0, 0, 0, 0, 0, 0, 0, 0, 0, 0, 0, 0, 0, 0, 0, 0, 0, 0, 0, 0, 0, 0, 0, 0, 0, 0, 0, 0, 0, 0, 0, 0, 0, 0, 0, 0, 0, 0, 0, 0, 0, 0, 0, 0, 0, 0, 0, 0, 0, 0, 0, 0, 0, 0, 0, 0, 0, 0, 0, 0, 0, 0, 0, 0, 0, 0, 0, 0, 0, 0, 0, 0, 0, 0, 0, 0, 0, 0, 0, 0, 0, 0, 0, 0, 0, 0, 0, 0, 0, 0, 0, 0, 0, 0, 0, 0, 0, 0, 0, 0, 0, 0, 0, 0, 0, 0, 0, 0, 0, 0, 0, 0, 0, 0, 0, 0, 0, 0, 0, 0, 0, 0, 0, 0, 0, 0, 0, 0, 0, 0, 0, 0, 0, 0, 0, 0, 0, 0, 0, 0, 0, 0, 0, 0, 0, 0, 0, 0, 0, 0, 0, 0, 0, 0, 0, 0, 0, 0, 0, 0, 0, 0, 0, 0, 0, 0, 0, 0, 0, 0, 0, 0, 0, 0, 0, 0, 0, 0, 0, 0, 0, 0, 0, 0, 0, 0, 0, 0, 0, 0, 0, 0, 0, 0, 0, 0, 0, 0, 0, 0, 0, 0, 0, 0, 0, 0, 0, 0, 0, 0, 0, 0, 0, 0, 0, 0, 0, 0, 0, 0, 0, 0, 0, 0, 0, 0, 0, 0, 0, 0, 0, 0, 0, 0, 0, 0, 0, 0, 0, 0, 0, 0, 0, 0, 0, 0, 0, 0, 0, 0, 0, 0, 0, 0, 0, 0, 0, 0, 0, 0, 0, 0, 0, 0, 0, 0, 0, 0, 0, 0, 0, 0, 0, 0, 0, 0, 0, 0, 0, 0, 0, 0, 0, 0, 0, 0, 0, 0, 0, 0, 0, 0, 0, 0, 0, 0, 0, 0, 0, 0, 0, 0, 0, 0, 0, 0, 0, 0, 0, 0, 0, 0, 0, 0, 0, 0, 0, 0, 0, 0, 0, 0, 0, 0, 0, 0, 0, 0, 0, 0, 0, 0, 0, 0, 0, 0, 0, 0, 0, 0, 0, 0, 0, 0, 0, 0, 0, 0, 0, 0, 0, 0, 0, 0, 0, 0, 0, 0, 0, 0, 0, 0, 0, 0, 0, 0, 0, 0, 0, 0, 0, 0, 0, 0, 0, 0, 0, 0, 0, 0, 0, 0, 1, 0, 0, 0, 0, 0, 0, 0, 0, 0, 0, 0, 0, 0, 0, 0, 0, 0, 0, 0, 0, 0, 0, 0, 0, 0, 0, 0, 0, 0, 0, 0, 0, 0, 0, 0, 0, 0, 0, 0, 0, 0, 0, 0, 0, 0, 0, 0, 0, 0, 0, 0, 0, 0, 0, 0, 0, 0, 0, 0, 0, 0, 0, 0, 0, 0, 0, 0, 0, 0, 0, 0, 0, 0, 0, 1, 0, 0, 0, 0, 0, 0, 0, 0, 0, 0, 0, 0, 0, 0, 0, 0, 0, 0, 0, 0, 1, 0, 0, 1, 0, 0, 0, 0, 0, 0, 0, 0, 0, 0, 0, 0, 0, 0, 0, 0, 0, 0, 0, 0, 0, 0, 0, 0, 0, 0, 0, 0, 0, 0, 0, 0, 0, 0, 0, 0, 0, 0, 0, 0, 0, 0, 0, 0, 0, 0, 0, 0, 0, 0, 0, 0, 0, 0, 0, 0, 0, 0, 0, 0, 0, 0, 0, 0, 0, 0, 0, 0, 0, 0, 0, 0, 0, 0, 0, 0, 0, 0, 0, 0, 0, 0, 0, 0, 0, 0, 0, 0, 0, 0, 0, 0, 0, 0, 0, 0, 0, 0, 0, 0, 0, 0, 0, 0, 0, 0, 0, 0, 0, 0, 0, 0, 0, 0, 0, 0, 0, 0, 0, 0, 0, 0, 0, 0, 0, 0, 0, 0, 0, 0, 0, 0, 0, 0, 0, 0, 0, 0, 0, 0, 0, 0, 0, 0, 0, 0, 0, 0, 0, 0, 0, 0, 0, 0, 0, 0, 0, 0, 0, 0, 0, 0, 0, 0, 0, 0, 0, 0, 0, 0, 0, 0, 0, 0, 0, 0, 0, 0, 0, 0, 0, 0, 0, 0, 0, 0, 0, 0, 0, 0, 0, 0, 0, 0, 0, 0, 0, 0, 0, 0, 0, 0, 0, 0, 0, 0, 0, 0, 0, 0, 0, 0, 0, 0, 0, 0, 0, 0, 0, 0, 0, 0, 0, 0, 0, 0, 0, 0, 0, 0, 0, 0, 0, 0, 0, 0, 0, 0, 0, 0, 0, 0, 0, 0, 0, 0, 0, 0, 0, 0, 0, 0, 0, 0, 0, 0, 0, 0, 0, 0, 0, 0, 0, 0, 0, 0, 0, 0, 0, 0, 0, 0, 0, 0, 0, 0, 0, 0, 0, 0, 0, 0, 0, 0, 0, 0, 0, 0, 0, 0, 0, 0, 0, 0, 0, 0, 0, 0, 0, 0, 0, 0, 0, 0, 0, 0, 0, 0, 0, 0, 0, 0, 0, 0, 0, 0, 0, 0, 0, 0, 0, 0, 0, 0, 0, 0, 0, 0, 0, 0, 0, 0, 0, 0, 0, 0, 0, 0, 0, 0, 0, 0, 0, 0, 0, 0, 0, 0, 0, 0, 0, 0, 0, 0, 0, 0, 0, 0, 0, 0, 0, 0, 0, 0, 0, 0, 0, 0, 0, 0, 0, 0, 0, 0, 0, 0, 0, 0, 0, 0, 0, 0, 0, 0, 0, 0, 0, 0, 0, 0, 0, 0, 0, 0, 0, 0, 0, 0, 0, 0, 0, 0, 0, 0, 0, 0, 0, 0, 0, 0, 0, 0, 0, 0, 0, 0, 0, 0, 0, 0, 0, 0, 0, 0, 0, 0, 0, 0, 0, 0, 0, 0, 0, 0, 0, 0, 0, 0, 0, 0, 0, 0, 0, 0, 0, 0, 0, 0, 0, 0, 0, 0, 0, 0, 0, 0, 0, 0, 0, 0, 0, 0, 0, 0, 0, 0, 1, 0, 0, 0, 0, 0, 0, 0, 0, 0, 0, 0, 0, 0, 0, 0, 0, 0, 0, 0, 0, 0, 0, 0, 0, 0, 0, 0, 0, 0, 0, 0, 0, 0, 0, 0, 0, 0, 0, 0, 0, 0, 0, 0, 0, 0, 0, 0, 0, 0, 0, 0, 0, 0, 0, 0, 0, 0, 0, 0, 0, 0, 0, 0, 0, 0, 0, 0, 0, 0, 0, 0, 0, 0, 0, 0, 0, 0, 0, 0, 0, 0, 0, 0, 0, 0, 0, 0, 0, 0, 0, 0, 0, 0, 0, 0, 0, 0, 0, 0, 0, 0, 0, 0, 0, 0, 0, 0, 0, 0, 0, 0, 0, 0, 0, 0, 0, 0, 0, 0, 0, 0, 0, 0, 0, 0, 0, 0, 0, 0, 0, 0, 0, 0, 0, 0, 0, 0, 0, 0, 0, 0, 0, 0, 0, 0, 0, 0, 0, 0, 0, 0, 0, 0, 0, 0, 0, 0, 0, 0, 0, 0, 0, 0, 0, 0, 0, 0, 0, 0, 0, 0, 0, 0, 0, 0, 0, 0, 0, 0, 0, 0, 0, 0, 0, 0, 0, 0, 0, 0, 0, 0, 0, 0, 0, 0, 0, 0, 0, 0, 0, 0, 0, 0, 0, 0, 0, 0, 0, 0, 0, 0, 0, 0, 0, 0, 0, 0, 0, 0, 0, 0, 0, 0, 0, 0, 0, 0, 0, 0, 0, 0, 0, 0, 0, 0, 0, 0, 0, 0, 0, 0, 0, 0, 0, 0, 0, 0, 0, 0, 0, 0, 0, 0, 0, 0, 0, 0, 0, 0, 0, 0, 0, 0, 0, 0, 0, 0, 0, 0, 0, 0, 0, 0, 0, 0, 0, 0, 0, 0, 0, 0, 0, 0, 0, 0, 0, 0, 0, 0, 0, 0, 0, 0, 0, 0, 0, 0, 0, 0, 0, 0, 0, 0, 0, 0, 0, 0, 0, 0, 0, 0, 0, 0, 0, 0, 0, 0, 0, 0, 0, 0, 0, 0, 0, 0, 0, 0, 0, 0, 0, 0, 0, 0, 0, 0, 0, 0, 0, 0, 0, 0, 0, 0, 0, 0, 0, 0, 0, 0, 0, 0, 0, 0, 0, 0, 0, 0, 0, 0, 0, 0, 0, 0, 0, 0, 0, 0, 0, 0, 0, 0, 0, 0, 0, 0, 0, 0, 0, 0, 0, 0, 0, 0, 0, 0, 0, 0, 0, 0, 0, 0, 0, 0, 0, 0, 0, 0, 0, 0, 0, 0, 0, 0, 0, 0, 0, 0, 0, 0, 0, 0, 0, 0, 0, 0, 0, 0, 0, 0, 0, 0, 0, 0, 0, 0, 0, 0, 0, 0, 0, 0, 0, 0, 0, 0, 0, 0, 0, 0, 0, 0, 0, 0, 0, 0, 0, 0, 0, 0, 0, 0, 0, 0, 0, 0, 0, 0, 0, 0, 0, 0, 0, 0, 0, 0, 0, 0, 0, 0, 0, 0, 0, 0, 0, 0, 0, 0, 0, 0, 0, 0, 0, 0, 0, 0, 0, 0, 0, 0, 0, 0, 0, 0, 0, 0, 0, 0, 0, 0, 0, 0, 0, 0, 0, 0, 0, 0, 0, 0, 0, 0, 0, 1, 0, 0, 0, 0, 0, 0, 0, 0, 0, 0, 0, 0, 0, 0, 0, 0, 0, 0, 0, 0, 0, 0, 0, 0, 0, 0, 0, 0, 0, 0, 0, 0, 0, 0, 0, 2, 0, 0, 0, 0, 0, 0, 0, 0, 0, 0, 0, 0, 0, 0, 0, 0, 0, 0, 0, 0, 0, 0, 0, 0, 0, 0, 0, 0, 0, 0, 0, 0, 0, 0, 0, 0, 0, 0, 0, 0, 1, 0, 0, 0, 0, 0, 0, 0, 0, 0, 0, 0, 0, 0, 0, 0, 0, 0, 0, 0, 0, 0, 0, 0, 0, 0, 0, 0, 0, 0, 0, 0, 0, 0, 0, 0, 0, 0, 0, 0, 0, 0, 0, 0, 0, 0, 0, 0, 0, 0, 0, 0, 0, 0, 0, 0, 0, 0, 0, 0, 0, 0, 0, 0, 0, 0, 0, 0, 0, 0, 0, 0, 0, 0, 0, 0, 0, 0, 0, 0, 0, 0, 0, 0, 0, 0, 0, 0, 0, 0, 0, 0, 0, 0, 0, 0, 0, 0, 0, 0, 0, 0, 0, 0, 0, 0, 0, 0, 0, 0, 0, 0, 0, 0, 0, 0, 0, 0, 0, 0, 0, 0, 0, 0, 0, 0, 0, 0, 0, 0, 0, 0, 0, 0, 0, 0, 0, 0, 0, 0, 0, 0, 0, 0, 0, 0, 0, 0, 0, 0, 0, 0, 0, 0, 0, 0, 0, 0, 0, 0, 0, 0, 0, 0, 0, 0, 0, 0, 0, 0, 0, 0, 0, 0, 0, 0, 0, 0, 0, 0, 0, 0, 0, 0, 0, 0, 0, 0, 0, 0, 0, 0, 0, 0, 0, 0, 0, 0, 0, 0, 0, 0, 0, 0, 0, 0, 0, 0, 0, 0, 0, 0, 0, 0, 0, 0, 0, 0, 0, 0, 0, 0, 0, 0, 0, 0, 0, 0, 0, 0, 0, 0, 0, 0, 0, 0, 0, 0, 0, 0, 0, 0, 0, 0, 0, 0, 0, 0, 0, 0, 0, 0, 0, 0, 0, 0, 0, 0, 0, 0, 0, 0, 0, 0, 0, 0, 0, 0, 0, 0, 0, 0, 0, 0, 0, 0, 0, 0, 0, 0, 0, 0, 0, 0, 0, 0, 0, 0, 0, 0, 0, 0, 0, 0, 0, 0, 0, 0, 0, 0, 0, 0, 0, 0, 0, 0, 0, 0, 0, 0, 0, 0, 0, 0, 0, 0, 0, 0, 0, 0, 0, 0, 0, 0, 0, 0, 0, 0, 0, 0, 0, 0, 0, 0, 0, 0, 0, 0, 0, 0, 0, 0, 0, 0, 0, 0, 0, 0, 0, 0, 0, 0, 0, 0, 0, 0, 0, 0, 0, 0, 0, 0, 0, 0, 0, 0, 0, 0, 0, 0, 0, 0, 0, 0, 0, 0, 0, 0, 0, 0, 0, 0, 0, 0, 0, 0, 0, 0, 0, 0, 0, 0, 0, 0, 0, 0, 0, 0, 0, 0, 0, 0, 0, 0, 0, 0, 0, 0, 0, 0, 0, 0, 0, 0, 0, 0, 0, 0, 0, 0, 0, 0, 0, 0, 0, 0, 0, 0, 0, 0, 0, 0, 0, 0, 0, 0, 0, 0, 0, 0, 0, 0, 0, 0, 0, 0, 0, 0, 0, 0, 0, 0, 0, 0, 0, 0, 0, 0, 0, 0, 0, 0, 0, 0, 0, 0, 0, 0, 0, 0, 0, 0, 0, 0, 0, 0, 0, 0, 0, 0, 0, 0, 0, 0, 0, 0, 0, 0, 0, 0, 0, 0, 0, 0, 0, 0, 0, 0, 1, 0, 0, 0, 0, 0, 0, 0, 0, 0, 0, 0, 0, 0, 0, 0, 0, 0, 0, 0, 0, 0, 0, 0, 0, 0, 0, 0, 0, 0, 0, 0, 0, 0, 0, 0, 0, 0, 0, 0, 0, 0, 0, 0, 0, 0, 0, 0, 0, 0, 0, 0, 0, 0, 0, 0, 0, 0, 0, 0, 0, 0, 0, 0, 0, 0, 0, 0, 0, 0, 0, 0, 0, 0, 0, 0, 0, 0, 0, 0, 0, 0, 0, 0, 0, 0, 0, 0, 0, 0, 0, 0, 0, 0, 0, 0, 0, 0, 0, 0, 0, 0, 0, 0, 0, 0, 0, 0, 0, 0, 0, 2, 0, 0, 0, 0, 0, 0, 0, 0, 0, 0, 0, 0, 0, 0, 0, 0, 0, 0, 0, 0, 0, 0, 0, 0, 0, 0, 0, 0, 0, 0, 0, 0, 0, 0, 0, 0, 0, 0, 0, 0, 0, 0, 0, 0, 0, 0, 0, 0, 0, 0, 0, 0, 0, 0, 0, 0, 0, 0, 0, 0, 0, 0, 0, 0, 0, 0, 0, 0, 0, 0, 0, 0, 0, 0, 0, 0, 0, 0, 0, 0, 0, 0, 0, 0, 0, 0, 0, 0, 0, 0, 0, 0, 0, 0, 0, 0, 0, 0, 0, 0, 0, 0, 0, 0, 0, 0, 0, 0, 0, 0, 0, 0, 0, 0, 0, 0, 0, 0, 0, 0, 0, 0, 0, 0, 0, 0, 0, 0, 0, 0, 0, 0, 0, 0, 0, 0, 0, 0, 0, 0, 0, 0, 0, 0, 0, 0, 0, 0, 0, 0, 0, 0, 0, 0, 0, 0, 0, 0, 0, 0, 0, 0, 0, 0, 0, 0, 0, 0, 0, 0, 0, 0, 0, 0, 0, 0, 0, 0, 0, 0, 0, 0, 0, 0, 0, 0, 0, 0, 0, 0, 0, 0, 0, 0, 0, 0, 0, 0, 0, 0, 0, 0, 0, 0, 0, 0, 0, 0, 0, 0, 0, 0, 0, 0, 0, 0, 0, 0, 0, 0, 0, 0, 0, 0, 0, 0, 0, 0, 0, 0, 0, 0, 0, 0, 0, 0, 0, 0, 0, 0, 0, 0, 0, 0, 0, 0, 0, 0, 0, 0, 0, 0, 0, 0, 0, 0, 0, 0, 0, 0, 0, 0, 0, 0, 0, 0, 0, 0, 0, 0, 0, 0, 0, 0, 0, 0, 0, 0, 0, 0, 0, 0, 0, 0, 0, 0, 0, 0, 0, 0, 0, 0, 0, 0, 0, 0, 0, 0, 0, 0, 0, 0, 0, 0, 0, 0, 0, 0, 0, 0, 0, 0, 0, 0, 0, 0, 0, 0, 0, 0, 0, 0, 0, 0, 0, 0, 0, 0, 0, 0, 0, 0, 0, 0, 0, 0, 0, 0, 0, 0, 0, 0, 0, 0, 0, 0, 0, 0, 0, 0, 0, 0, 0, 0, 0, 0, 0, 0, 0, 0, 0, 0, 0, 0, 0, 0, 0, 0, 0, 0, 0, 0, 0, 0, 0, 0, 0, 0, 0, 0, 0, 0, 0, 0, 0, 0, 0, 0, 0, 0, 0, 0, 0, 0, 0, 0, 0, 0, 0, 0, 0, 0, 0, 0, 0, 0, 0, 0, 0, 0, 0, 0, 0, 0, 0, 0, 0, 0, 0, 0, 0, 0, 0, 0, 0, 0, 0, 0, 0, 0, 0, 0, 0, 0, 0, 0, 0, 0, 0, 0, 0, 0, 0, 0, 0, 0, 0, 0, 0, 0, 0, 0, 0, 0, 0, 0, 0, 0, 0, 0, 0, 0, 0, 0, 0, 0, 0, 0, 0, 0, 0, 0, 0, 0, 0, 0, 0, 0, 0, 0, 0, 0, 0, 0, 0, 0, 0, 0, 0, 0, 0, 0, 0, 0, 0, 0, 0, 0, 0, 0, 0, 0, 0, 0, 0, 0, 0, 0, 0, 0, 0, 0, 0, 0, 0, 0, 0, 0, 0, 0, 0, 0, 0, 0, 0, 0, 0, 0, 0, 0, 0, 0, 0, 0, 0, 0, 0, 0, 0, 0, 0, 0, 0, 0, 0, 0, 0, 0, 0, 0, 0, 0, 0, 0, 0, 0, 0, 0, 0, 0, 0, 0, 0, 0, 0, 0, 0, 0, 0, 0, 0, 0, 0, 0, 0, 0, 0, 0, 0, 0, 0, 0, 0, 0, 0, 0, 0, 0, 0, 0, 0, 0, 0, 0, 0, 0, 0, 0, 0, 0, 0, 0, 0, 0, 0, 0, 0, 0, 0, 0, 0, 0, 0, 0, 0, 0, 0, 0, 0, 0, 0, 0, 0, 0, 0, 0, 0, 0, 0, 0, 0, 0, 0, 0, 0, 0, 0, 0, 0, 0, 0, 0, 0, 0, 0, 0, 0, 0, 0, 0, 0, 0, 0, 0, 0, 0, 0, 0, 0, 0, 0, 0, 0, 0, 0, 0, 0, 0, 0, 0, 0, 0, 0, 0, 0, 0, 0, 0, 0, 0, 0, 0, 0, 0, 0, 0, 0, 0, 0, 0, 1, 0, 0, 0, 0, 0, 0, 0, 0, 0, 0, 0, 0, 0, 0, 0, 0, 0, 0, 0, 0, 0, 0, 0, 0, 0, 0, 0, 0, 0, 0, 0, 0, 0, 0, 0, 0, 0, 0, 0, 0, 0, 0, 0, 0, 0, 0, 0, 0, 0, 0, 0, 0, 0, 0, 0, 0, 0, 0, 0, 0, 0, 0, 0, 0, 0, 0, 0, 0, 0, 0, 0, 0, 0, 0, 0, 0, 0, 0, 0, 0, 0, 0, 0, 0, 0, 0, 0, 0, 0, 0, 0, 0, 0, 0, 0, 0, 0, 0, 0, 0, 0, 0, 0, 0, 0, 0, 0, 1, 0, 0, 0, 0, 0, 0, 0, 0, 0, 0, 0, 0, 0, 0, 0, 0, 0, 0, 0, 0, 0, 0, 0, 0, 0, 0, 0, 0, 0, 0, 0, 0, 0, 0, 0, 0, 0, 0, 0, 0, 0, 0, 0, 0, 0, 0, 0, 0, 0, 0, 0, 0, 0, 0, 0, 0, 0, 0, 0, 0, 0, 0, 0, 0, 0, 0, 0, 0, 0, 0, 0, 0, 0, 0, 0, 0, 0, 0, 0, 0, 0, 0, 0, 0, 0, 0, 0, 0, 0, 0, 0, 0, 0, 0, 0, 0, 0, 0, 0, 0, 0, 0, 0, 0, 0, 0, 0, 0, 0, 0, 0, 0, 0, 0, 0, 0, 0, 0, 0, 0, 0, 0, 0, 0, 0, 0, 0, 0, 0, 0, 0, 0, 0, 0, 0, 0, 0, 0, 0, 0, 0, 0, 0, 0, 0, 0, 0, 0, 0, 0, 0, 0, 0, 0, 0, 0, 0, 0, 0, 0, 0, 0, 0, 0, 0, 0, 0, 0, 0, 0, 0, 0, 0, 0, 0, 0, 0, 0, 0, 0, 0, 0, 0, 0, 0, 0, 0, 0, 0, 0, 0, 0, 0, 0, 0, 0, 0, 0, 0, 0, 0, 0, 0, 0, 0, 0, 0, 0, 0, 0, 0, 0, 0, 0, 0, 0, 0, 0, 0, 0, 0, 0, 0, 0, 0, 0, 0, 0, 0, 0, 0, 0, 0, 0, 0, 0, 0, 0, 0, 0, 0, 0, 0, 0, 0, 0, 0, 0, 0, 0, 0, 0, 0, 0, 0, 0, 0, 0, 0, 0, 0, 0, 0, 0, 0, 0, 0, 0, 0, 0, 0, 0, 0, 0, 0, 0, 0, 0, 0, 0, 0, 0, 0, 0, 0, 0, 0, 0, 0, 0, 0, 0, 0, 0, 0, 0, 0, 0, 0, 0, 0, 0, 0, 0, 0, 0, 0, 0, 0, 0, 0, 0, 0, 0, 0, 0, 0, 0, 0, 0, 0, 0, 0, 0, 0, 0, 0, 0, 0, 0, 0, 0, 0, 0, 0, 0, 0, 0, 0, 0, 0, 0, 0, 0, 0, 0, 0, 0, 0, 0, 0, 0, 0, 0, 0, 0, 0, 0, 0, 0, 0, 0, 0, 0, 0, 0, 0, 0, 0, 0, 0, 0, 0, 0, 0, 0, 0, 0, 0, 0, 0, 0, 0, 0, 0, 0, 0, 0, 0, 0, 0, 0, 0, 0, 0, 0, 0, 0, 0, 0, 0, 0, 0, 0, 0, 0, 0, 0, 0, 0, 0, 0, 0, 0, 0, 0, 0, 0, 0, 0, 0, 0, 0, 0, 0, 0, 0, 0, 0, 0, 0, 0, 0, 0, 0, 0, 0, 0, 0, 0, 0, 0, 0, 0, 0, 0, 0, 0, 0, 0, 0, 0, 0, 0, 0, 0, 0, 0, 0, 0, 0, 0, 0, 2, 0, 1, 0], type: <class 'list'>, valid types: <class 'bytes'>, <class 'bytearray'>, file-like object"
     ]
    }
   ],
   "source": [
    "response = runtime.invoke_endpoint(EndpointName = xgb_predictor.endpoint, # The name of the endpoint we created\n",
    "                                       ContentType = 'text/csv',                     # The data format that is expected\n",
    "                                       Body = test_bow)"
   ]
  },
  {
   "cell_type": "markdown",
   "metadata": {},
   "source": [
    "So why did we get an error?\n",
    "\n",
    "Because we tried to send the endpoint a list of integers but it expected us to send data of type `text/csv`. So, we need to convert it."
   ]
  },
  {
   "cell_type": "code",
   "execution_count": 46,
   "metadata": {},
   "outputs": [],
   "source": [
    "response = runtime.invoke_endpoint(EndpointName = xgb_predictor.endpoint, # The name of the endpoint we created\n",
    "                                       ContentType = 'text/csv',                     # The data format that is expected\n",
    "                                       Body = ','.join([str(val) for val in test_bow]).encode('utf-8'))"
   ]
  },
  {
   "cell_type": "code",
   "execution_count": 47,
   "metadata": {},
   "outputs": [
    {
     "name": "stdout",
     "output_type": "stream",
     "text": [
      "{'ResponseMetadata': {'RequestId': 'ec5e7cea-5c5e-417b-ad96-dcdd6e9216a4', 'HTTPStatusCode': 200, 'HTTPHeaders': {'x-amzn-requestid': 'ec5e7cea-5c5e-417b-ad96-dcdd6e9216a4', 'x-amzn-invoked-production-variant': 'AllTraffic', 'date': 'Sun, 07 Mar 2021 01:25:26 GMT', 'content-type': 'text/csv; charset=utf-8', 'content-length': '14'}, 'RetryAttempts': 0}, 'ContentType': 'text/csv; charset=utf-8', 'InvokedProductionVariant': 'AllTraffic', 'Body': <botocore.response.StreamingBody object at 0x7fafec5d3b00>}\n"
     ]
    }
   ],
   "source": [
    "print(response)"
   ]
  },
  {
   "cell_type": "markdown",
   "metadata": {},
   "source": [
    "As we can see, the response from our model is a somewhat complicated looking dict that contains a bunch of information. The bit that we are most interested in is `'Body'` object which is a streaming object that we need to `read` in order to make use of."
   ]
  },
  {
   "cell_type": "code",
   "execution_count": 48,
   "metadata": {},
   "outputs": [
    {
     "name": "stdout",
     "output_type": "stream",
     "text": [
      "0.385966271162\n"
     ]
    }
   ],
   "source": [
    "response = response['Body'].read().decode('utf-8')\n",
    "print(response)"
   ]
  },
  {
   "cell_type": "markdown",
   "metadata": {},
   "source": [
    "Now that we know how to process the incoming user data we can start setting up the infrastructure to make our simple web app work. To do this we will make use of two different services. Amazon's Lambda and API Gateway services.\n",
    "\n",
    "Lambda is a service which allows someone to write some relatively simple code and have it executed whenever a chosen trigger occurs. For example, you may want to update a database whenever new data is uploaded to a folder stored on S3.\n",
    "\n",
    "API Gateway is a service that allows you to create HTTP endpoints (url addresses) which are connected to other AWS services. One of the benefits to this is that you get to decide what credentials, if any, are required to access these endpoints.\n",
    "\n",
    "In our case we are going to set up an HTTP endpoint through API Gateway which is open to the public. Then, whenever anyone sends data to our public endpoint we will trigger a Lambda function which will send the input (in our case a review) to our model's endpoint and then return the result."
   ]
  },
  {
   "cell_type": "markdown",
   "metadata": {},
   "source": [
    "### Setting up a Lambda function\n",
    "\n",
    "The first thing we are going to do is set up a Lambda function. This Lambda function will be executed whenever our public API has data sent to it. When it is executed it will receive the data, perform any sort of processing that is required, send the data (the review) to the SageMaker endpoint we've created and then return the result.\n",
    "\n",
    "#### Part A: Create an IAM Role for the Lambda function\n",
    "\n",
    "Since we want the Lambda function to call a SageMaker endpoint, we need to make sure that it has permission to do so. To do this, we will construct a role that we can later give the Lambda function.\n",
    "\n",
    "Using the AWS Console, navigate to the **IAM** page and click on **Roles**. Then, click on **Create role**. Make sure that the **AWS service** is the type of trusted entity selected and choose **Lambda** as the service that will use this role, then click **Next: Permissions**.\n",
    "\n",
    "In the search box type `sagemaker` and select the check box next to the **AmazonSageMakerFullAccess** policy. Then, click on **Next: Review**.\n",
    "\n",
    "Lastly, give this role a name. Make sure you use a name that you will remember later on, for example `LambdaSageMakerRole`. Then, click on **Create role**."
   ]
  },
  {
   "cell_type": "markdown",
   "metadata": {},
   "source": [
    "#### Part B: Create a Lambda function\n",
    "\n",
    "Now it is time to actually create the Lambda function. Remember from earlier that in order to process the user provided input and send it to our endpoint we need to gather two pieces of information:\n",
    "\n",
    " - The name of the endpoint, and\n",
    " - the vocabulary object.\n",
    "\n",
    "We will copy these pieces of information to our Lambda function after we create it.\n",
    "\n",
    "To start, using the AWS Console, navigate to the AWS Lambda page and click on **Create a function**. When you get to the next page, make sure that **Author from scratch** is selected. Now, name your Lambda function, using a name that you will remember later on, for example `sentiment_analysis_xgboost_func`. Make sure that the **Python 3.6** runtime is selected and then choose the role that you created in the previous part. Then, click on **Create Function**.\n",
    "\n",
    "On the next page you will see some information about the Lambda function you've just created. If you scroll down you should see an editor in which you can write the code that will be executed when your Lambda function is triggered. Collecting the code we wrote above to process a single review and adding it to the provided example `lambda_handler` we arrive at the following.\n",
    "\n",
    "```python\n",
    "# We need to use the low-level library to interact with SageMaker since the SageMaker API\n",
    "# is not available natively through Lambda.\n",
    "import boto3\n",
    "\n",
    "# And we need the regular expression library to do some of the data processing\n",
    "import re\n",
    "\n",
    "REPLACE_NO_SPACE = re.compile(\"(\\.)|(\\;)|(\\:)|(\\!)|(\\')|(\\?)|(\\,)|(\\\")|(\\()|(\\))|(\\[)|(\\])\")\n",
    "REPLACE_WITH_SPACE = re.compile(\"(<br\\s*/><br\\s*/>)|(\\-)|(\\/)\")\n",
    "\n",
    "def review_to_words(review):\n",
    "    words = REPLACE_NO_SPACE.sub(\"\", review.lower())\n",
    "    words = REPLACE_WITH_SPACE.sub(\" \", words)\n",
    "    return words\n",
    "    \n",
    "def bow_encoding(words, vocabulary):\n",
    "    bow = [0] * len(vocabulary) # Start by setting the count for each word in the vocabulary to zero.\n",
    "    for word in words.split():  # For each word in the string\n",
    "        if word in vocabulary:  # If the word is one that occurs in the vocabulary, increase its count.\n",
    "            bow[vocabulary[word]] += 1\n",
    "    return bow\n",
    "\n",
    "\n",
    "def lambda_handler(event, context):\n",
    "    \n",
    "    vocab = \"*** ACTUAL VOCABULARY GOES HERE ***\"\n",
    "    \n",
    "    words = review_to_words(event['body'])\n",
    "    bow = bow_encoding(words, vocab)\n",
    "\n",
    "    # The SageMaker runtime is what allows us to invoke the endpoint that we've created.\n",
    "    runtime = boto3.Session().client('sagemaker-runtime')\n",
    "\n",
    "    # Now we use the SageMaker runtime to invoke our endpoint, sending the review we were given\n",
    "    response = runtime.invoke_endpoint(EndpointName = '***ENDPOINT NAME HERE***',# The name of the endpoint we created\n",
    "                                       ContentType = 'text/csv',                 # The data format that is expected\n",
    "                                       Body = ','.join([str(val) for val in bow]).encode('utf-8')) # The actual review\n",
    "\n",
    "    # The response is an HTTP response whose body contains the result of our inference\n",
    "    result = response['Body'].read().decode('utf-8')\n",
    "    \n",
    "    # Round the result so that our web app only gets '1' or '0' as a response.\n",
    "    result = round(float(result))\n",
    "\n",
    "    return {\n",
    "        'statusCode' : 200,\n",
    "        'headers' : { 'Content-Type' : 'text/plain', 'Access-Control-Allow-Origin' : '*' },\n",
    "        'body' : str(result)\n",
    "    }\n",
    "```"
   ]
  },
  {
   "cell_type": "markdown",
   "metadata": {},
   "source": [
    "Once you have copy and pasted the code above into the Lambda code editor, replace the `**ENDPOINT NAME HERE**` portion with the name of the endpoint that we deployed earlier. You can determine the name of the endpoint using the code cell below."
   ]
  },
  {
   "cell_type": "code",
   "execution_count": 49,
   "metadata": {},
   "outputs": [
    {
     "data": {
      "text/plain": [
       "'xgboost-2021-03-07-00-49-50-055'"
      ]
     },
     "execution_count": 49,
     "metadata": {},
     "output_type": "execute_result"
    }
   ],
   "source": [
    "xgb_predictor.endpoint"
   ]
  },
  {
   "cell_type": "markdown",
   "metadata": {},
   "source": [
    "In addition, you will need to copy the vocabulary dict to the appropriate place in the code at the beginning of the `lambda_handler` method. The cell below prints out the vocabulary dict in a way that is easy to copy and paste."
   ]
  },
  {
   "cell_type": "code",
   "execution_count": 50,
   "metadata": {},
   "outputs": [
    {
     "name": "stdout",
     "output_type": "stream",
     "text": [
      "{'if': 2222, 'movies': 2927, 'like': 2599, 'rip': 3700, 'off': 3084, 'then': 4436, 'to': 4507, 'the': 4426, 'new': 3003, 'low': 2676, 'of': 3083, 'garbage': 1870, 'these': 4441, 'barely': 399, 'animated': 241, 'have': 2052, 'some': 4061, 'kind': 2476, 'scheme': 3812, 'which': 4867, 'involve': 2345, 'basically': 407, 'characters': 760, 'sex': 3907, 'dreams': 1355, 'oh': 3096, 'joy': 2422, 'but': 636, 'what': 4858, 'that': 4424, 'has': 2043, 'do': 1302, 'with': 4911, 'anything': 260, 'is': 2360, 'guess': 1989, 'except': 1556, 'let': 2579, 'director': 1264, 'his': 2118, 'for': 1784, 'they': 4442, 'show': 3953, 'this': 4457, 'down': 1335, 'in': 2257, 'circle': 821, 'hell': 2077, 'one': 3107, 'suspects': 4328, 'theres': 4440, 'no': 3020, 'real': 3547, 'plot': 3309, 'just': 2437, 'kill': 2468, 'and': 226, 'attempts': 343, 'at': 331, 'humor': 2192, 'mild': 2839, 'attempt': 340, 'viewing': 4740, 'audience': 352, 'crappy': 1032, 'acting': 99, 'pointless': 3318, 'gore': 1941, 'supposed': 4306, 'be': 418, 'horror': 2168, 'movie': 2926, 'fear': 1676, 'or': 3124, 'suspense': 4330, 'boom': 537, 'bang': 393, 'done': 1322, 'kinda': 2477, 'are': 285, 'desert': 1198, 'weird': 4841, 'reason': 3557, 'get': 1899, 'by': 642, 'those': 4460, 'from': 1840, 'first': 1736, 'was': 4805, 'good': 1937, 'should': 3951, 'been': 438, 'left': 2561, 'it': 2366, 'another': 250, 'excuse': 1564, 'money': 2888, 'use': 4692, 'violence': 4747, 'saw': 3798, 'sequels': 3886, 'know': 2489, 'matter': 2769, 'how': 2181, 'more': 2904, 'can': 665, 'add': 115, 'people': 3221, 'will': 4886, 'see': 3855, 'miss': 2866, 'suspenseful': 4331, 'come': 886, 'on': 3105, 'hollywood': 2137, 'you': 4986, 'much': 2934, 'better': 472, 'when': 4862, 'small': 4033, 'scene': 3809, 'thought': 4462, 'would': 4957, 'entertaining': 1499, 'watch': 4811, 'little': 2624, 'robot': 3717, 'guy': 2000, 'does': 1308, 'look': 2646, 'cute': 1090, 'style': 4249, 'animation': 242, 'sort': 4077, 'familiar': 1643, 'classic': 835, 'shows': 3960, 'before': 440, 'aired': 165, 'through': 4477, 'there': 4438, 'did': 1241, 'became': 431, 'slightly': 4029, 'three': 4469, 'children': 792, 'tommy': 4516, 'voiced': 4762, 'an': 223, 'exception': 1557, 'lot': 2661, 'he': 2056, 'were': 4848, 'portrayed': 3342, 'young': 4989, 'example': 1553, 'jones': 2418, 'character': 758, 'whatever': 4859, 'happened': 2027, 'isnt': 2362, 'bad': 382, 'really': 3556, 'way': 4820, 'my': 2951, 'only': 3110, 'criticism': 1063, 'thus': 4486, 'dont': 1324, 'day': 1129, '10': 0, 'years': 4979, 'old': 3100, 'home': 2142, 'channel': 753, 'still': 4188, 'remember': 3616, 'impact': 2244, 'made': 2697, 'life': 2592, 'touched': 4534, 'me': 2778, 'as': 311, 'other': 3135, 'film': 1716, 'had': 2003, 'eyes': 1613, 'out': 3141, 'after': 143, 'time': 4495, 'couldnt': 1008, 'find': 1726, 'anywhere': 263, 'else': 1448, 'ask': 316, 'around': 297, 'ever': 1538, 'heard': 2062, 'rare': 3523, 'films': 1721, 'not': 3040, 'many': 2732, 'knew': 2486, 'about': 67, 'because': 432, 'mean': 2779, 'talking': 4360, 'throughout': 4478, 'checking': 778, 'video': 4733, 'cable': 644, 'tv': 4610, 'always': 203, 'came': 656, 'up': 4683, 'short': 3946, 'finally': 1724, '1996': 26, 'found': 1811, 'could': 1007, 'special': 4097, 'order': 3126, 'probably': 3407, 'watched': 4813, 'least': 2554, '50': 51, 'times': 4497, 'since': 3990, 'makes': 2716, 'cry': 1073, 'every': 1539, 'martin': 2748, 'man': 2721, 'who': 4871, 'prison': 3401, 'genuinely': 1892, 'make': 2713, 'back': 378, 'lake': 2509, 'where': 4864, 'grew': 1972, 'boy': 557, 'place': 3282, 'lived': 2626, 'nature': 2975, 'spent': 4108, 'dog': 1310, 'alone': 194, 'enjoy': 1484, 'soon': 4074, 'into': 2332, 'escapes': 1519, 'starts': 4159, 'making': 2718, 'long': 2644, 'cops': 993, 'him': 2110, 'child': 789, 'convince': 983, 'police': 3322, '2nd': 41, 'become': 433, 'best': 469, 'friends': 1837, 'fun': 1848, 'adventures': 131, 'together': 4511, 'toy': 4542, 'truck': 4595, 'train': 4556, 'all': 187, 'great': 1964, 'flashbacks': 1747, 'wont': 4932, 'ruin': 3750, 'ending': 1471, 'tell': 4395, 'must': 2950, 'seen': 3865, 'am': 204, 'without': 4913, 'doubt': 1332, 'biggest': 480, 'fan': 1648, 'managed': 2723, 'song': 4071, 'two': 4620, 'singing': 3995, 'im': 2232, 'going': 1931, 'even': 1533, 'planning': 3291, 'trip': 4588, 'canada': 666, 'filmed': 1717, 'crazy': 1035, 'means': 2783, 'so': 4046, 'god': 1926, 'bought': 552, 'okay': 3099, 'its': 2370, 'alright': 198, 'ill': 2228, 'month': 2896, 'hope': 2155, 'rid': 3690, 'flash': 1745, 'eat': 1411, 'something': 4066, 'cant': 671, 'seem': 3861, 'courage': 1018, 'try': 4600, 'hold': 2129, 'any': 256, 'food': 1778, 'moment': 2886, 'yes': 4982, 'very': 4723, 'wait': 4770, 'doesnt': 1309, 'message': 2819, 'across': 96, 'quite': 3495, 'right': 3696, 'word': 4937, 'describe': 1194, 'awful': 372, 'horribly': 2164, 'acted': 98, 'directed': 1259, 'written': 4972, 'now': 3054, 'throw': 4479, 'possibly': 3351, 'burn': 625, 'wouldnt': 4958, 'want': 4788, 'end': 1468, 'bottom': 551, 'dig': 1250, 'thousand': 4465, 'worst': 4952, 'hey': 2095, 'happy': 2032, 'audiences': 353, 'watching': 4815, 'full': 1846, 'beautiful': 428, 'length': 2569, 'say': 3799, 'sure': 4308, 'might': 2835, 'strip': 4228, 'rate': 3526, 'looks': 2649, 'over': 3148, '70': 55, 'later': 2525, 'dvd': 1391, 'fact': 1621, 'amazing': 209, 'kudos': 2497, 'go': 1924, 'richard': 3686, 'photography': 3260, 'miller': 2846, 'international': 2326, 'pictures': 3270, 'mgm': 2828, 'entertainment': 1500, 'them': 4432, 'combined': 885, 'give': 1912, 'us': 4690, 'looking': 2648, 'era': 1513, 'age': 148, 'story': 4207, 'excellent': 1555, 'half': 2007, 'second': 3846, 'gave': 1875, 'nice': 3008, 'though': 4461, 'things': 4451, 'never': 3001, 'looked': 2647, 'believe': 454, 'certainly': 738, 'played': 3297, 'such': 4268, 'soft': 4051, 'hearted': 2065, 'heart': 2064, 'charles': 764, 'male': 2719, 'star': 4150, 'object': 3066, 'minor': 2857, 'most': 2909, 'interesting': 2325, 'joseph': 2419, 'john': 2409, 'carradine': 695, 'memorable': 2802, 'dancer': 1104, 'wow': 4962, 'face': 1616, 'dance': 1103, 'forget': 1793, 'ive': 2372, 'thousands': 4466, 'viewed': 4737, 'seeing': 3857, 'her': 2085, 'thing': 4450, 'worth': 4953, 'price': 3389, 'imdb': 2240, 'she': 3923, 'four': 1812, 'well': 4843, 'known': 2492, 'actor': 103, 'famous': 1647, 'playing': 3300, 'holmes': 2139, 'also': 199, 'here': 2086, 'smith': 4038, 'british': 589, 'recognized': 3570, 'buffs': 612, 'arrogant': 303, 'big': 478, 'hit': 2122, 'shop': 3945, 'corner': 996, 'jimmy': 2403, 'stewart': 4184, 'margaret': 2735, 'sullivan': 4288, 'direction': 1261, 'color': 877, 'rolled': 3729, 'last': 2521, 'hour': 2176, 'although': 201, 'admire': 121, 'rated': 3527, 'higher': 2101, 'definitely': 1162, 'their': 4431, 'collection': 874, 'fred': 1825, 'astaire': 330, 'rogers': 3725, 'music': 2946, 'berlin': 467, 'solid': 4057, 'support': 4303, 'scott': 3824, 'nelson': 2997, 'ball': 388, 'betty': 474, 'frank': 1821, 'terrific': 4409, 'songs': 4072, 'include': 2261, 'yourself': 4993, 'lets': 2580, 'putting': 3482, 'introduced': 2337, 'piano': 3264, 'sings': 3997, 'among': 217, 'singers': 3994, 'plays': 3301, 'sister': 4001, 'behind': 447, 'sticks': 4186, 'days': 1130, 'fast': 1661, 'paced': 3162, 'entry': 1504, 'series': 3890, 'ones': 3108, 'finale': 1723, 'numbers': 3061, 'wears': 4832, 'history': 2121, 'number': 3060, 'legs': 2566, 'dances': 1106, 'gorgeous': 1942, 'steve': 4181, 'peters': 3248, 're': 3535, 'created': 1037, 'heaven': 2068, 'seems': 3864, 'odd': 3080, 'choice': 797, 'pal': 3177, 'appeared': 276, 'luckily': 2682, 'sing': 3992, 'bigger': 479, 'parts': 3199, 'few': 1700, 'scenes': 3811, 'role': 3726, 'ok': 3098, 'solo': 4058, 'got': 1944, 'tired': 4501, 'we': 4823, 'joined': 2413, 'navy': 2976, 'third': 4455, 'woman': 4921, 'stops': 4203, 'line': 2610, 'delivered': 1170, 'bit': 488, 'natural': 2973, 'emotion': 1458, 'pitch': 3279, 'voice': 4761, 'sounds': 4084, 'too': 4522, 'enough': 1491, 'cary': 706, 'grant': 1956, 'carried': 698, 'entirely': 1503, 'own': 3158, 'awfully': 373, 'boring': 543, 'rented': 3628, 'expected': 1577, 'romantic': 3733, 'drama': 1346, 'performance': 3228, 'actress': 105, 'romance': 3732, 'between': 475, 'unconvincing': 4638, 'absolutely': 72, 'hated': 2047, 'charming': 768, 'anyway': 261, 'dr': 1340, 'beyond': 476, 'maybe': 2776, 'sean': 3840, 'robert': 3713, 'ford': 1789, 'job': 2405, 'european': 1530, 'bored': 541, 'check': 777, 'bound': 553, 'far': 1653, 'younger': 4990, 'older': 3101, 'underrated': 4642, 'deserves': 1201, 'chance': 747, 'than': 4420, 'wish': 4904, 'future': 1856, 'explanation': 1590, 'excitement': 1562, 'knowing': 2490, 'coming': 896, 'next': 3007, 'case': 707, 'point': 3316, 'candy': 668, 'uncle': 4636, 'buck': 605, 'resolution': 3649, 'imaginative': 2237, 'storytelling': 4209, 'wars': 4804, 'episodes': 1508, 'george': 1893, 'lucas': 2680, 'again': 146, 'wizard': 4919, 'oz': 3160, 'sound': 4081, 'six': 4010, 'theatre': 4429, 'buy': 640, 'vhs': 4725, 'tape': 4365, 'said': 3774, 'present': 3374, 'lou': 2663, 'grinch': 1975, 'taylor': 4372, 'jim': 2402, 'carrey': 696, 'rest': 3657, 'cast': 710, 'particularly': 3195, 'bill': 481, 'molly': 2884, 'ryan': 3765, 'single': 3996, 'funny': 1852, 'favorite': 1671, 'compelling': 916, 'why': 4878, 'cartoon': 704, 'strong': 4229, 'conflicts': 940, 'theme': 4433, 'started': 4157, 'spoil': 4121, 'james': 2378, 'loved': 2670, 'didnt': 1242, 'your': 4991, 'once': 3106, 'christmas': 810, 'high': 2100, 'range': 3516, 'year': 4978, 'meant': 2784, 'possible': 3350, 'beat': 423, 'von': 4765, 'actors': 104, 'surprisingly': 4316, 'sensitive': 3879, 'showed': 3956, 'secrets': 3852, 'becomes': 434, 'dialogue': 1234, 'stronger': 4230, 'alert': 178, 'examples': 1554, 'expression': 1602, 'sees': 3866, 'quote': 3496, 'youre': 4992, 'filled': 1715, 'da': 1094, 'thanks': 4423, 'saving': 3797, 'subsequent': 4257, 'response': 3654, 'part': 3193, 'holiday': 2134, 'each': 1395, 'completely': 922, 'holds': 2131, 'spot': 4131, 'everything': 1544, 'feet': 1688, 'rent': 3626, 'normal': 3033, 'superhero': 4299, 'comedy': 890, 'action': 100, 'effects': 1431, 'person': 3238, 'voices': 4763, 'william': 4887, 'macy': 2695, 'bomb': 531, 'need': 2987, 'baby': 376, 'generation': 1883, 'technically': 4382, '60s': 54, 'reading': 3544, 'burning': 627, 'cards': 683, 'generally': 1881, 'war': 4792, 'destroyed': 1214, 'lives': 2628, 'grade': 1951, 'school': 3813, 'moronic': 2907, 'self': 3869, 'importance': 2246, 'kids': 2467, 'modern': 2882, 'noir': 3023, 'humour': 2194, 'twists': 4619, 'delivers': 1172, 'surprises': 4314, 'dangerous': 1110, 'start': 4156, 'finish': 1732, 'impossible': 2249, 'honest': 2146, 'hero': 2088, 'ways': 4822, 'tries': 4585, 'terrible': 4407, 'finds': 1728, 'himself': 2111, 'seat': 3845, 'ride': 3692, 'ordinary': 3128, 'poor': 3328, 'decision': 1151, 'sequence': 3887, 'events': 1536, 'unable': 4631, 'pure': 3471, 'same': 3778, 'true': 4596, 'themes': 4434, 'murder': 2939, 'corruption': 1002, 'visual': 4757, 'smoke': 4039, 'lit': 2621, 'rain': 3506, 'night': 3013, 'heavily': 2069, 'lines': 2612, 'shadow': 3912, 'doors': 1329, 'peoples': 3222, 'faces': 1618, 'michael': 2829, 'williams': 4888, 'cage': 645, 'veteran': 4724, 'bar': 396, 'red': 3576, 'rock': 3720, 'mistaken': 2872, 'wayne': 4821, 'brown': 601, 'hes': 2093, 'wife': 4884, 'flynn': 1765, 'naturally': 2974, 'nothing': 3047, 'especially': 1520, 'realise': 3548, 'hed': 2072, 'having': 2054, 'told': 4513, 'mission': 2870, 'given': 1913, 'advance': 127, 'goes': 1930, 'plan': 3287, 'overly': 3155, 'concerned': 932, 'danger': 1109, 'shes': 3930, 'offers': 3090, 'double': 1331, 'offered': 3088, 'husband': 2204, 'decides': 1150, 'take': 4349, 'received': 3564, 'both': 547, 'parties': 3196, 'leave': 2555, 'town': 4541, 'fails': 1628, 'however': 2183, 'accidentally': 85, 'drives': 1367, 'standing': 4146, 'middle': 2833, 'road': 3709, 'hospital': 2172, 'receive': 3563, 'treatment': 4574, 'complicated': 925, 'patient': 3211, 'lover': 2672, 'bullets': 621, 'stomach': 4196, 'leads': 2548, 'local': 2634, 'law': 2538, 'officers': 3093, 'getting': 1901, 'involved': 2346, 'revelation': 3674, 'sheriff': 3929, 'dennis': 1179, 'hopper': 2161, 'arrives': 302, 'west': 4852, 'moments': 2887, 'escape': 1517, 'performances': 3229, 'expressions': 1603, 'extremely': 1610, 'convincing': 985, 'variety': 4714, 'situations': 4009, 'surprise': 4312, 'whos': 4876, 'actually': 109, 'saying': 3800, 'threatening': 4468, 'vicious': 4728, 'contract': 973, 'killer': 2470, 'cold': 872, 'provides': 3450, 'cameo': 657, 'nonsense': 3030, 'driver': 1366, 'incredibly': 2270, 'originally': 3131, 'general': 1880, 'cinema': 816, 'release': 3602, 'eventually': 1537, 'crime': 1055, 'flick': 1754, 'drugs': 1374, 'cliché': 844, 'ridden': 3691, 'absurd': 73, 'plain': 3286, 'stupid': 4247, 'took': 4523, 'less': 2575, 'put': 3480, 'straight': 4210, 'starring': 4154, 'peter': 3247, 'youd': 4987, 'renting': 3629, 'instead': 2307, 'dream': 1354, 'sweet': 4336, 'land': 2511, 'live': 2625, 'love': 2669, 'slow': 4031, 'die': 1243, 'image': 2233, 'based': 404, 'novel': 3052, 'elizabeth': 1445, 'april': 284, 'described': 1195, 'sentence': 3881, 'takes': 4351, 'early': 1400, 'london': 2641, 'women': 4923, 'strangers': 4214, 'decide': 1148, 'castle': 712, 'italy': 2368, 'correct': 1000, 'description': 1197, 'ultimate': 4627, 'feel': 1684, 'perfection': 3225, 'genre': 1888, 'lovely': 2671, 'tender': 4401, 'magical': 2704, 'ray': 3533, 'sun': 4292, 'during': 1387, 'close': 853, 'smile': 4036, 'stop': 4201, 'happiness': 2031, 'forever': 1792, 'affected': 137, 'difficult': 1249, 'lost': 2660, 'unhappy': 4656, 'lonely': 2643, 'deal': 1135, 'sad': 3767, 'tragic': 4552, 'terms': 4406, 'truth': 4599, 'myself': 2953, 'helped': 2080, 'changed': 750, 'promised': 3431, 'pull': 3461, 'misery': 2865, 'pity': 3281, 'appreciate': 279, 'minute': 2858, 'diamond': 1236, 'highest': 2102, 'quality': 3484, 'travel': 4567, 'concept': 930, 'gives': 1914, 'different': 1248, 'kick': 2460, 'captain': 674, 'earth': 1403, 'choose': 799, 'relative': 3599, 'main': 2707, 'set': 3898, 'pieces': 3273, 'directors': 1266, 'bush': 632, 'blair': 497, 'company': 910, 'may': 2775, 'opening': 3114, 'teacher': 4375, 'trying': 4601, 'impress': 2250, 'students': 4239, 'important': 2247, 'result': 3660, 'impressed': 2251, 'death': 1141, 'affect': 136, 'closely': 855, 'york': 4985, 'usa': 4691, 'almost': 193, 'documentary': 1307, 'equal': 1509, 'men': 2805, 'world': 4946, 'whereas': 4865, 'obviously': 3072, 'attack': 337, 'event': 1535, 'impression': 2252, 'tend': 4400, 'blow': 514, 'wonderfully': 4929, 'reaction': 3541, 'level': 2584, 'occurred': 3077, 'de': 1131, 'rather': 3528, 'think': 4452, 'news': 3005, 'suffer': 4275, 'happen': 2026, 'ten': 4399, 'outer': 3143, 'greater': 1965, 'disaster': 1276, 'helps': 2082, 'perspective': 3245, 'perhaps': 3235, 'complete': 921, 'freedom': 1828, 'judge': 2424, 'whole': 4873, 'merits': 2817, 'segment': 3867, 'anti': 254, 'american': 213, 'simple': 3983, 'messages': 2820, 'segments': 3868, 'pro': 3406, 'either': 1438, 'attitudes': 347, 'common': 906, 'link': 2613, 'view': 4736, 'points': 3319, 'begin': 442, 'planet': 3289, 'living': 2629, 'clearly': 840, 'stated': 4161, 'belief': 451, 'mine': 2853, 'america': 212, 'lesson': 2577, 'share': 3920, 'humanity': 2189, 'ruthless': 3764, 'force': 1786, 'learning': 2552, 'cannot': 670, 'continue': 969, 'everybody': 1540, 'everywhere': 1545, 'political': 3324, 'doing': 1312, 'anyone': 259, 'elsewhere': 1449, 'white': 4870, 'house': 2178, 'totally': 4532, 'uk': 4626, 'caused': 724, 'chaos': 755, 'clear': 839, 'mess': 2818, 'un': 4630, 'nations': 2971, 'helping': 2081, 'hand': 2015, 'easy': 1410, 'met': 2822, 'cover': 1022, 'ie': 2221, 'simply': 3986, 'heads': 2059, 'ground': 1979, 'greed': 1968, 'rich': 3685, 'countries': 1013, 'understanding': 4645, 'separate': 3883, 'portrays': 3344, 'dumb': 1385, 'work': 4940, 'striking': 4226, 'accurate': 90, 'depiction': 1185, 'teenage': 4389, 'execution': 1566, 'broad': 590, 'parents': 3188, 'issues': 2365, 'painful': 3171, 'foster': 1809, 'talks': 4361, 'feeling': 1685, 'pain': 3170, 'transition': 4561, 'funeral': 1849, 'wedding': 4836, 'pack': 3165, 'troubled': 4593, 'pass': 3201, 'moving': 2928, 'serves': 3895, 'often': 3095, 'tends': 4402, 'shouldnt': 3952, 'raised': 3508, '1970s': 17, '80s': 59, 'disneys': 1290, 'away': 369, 'previous': 3387, 'sequel': 3885, 'lion': 2614, 'king': 2479, 'glad': 1916, 'disney': 1289, 'brought': 600, 'original': 3129, 'difference': 1246, 'kept': 2456, 'traditional': 4550, 'while': 4868, 'string': 4227, 'jokes': 2415, 'hilarious': 2106, 'dull': 1384, 'break': 569, 'silly': 3976, 'musical': 2947, 'sequences': 3888, 'quick': 3490, 'mst3k': 2932, 'bland': 500, 'potential': 3355, 'act': 97, 'vehicle': 4718, 'flashback': 1746, 'likable': 2598, 'fault': 1668, 'overall': 3150, 'serious': 3891, 'titles': 4506, 'id': 2212, 'stand': 4143, 'anymore': 258, 'already': 197, 'comment': 898, 'fall': 1637, 'extras': 1608, 'suck': 4269, 'bag': 384, 'appear': 273, 'weapons': 4829, 'water': 4816, 'bother': 548, 'expectations': 1576, 'disappointed': 1273, 'standard': 4144, 'flicks': 1755, 'top': 4525, 'unbelievable': 4634, 'stunts': 4246, 'intended': 2315, 'retarded': 3663, 'pile': 3275, 'mountain': 2917, 'hopes': 2159, 'trailer': 4554, 'forced': 1787, 'credible': 1048, 'situation': 4008, 'setting': 3900, 'believable': 453, 'reality': 3551, 'imagine': 2238, 'limited': 2606, 'knowledge': 2491, 'laughably': 2531, 'ridiculous': 3693, 'theater': 4427, 'comic': 893, 'book': 535, 'comparison': 914, 'encounter': 1466, 'ourselves': 3140, 'turns': 4609, 'guide': 1993, 'rambo': 3511, 'pretty': 3384, 'state': 4160, 'art': 304, 'cagney': 646, 'lead': 2545, 'producer': 3415, 'under': 4639, 'girl': 1909, 'friday': 1834, 'joan': 2404, 'towards': 4540, 'knock': 2488, 'type': 4621, 'strange': 4211, 'youve': 4995, 'billy': 482, 'running': 3756, 'pretending': 3382, 'lovable': 2668, 'kinds': 2478, 'stuff': 4243, 'ruby': 3749, 'required': 3641, 'unfortunate': 4653, 'dick': 1239, 'powell': 3358, 'tough': 4537, 'apparently': 270, 'energy': 1478, 'speed': 4103, 'forth': 1804, 'endearing': 1469, 'annoying': 249, 'gets': 1900, 'expect': 1575, 'walk': 4775, 'idea': 2213, 'repetitive': 3633, 'ruth': 3763, 'established': 1524, 'gangster': 1868, 'comes': 891, 'frequent': 1831, 'street': 4216, 'arent': 288, 'criminal': 1057, 'uses': 4697, 'human': 2188, 'body': 527, 'none': 3028, 'hotel': 2175, 'falls': 1640, 'apart': 264, 'immediately': 2242, 'appreciated': 280, 'fine': 1729, 'print': 3399, 'newspaper': 3006, 'exist': 1569, 'suppose': 4305, 'somewhat': 4068, 'critical': 1062, 'polished': 3323, 'production': 3419, 'superb': 4296, 'dancing': 1107, 'skills': 4014, 'stage': 4139, 'chemistry': 782, 'mediocre': 2791, 'mostly': 2910, 'suitable': 4285, 'value': 4709, 'picked': 3266, 'nostalgic': 3039, 'along': 195, 'cut': 1089, 'above': 68, '30s': 44, '11': 2, 'drive': 1363, 'family': 1645, 'understand': 4643, '90': 60, 'marvelous': 2750, 'delight': 1167, 'morning': 2906, 'turner': 4607, 'south': 4087, 'laughter': 2535, 'game': 1864, 'unique': 4662, 'gone': 1935, 'experienced': 1581, 'period': 3236, 'produced': 3414, 'sorry': 4076, 'today': 4508, 'deliver': 1169, 'delightful': 1168, 'current': 1084, 'group': 1980, 'speak': 4094, 'language': 2516, 'words': 4938, 'please': 3304, 'offering': 3089, 'comments': 901, 'frankly': 1823, 'sense': 3877, 'packed': 3166, 'endless': 1473, 'worse': 4951, 'added': 116, 'pink': 3277, 'victim': 4729, 'version': 4720, 'thinking': 4453, 'host': 2173, 'box': 555, 'jail': 2376, 'breaks': 571, 'dollar': 1314, 'store': 4204, 'ratings': 3530, 'beautifully': 429, 'brilliantly': 584, 'piece': 3272, 'ed': 1415, 'harris': 2038, 'mention': 2810, 'brando': 566, 'breath': 573, 'taxi': 4371, 'mundane': 2938, 'meaningless': 2782, 'nudity': 3059, 'emotional': 1459, 'orders': 3127, 'army': 295, 'clothes': 860, 'wonderful': 4928, 'fashion': 1659, 'frustrated': 1842, 'military': 2844, 'subject': 4253, 'greatest': 1966, 'psychotic': 3459, 'average': 362, 'wwii': 4975, 'suffered': 4276, 'severe': 3906, 'realism': 3549, 'being': 448, 'propaganda': 3435, 'raise': 3507, 'spirits': 4115, 'watchable': 4812, 'lack': 2502, 'truly': 4597, 'perfect': 3224, 'air': 164, '17': 9, 'nearly': 2981, 'japanese': 2382, 'pride': 3391, 'welcome': 4842, 'marks': 2742, 'portraying': 3343, 'reasonably': 3559, 'manner': 2729, 'seemed': 3862, 'further': 1853, 'honor': 2150, 'incredible': 2269, 'absolute': 71, 'trash': 4565, '13th': 5, 'practically': 3362, 'copy': 994, 'accept': 80, 'australian': 357, 'upon': 4684, 'filming': 1718, 'grown': 1984, 'taking': 4352, 'revenge': 3675, 'anybody': 257, 'cliche': 843, 'waste': 4808, 'curiosity': 1082, 'learn': 2550, 'able': 66, 'alan': 171, 'used': 4693, 'television': 4394, 'soap': 4047, 'opera': 3116, 'ended': 1470, 'thief': 4448, 'stole': 4194, 'oscars': 3134, 'wanted': 4789, 'fighting': 1709, 'politics': 3326, 'summer': 4291, 'sky': 4017, 'hurt': 2202, 'outstanding': 3147, '50s': 52, 'party': 3200, 'black': 493, 'consider': 949, 'title': 4504, 'reasonable': 3558, 'cool': 989, 'surely': 4309, 'fourth': 1813, 'five': 1743, 'westerns': 4854, 'anthony': 253, 'mann': 2728, 'involves': 2348, 'hard': 2033, 'named': 2961, 'jeff': 2390, 'via': 4726, 'ben': 463, 'walter': 4784, 'morris': 2908, 'jay': 2386, 'sent': 3880, 'ahead': 159, 'boat': 523, 'north': 3036, 'trail': 4553, 'hands': 2020, 'cheating': 776, 'manipulative': 2727, 'roman': 3731, 'believes': 456, 'valuable': 4708, 'thats': 4425, 'earlier': 1399, 'killing': 2472, 'sleazy': 4023, 'runs': 3757, 'public': 3460, 'hanging': 2023, 'agrees': 157, 'dawson': 1128, 'steal': 4170, 'course': 1019, 'canadian': 667, 'border': 539, 'reach': 3536, 'happens': 2029, 'sets': 3899, 'claim': 828, 'gold': 1932, 'tells': 4397, 'wants': 4791, 'luck': 2681, 'bring': 585, 'hired': 2117, 'stealing': 4171, 'claims': 830, 'leaving': 2557, 'against': 147, 'gang': 1867, 'themselves': 4435, 'mistake': 2871, 'mouth': 2920, 'killed': 2469, 'wounded': 4961, 'save': 3794, 'due': 1382, 'care': 684, 'kills': 2474, 'jack': 2373, 'warn': 4797, 'shoots': 3944, 'dies': 1245, 'arms': 294, 'hiding': 2099, 'wooden': 4934, 'spoken': 4126, 'western': 4853, 'naked': 2959, 'universal': 4665, 'pan': 3180, 'youll': 4988, 'wind': 4893, 'missing': 2869, 'glorious': 1921, 'cinematography': 820, 'list': 2617, 'innovative': 2295, 'vision': 4754, 'extraordinary': 1607, 'ghost': 1902, 'june': 2433, 'journey': 2421, 'moral': 2902, 'tale': 4353, 'timeless': 4496, 'struggle': 4234, 'achieve': 92, 'gripping': 1976, 'various': 4715, 'ages': 152, 'remains': 3611, 'decades': 1145, 'cgi': 740, 'yet': 4984, 'scale': 3802, 'essential': 1522, 'aspect': 321, 'captured': 677, 'simplicity': 3984, 'rose': 3739, 'itself': 2371, 'fantastic': 1651, 'brosnan': 597, 'slick': 4026, 'suits': 4287, 'pays': 3218, 'showing': 3958, 'play': 3296, 'buddy': 609, 'dark': 1115, 'davis': 1126, 'mix': 2876, 'touching': 4536, 'element': 1442, 'friendship': 1838, 'comedies': 889, 'post': 3352, 'bond': 532, 'career': 686, 'ya': 4976, 'personally': 3243, 'laugh': 2529, 'material': 2766, 'carrie': 697, 'honestly': 2147, 'guarantee': 1987, 'super': 4295, 'system': 4345, 'camera': 659, 'puts': 3481, 'race': 3499, 'car': 680, 'cruise': 1071, 'tracks': 4545, 'reminiscent': 3621, 'driving': 1368, 'grand': 1953, 'soundtrack': 4085, 'requires': 3642, 'disbelief': 1277, 'hear': 2061, 'feels': 1687, 'empty': 1465, 'screen': 3829, 'shot': 3949, 'front': 1841, 'blue': 518, 'horrible': 2163, 'obvious': 3071, 'wondering': 4930, 'floor': 1759, 'spoilers': 4124, 'head': 2057, 'base': 402, '100': 1, 'sitting': 4007, 'advanced': 128, 'warning': 4800, 'blown': 516, 'entire': 1502, 'hundreds': 2196, 'spite': 4117, 'rating': 3529, 'engaging': 1481, 'chaplin': 756, 'attention': 345, 'class': 833, 'represented': 3638, 'sometimes': 4067, 'portrayal': 3341, 'shy': 3962, 'porn': 3336, 'hidden': 2096, 'bedroom': 437, 'creates': 1038, 'plenty': 3307, 'laughs': 2534, 'taste': 4369, 'dramatic': 1348, 'name': 2960, 'hours': 2177, 'germany': 1898, 'france': 1816, 'germans': 1897, 'aid': 160, 'french': 1830, 'unusual': 4681, 'horse': 2170, 'worked': 4941, 'retired': 3664, 'buff': 611, 'brilliant': 583, 'team': 4378, 'writing': 4971, 'somewhere': 4069, 'reminds': 3620, 'tedious': 4387, 'promising': 3433, 'predictable': 3367, 'within': 4912, 'season': 3843, 'david': 1124, 'kelly': 2452, 'legal': 2563, 'cases': 708, 'sympathy': 4343, 'sadness': 3770, 'medical': 2790, 'dramas': 1347, 'afraid': 140, 'dead': 1132, 'amy': 222, 'unbelievably': 4635, 'incompetent': 2266, 'whoever': 4872, 'writes': 4970, 'counter': 1011, 'somebody': 4062, 'code': 869, 'read': 3543, 'episode': 1507, 'nose': 3037, 'involvement': 2347, 'moved': 2922, 'weve': 4856, 'city': 825, 'likes': 2602, 'inappropriate': 2259, '40': 48, 'otherwise': 3137, 'talented': 4355, 'herself': 2092, 'successful': 4266, 'struggling': 4236, 'move': 2921, 'la': 2500, 'script': 3834, 'therefore': 4439, 'react': 3540, 'follows': 1775, 'jewish': 2401, 'nowhere': 3056, 'warm': 4794, 'stereotypes': 4179, 'amount': 219, 'bringing': 586, 'catholic': 720, 'pathetic': 3210, 'ridiculously': 3694, 'window': 4894, 'apartment': 265, 'felt': 1692, 'hitchcock': 2123, 'talk': 4358, 'masters': 2761, 'lesser': 2576, 'effort': 1432, 'obscure': 3068, 'seriously': 3892, 'flawed': 1750, 'form': 1798, 'emily': 1456, 'hill': 2108, 'barry': 401, 'harry': 2039, 'couple': 1016, 'stay': 4166, 'change': 749, 'letter': 2581, 'plans': 3292, 'problems': 3409, 'roger': 3724, 'domestic': 1318, 'hills': 2109, 'flat': 1748, 'personality': 3242, 'cross': 1066, 'cutting': 1092, 'footage': 1782, 'female': 1693, 'performers': 3232, 'dressed': 1358, 'ocean': 3079, 'partner': 3198, 'gordon': 1940, 'carries': 699, 'suggests': 4282, 'princess': 3397, 'wallace': 4782, 'obnoxious': 3067, 'fellow': 1691, 'whom': 4875, 'introduces': 2338, 'subtlety': 4261, 'confusing': 942, 'tears': 4380, 'pair': 3176, 'symbolism': 4341, 'vaguely': 4706, 'sympathetic': 4342, 'cares': 690, 'affair': 135, 'open': 3112, 'chinese': 796, 'junk': 2436, 'near': 2979, 'conclusion': 936, 'matters': 2770, 'protagonists': 3442, 'presumably': 3380, 'relationship': 3597, 'fate': 1665, 'friendly': 1836, 'cat': 713, 'enjoyable': 1485, 'views': 4742, '1930s': 11, 'working': 4944, 'paying': 3217, 'trade': 4547, 'cinderella': 815, 'adaptation': 113, 'dimensional': 1253, 'creating': 1039, 'depth': 1190, 'opinion': 3118, 'dry': 1377, 'inspiration': 2300, 'onto': 3111, 'giving': 1915, 'endure': 1475, 'serve': 3893, 'everyone': 1542, 'gonna': 1936, 'foreign': 1790, 'gay': 1876, 'indie': 2276, 'amateur': 206, 'trite': 4589, 'surprising': 4315, 'meaningful': 2781, 'adult': 125, 'complex': 923, 'follow': 1772, 'intense': 2316, 'professional': 3421, 'boys': 559, 'meeting': 2794, 'relationships': 3598, 'details': 1219, 'falling': 1639, 'performed': 3230, 'wanting': 4790, 'avoid': 363, 'doc': 1303, 'savage': 3793, 'batman': 413, 'intention': 2319, 'anime': 243, 'deeply': 1156, 'choreographed': 801, 'battles': 415, 'fantasy': 1652, 'martial': 2747, 'arts': 310, 'agree': 155, 'beauty': 430, 'certain': 737, 'changes': 751, 'expecting': 1578, 'profound': 3423, 'designed': 1203, 'placed': 3283, 'instance': 2304, 'innocent': 2294, 'utterly': 4702, 'leader': 2546, 'liked': 2600, 'japan': 2381, 'century': 736, 'mood': 2898, 'badly': 383, 'favourite': 1673, 'childish': 791, 'worthless': 4954, 'exceptionally': 1559, 'weak': 4824, 'leading': 2547, 'confused': 941, 'enjoyed': 1486, 'hopeless': 2158, 'elements': 1443, 'largely': 2518, 'exaggerated': 1552, 'splendid': 4119, 'storyline': 4208, 'historical': 2119, 'climax': 849, 'alas': 172, 'advise': 134, 'realize': 3552, 'theyve': 4446, 'hello': 2078, 'page': 3167, 'viewer': 4738, 'join': 2412, 'laughing': 2533, 'actresses': 106, 'project': 3427, 'problem': 3408, 'appeal': 271, '20': 29, '30': 42, '90s': 61, 'rebel': 3561, 'listen': 2619, 'feature': 1678, 'bands': 392, 'enemy': 1477, 'etc': 1527, 'cheesy': 781, 'decade': 1144, 'someone': 4064, 'weight': 4840, '80': 58, 'minutes': 2859, 'trouble': 4592, 'waiting': 4772, 'manages': 2725, 'complain': 919, 'leslie': 2574, 'howard': 2182, 'wet': 4855, 'suited': 4286, 'philip': 3252, 'shake': 3914, 'slap': 4018, 'repeatedly': 3632, 'ah': 158, 'bette': 471, 'obsessed': 3069, 'brings': 587, 'mildred': 2841, 'stays': 4169, 'detail': 1217, 'fascinating': 1658, 'nasty': 2968, 'dynamic': 1394, 'changing': 752, 'scary': 3807, 'allows': 192, 'ugly': 4625, 'appearance': 274, 'walks': 4780, 'late': 2523, 'disease': 1285, 'taken': 4350, 'hide': 2097, 'shocking': 3940, 'went': 4847, 'effect': 1428, 'bet': 470, 'room': 3735, 'drawn': 1351, 'strikes': 4225, 'wise': 4903, 'makers': 2715, 'chose': 804, '1973': 19, 'sci': 3815, 'fi': 1701, 'green': 1971, 'careful': 688, 'population': 3335, 'million': 2847, 'mark': 2739, 'heat': 2067, 'waves': 4819, 'rule': 3753, 'product': 3418, 'called': 652, 'particular': 3194, 'question': 3487, 'admittedly': 123, 'dated': 1119, 'intriguing': 2335, 'heston': 2094, 'stars': 4155, 'detective': 1220, 'corporate': 998, 'executive': 1567, 'board': 522, 'responsible': 3656, 'wasnt': 4807, 'garden': 1872, 'help': 2079, 'edward': 1426, 'robinson': 3716, 'final': 1722, 'cinematic': 818, 'imagination': 2236, 'knows': 2493, 'indeed': 2271, 'secret': 3849, 'fairly': 1631, 'grim': 1974, 'provoking': 3452, 'our': 3139, 'resources': 3651, 'mind': 2849, '1968': 16, 'struck': 4232, 'apes': 267, 'whenever': 4863, 'ultra': 4629, 'conservative': 948, 'philosophy': 3254, 'conversation': 980, 'hardly': 2036, 'supporting': 4304, 'chuck': 812, 'heavy': 2070, 'superior': 4300, 'ought': 3138, 'twice': 4613, 'becoming': 435, 'results': 3662, 'table': 4346, 'neither': 2996, 'nor': 3032, 'iraq': 2351, 'souls': 4080, 'plus': 3311, 'al': 170, 'following': 1774, 'pick': 3265, 'loose': 2650, 'available': 361, 'free': 1827, 'internet': 2327, 'until': 4680, 'country': 1014, 'prior': 3400, '2006': 36, 'satire': 3788, 'wonder': 4926, 'ignored': 2225, 'murderous': 2942, 'rendition': 3625, 'machine': 2693, 'quest': 3486, 'total': 4531, 'clever': 841, 'cusack': 1088, 'unfortunately': 4654, 'americans': 214, 'mass': 2753, 'clichés': 846, 'protagonist': 3441, 'drug': 1373, 'villain': 4744, 'heroine': 2091, 'notice': 3048, 'frame': 1815, 'creep': 1051, 'studio': 4240, 'using': 4698, 'dear': 1140, 'regular': 3592, 'turning': 4608, 'underground': 4640, 'led': 2558, 'experiment': 1583, 'decided': 1149, 'vague': 4705, 'negative': 2991, 'producers': 3416, 'theyd': 4443, 'market': 2740, 'likewise': 2603, 'cost': 1003, 'produce': 3413, 'eye': 1611, 'distribution': 1298, 'featured': 1679, 'cannibal': 669, 'shallow': 3917, 'grave': 1962, 'begins': 444, 'tribute': 4581, 'shower': 3957, 'psycho': 3457, 'toward': 4539, 'amateurish': 207, 'directing': 1260, 'bunch': 623, 'college': 875, 'girls': 1911, 'vacation': 4704, 'note': 3044, 'florida': 1761, 'sue': 4274, 'ellen': 1446, 'lisa': 2616, 'woods': 4935, 'business': 633, 'witnesses': 4916, 'tony': 4521, 'march': 2734, 'mistress': 2874, 'witness': 4914, 'run': 3755, 'practice': 3363, 'oscar': 3133, 'speech': 4102, 'dean': 1139, 'creepy': 1052, 'torn': 4528, 'tom': 4514, 'authentic': 358, 'southern': 4088, 'display': 1291, 'racism': 3502, 'realistic': 3550, 'large': 2517, 'snake': 4042, 'rape': 3521, 'carol': 693, 'turned': 4606, 'radio': 3504, 'noise': 3024, 'needs': 2990, 'bible': 477, 'saved': 3795, 'blood': 512, 'jesus': 2399, 'christ': 807, 'testament': 4417, 'born': 544, 'meet': 2793, 'feed': 1683, 'em': 1452, 'monkeys': 2891, 'sit': 4003, 'somehow': 4063, 'topless': 4527, 'hot': 2174, 'church': 813, 'wearing': 4831, 'previously': 3388, 'statement': 4162, 'dreadful': 1353, 'manhattan': 2726, 'miles': 2843, 'answer': 251, 'inspired': 2301, 'appearing': 277, 'beginning': 443, 'cameos': 658, 'rats': 3531, 'steven': 4182, 'seagal': 3839, 'usually': 4700, 'measure': 2786, 'direct': 1258, 'fake': 1635, 'pretend': 3381, 'score': 3822, 'stretch': 4221, 'texas': 4418, 'scenery': 3810, 'prisoner': 3402, 'lame': 2510, 'space': 4090, 'despite': 1211, 'listed': 2618, 'credits': 1050, 'edited': 1420, 'computer': 927, 'slightest': 4028, 'narration': 2965, 'christian': 808, 'possibility': 3349, 'someones': 4065, 'opposed': 3122, 'discussion': 1284, 'hits': 2125, 'unbearable': 4633, 'budget': 610, 'opportunity': 3121, 'intelligent': 2314, 'commentary': 899, 'highly': 2105, 'questionable': 3488, 'roots': 3738, 'minded': 2850, 'religious': 3608, 'documentaries': 1306, 'fill': 1714, 'insult': 2309, 'intelligence': 2313, 'appears': 278, 'exercise': 1568, 'hong': 2149, 'kong': 2494, 'paid': 3169, '14': 6, 'enjoyment': 1488, 'eva': 1531, 'kidnapped': 2466, 'nick': 3012, 'chase': 769, 'charlotte': 766, 'dealt': 1138, 'marriage': 2743, 'light': 2595, 'dare': 1113, 'treat': 4572, 'physical': 3262, 'mental': 2808, 'technology': 4385, 'areas': 287, 'asks': 319, 'circumstances': 822, 'fell': 1690, 'experience': 1580, 'viewers': 4739, 'develop': 1222, 'extra': 1606, 'russian': 3762, 'revolution': 3680, 'alexander': 180, 'former': 1800, 'personal': 3240, 'tragedy': 4551, 'satisfy': 3790, 'broken': 594, 'win': 4892, 'battle': 414, 'powerful': 3360, 'providing': 3451, 'irony': 2357, 'deserved': 1200, 'valley': 4707, 'sinister': 3998, 'movements': 2924, 'brilliance': 582, 'several': 3905, 'sight': 3969, 'gags': 1862, 'sexuality': 3909, 'huge': 2185, 'meaning': 2780, 'non': 3027, 'existent': 1572, 'vivid': 4760, 'cheated': 775, 'van': 4713, 'fight': 1707, 'soldiers': 4054, 'pulled': 3462, 'hal': 2006, 'defend': 1158, 'explosions': 1597, 'shoot': 3942, 'chases': 771, 'infamous': 2284, 'idiots': 2220, 'pulp': 3465, 'fiction': 1702, 'others': 3136, 'admit': 122, 'majority': 2712, 'entertained': 1498, 'dozens': 1339, 'social': 4049, 'deals': 1137, 'fulci': 1845, 'combine': 884, 'improve': 2254, 'zombie': 4997, 'quit': 3494, 'ripped': 3701, 'surprised': 4313, 'paul': 3214, 'liberal': 2588, 'scottish': 3825, 'professor': 3422, 'passionate': 3206, 'bobby': 525, 'earl': 1398, 'sadistic': 3768, 'officer': 3092, 'murderer': 2941, 'serial': 3889, 'murders': 2943, 'visits': 4756, 'cell': 730, 'row': 3744, 'hoping': 2160, 'chair': 742, 'released': 3603, 'court': 1020, 'development': 1225, 'halfway': 2008, 'major': 2711, 'twist': 4617, 'proves': 3447, 'guilty': 1995, 'explained': 1587, 'whose': 4877, 'lawyer': 2541, 'accused': 91, 'cause': 723, 'dust': 1388, 'beats': 426, 'opportunities': 3120, 'central': 735, 'borrowed': 545, 'occur': 3076, 'daughter': 1121, 'versions': 4721, 'imitation': 2241, 'seven': 3903, 'turn': 4605, 'ashley': 313, 'crimes': 1056, 'resulting': 3661, 'normally': 3034, 'sum': 4289, 'gifted': 1907, 'weakest': 4825, 'niro': 3019, 'max': 2774, 'supposedly': 4307, 'issue': 2364, 'racist': 3503, 'handed': 2016, 'criminals': 1058, 'evil': 1548, 'useful': 4694, 'heroes': 2089, 'filmmakers': 1720, 'unaware': 4632, 'aware': 368, 'convoluted': 987, 'implausible': 2245, 'whilst': 4869, 'childhood': 790, 'smiling': 4037, 'remain': 3609, 'commented': 900, 'miracle': 2860, 'laid': 2508, 'door': 1328, 'genius': 1887, 'destruction': 1216, 'scientist': 3818, 'exactly': 1551, 'jobs': 2406, 'government': 1948, 'security': 3854, 'suit': 4284, 'figure': 1711, 'plant': 3293, 'theyre': 4445, 'dinner': 1254, 'discovers': 1281, 'repeated': 3631, 'says': 3801, 'china': 795, 'christopher': 811, 'lee': 2559, 'besides': 468, 'ii': 2226, 'lots': 2662, 'stock': 4193, '15': 7, 'images': 2235, 'animal': 239, 'disturbing': 1300, 'write': 4967, 'step': 4175, 'closer': 856, 'asleep': 320, 'sleeping': 4025, 'dialog': 1232, 'catch': 714, 'darker': 1116, 'kid': 2464, 'power': 3359, 'rangers': 3517, '1990': 24, 'giant': 1905, 'robots': 3718, 'enter': 1494, 'wins': 4899, 'mainly': 2708, 'colorful': 878, 'recall': 3562, 'fights': 1710, 'ends': 1474, 'showdown': 3955, 'revealed': 3671, 'stick': 4185, 'picture': 3269, 'toys': 4543, 'similar': 3978, 'english': 1483, 'childrens': 793, 'past': 3207, 'explain': 1586, 'guys': 2001, 'names': 2963, 'grandfather': 1954, 'birthday': 487, 'contained': 963, 'joke': 2414, 'drink': 1361, 'beer': 439, 'phone': 3255, 'flies': 1756, 'crap': 1031, '1950s': 14, 'nation': 2969, 'proud': 3444, 'crude': 1069, 'wasting': 4810, 'exciting': 1563, 'gratuitous': 1961, 'frightening': 1839, 'raw': 3532, 'violent': 4748, 'brutal': 603, 'virtually': 4751, 'shed': 3924, 'whatsoever': 4861, 'laughable': 2530, 'celluloid': 731, 'bothered': 549, 'sign': 3970, 'skin': 4015, 'usual': 4699, 'uninteresting': 4660, 'cardboard': 682, 'intensity': 2317, 'actual': 108, 'native': 2972, 'crush': 1072, 'boss': 546, 'girlfriend': 1910, 'bed': 436, 'watches': 4814, 'pseudo': 3454, 'treated': 4573, 'sloppy': 4030, 'round': 3742, 'needed': 2988, 'remaining': 3610, 'pit': 3278, 'tortured': 4530, 'stands': 4147, 'atrocious': 335, 'granted': 1957, 'streep': 4215, 'swear': 4334, 'card': 681, 'pacing': 3163, 'cruel': 1070, 'intentions': 2321, 'indians': 2275, 'club': 863, 'rotten': 3740, 'writer': 4968, 'wasted': 4809, 'bore': 540, 'misses': 2868, 'regardless': 3590, 'hundred': 2195, 'concerns': 934, 'millions': 2848, 'credibility': 1047, 'learns': 2553, 'seemingly': 3863, 'expert': 1585, 'identity': 2217, 'side': 3965, 'maggie': 2702, 'secretary': 3850, 'building': 615, 'sexual': 3908, 'bob': 524, 'keep': 2449, 'fly': 1763, 'brazil': 568, 'fish': 1738, 'drivel': 1364, 'unfunny': 4655, 'poorly': 3329, 'sucks': 4271, 'quickly': 3491, 'count': 1010, 'naive': 2958, 'erotic': 1515, 'core': 995, 'decent': 1147, 'costumes': 1006, 'dubbing': 1380, 'unintentionally': 4659, 'brief': 579, 'shots': 3950, 'features': 1680, 'chicks': 787, 'covered': 1023, 'noted': 3045, 'nonsensical': 3031, 'jerk': 2395, 'torture': 4529, 'disc': 1278, 'term': 4405, 'loosely': 2651, 'suggest': 4280, 'curious': 1083, 'liking': 2604, 'wreck': 4965, 'advice': 133, 'shelf': 3926, 'critics': 1064, 'woody': 4936, 'allen': 188, 'pretentious': 3383, 'bergman': 466, 'contrary': 974, 'originality': 3130, 'brian': 576, 'robin': 3715, 'cultural': 1078, 'irish': 2353, 'witch': 4909, 'directions': 1262, 'alcohol': 176, 'returns': 3668, 'drag': 1342, 'disappointing': 1274, 'sinatra': 3989, 'manager': 2724, 'floating': 1758, 'location': 2635, 'odds': 3082, 'sarah': 3785, 'jean': 2389, 'simmons': 3981, 'dolls': 1316, 'styles': 4250, 'starting': 4158, 'walking': 4779, 'colour': 880, 'movement': 2923, 'removed': 3624, 'perfectly': 3226, 'review': 3676, 'passed': 3202, 'sexually': 3910, 'shell': 3927, 'letting': 2583, 'bell': 458, 'sam': 3777, 'dub': 1378, 'confidence': 938, 'carry': 700, 'charisma': 762, 'yesterday': 4983, 'scared': 3805, 'whats': 4860, 'jump': 2429, 'screaming': 3827, 'bus': 631, 'adding': 117, 'terribly': 4408, 'ralph': 3510, 'bakshi': 386, 'distant': 1295, 'ice': 2210, 'sword': 4340, 'lord': 2652, 'mother': 2911, 'queen': 3485, 'village': 4743, 'meanwhile': 2785, 'sub': 4252, 'capture': 676, 'meets': 2795, 'promises': 3432, 'humans': 2190, 'office': 3091, 'cult': 1077, 'partly': 3197, 'artist': 307, 'screenplay': 3831, 'roy': 3745, 'thomas': 4458, 'stories': 4205, 'background': 380, 'included': 2262, 'novels': 3053, 'rings': 3699, 'pop': 3330, 'process': 3412, 'works': 4945, 'awesome': 371, 'minds': 2852, 'thrilling': 4474, 'adventure': 130, 'easily': 1406, 'suffice': 4279, 'explore': 1594, 'ironically': 2356, 'places': 3284, 'witches': 4910, 'ghosts': 1903, 'touch': 4533, 'wall': 4781, 'kingdom': 2480, 'guard': 1988, 'sexy': 3911, 'lady': 2507, 'held': 2074, 'chain': 741, 'sends': 3876, 'incident': 2260, 'continues': 971, 'nine': 3017, 'months': 2897, 'grows': 1985, 'charlie': 765, 'cox': 1026, 'league': 2549, 'nevertheless': 3002, 'victoria': 4732, 'dying': 1393, 'calls': 654, 'sons': 4073, 'shall': 3916, 'succeed': 4262, 'brothers': 599, 'humorous': 2193, 'competition': 918, 'charm': 767, 'danes': 1108, 'aging': 153, 'michelle': 2830, 'youth': 4994, 'unfolds': 4651, 'recognize': 3569, 'growing': 1983, 'initial': 2290, 'interest': 2323, 'lie': 2590, 'returning': 3667, 'proof': 3434, 'constantly': 958, 'encounters': 1467, 'band': 391, 'flying': 1764, 'steals': 4172, 'claire': 831, 'appropriate': 283, 'jason': 2383, 'adam': 111, 'return': 3665, 'spirit': 4113, 'matthew': 2772, 'cake': 648, '13': 4, 'multiple': 2936, 'impressive': 2253, 'sick': 3963, 'regarding': 3589, 'society': 4050, 'rules': 3754, 'focuses': 1768, 'relation': 3595, 'alex': 179, 'connection': 946, 'hart': 2041, 'spin': 4112, 'relations': 3596, 'content': 966, 'clue': 864, 'tension': 4404, 'desire': 1205, 'questions': 3489, 'standards': 4145, 'success': 4265, 'cheap': 774, 'unoriginal': 4673, 'cuts': 1091, 'parody': 3192, 'tap': 4364, 'debut': 1143, 'cameron': 661, 'choreography': 802, 'wholly': 4874, 'reviewer': 3677, 'merely': 2815, 'ballet': 389, 'ludicrous': 2685, 'hollywoods': 2138, 'makeup': 2717, 'clown': 862, 'bela': 450, 'lugosi': 2686, 'studios': 4241, '1940s': 13, 'corpse': 999, 'mad': 2696, 'bodies': 526, 'reporter': 3636, 'doctor': 1304, 'discover': 1279, 'deaths': 1142, 'report': 3635, 'drops': 1372, 'shortly': 3947, 'afterwards': 145, 'scientists': 3819, 'spooky': 4128, 'sleep': 4024, 'fans': 1650, 'recent': 3566, 'memory': 2804, 'loser': 2655, 'loud': 2664, 'premise': 3370, 'artists': 309, 'match': 2762, 'discovered': 1280, 'editing': 1421, 'shown': 3959, 'faith': 1633, 'rental': 3627, 'gas': 1874, 'marty': 2749, 'simon': 3982, 'lab': 2501, 'explosion': 1596, 'acid': 95, 'closed': 854, 'reunion': 3669, 'storm': 4206, 'locked': 2637, 'inventive': 2341, 'gory': 1943, 'atmospheric': 334, 'toilet': 4512, 'uncomfortable': 4637, 'considering': 952, 'committed': 905, 'suicide': 4283, 'bath': 411, 'wandering': 4785, 'rolling': 3730, 'effectively': 1430, 'atmosphere': 333, 'mill': 2845, 'forgettable': 1794, 'forty': 1807, 'stiff': 4187, 'thinks': 4454, 'unlike': 4670, 'orange': 3125, 'dogs': 1311, 'compared': 912, 'walker': 4778, 'leg': 2562, 'par': 3184, 'challenging': 744, 'daring': 1114, 'unpleasant': 4674, 'latin': 2527, 'spell': 4104, 'square': 4136, 'noble': 3021, 'fallen': 1638, 'sidney': 3968, 'lumet': 2688, 'tunes': 4603, 'glory': 1922, 'altogether': 202, 'melting': 2799, 'suddenly': 4273, 'flesh': 1753, 'gross': 1978, 'neat': 2982, 'stopped': 4202, 'seasons': 3844, 'online': 3109, 'dvds': 1392, 'player': 3298, 'prime': 3395, 'wit': 4908, 'unreal': 4676, 'root': 3737, 'fatal': 1664, 'outside': 3146, 'rarely': 3524, 'seek': 3858, 'waited': 4771, 'remarkably': 3614, 'silence': 3974, 'missed': 2867, 'mexico': 2827, 'cia': 814, 'alcoholic': 177, 'denzel': 1181, 'washington': 4806, 'friend': 1835, 'walken': 4777, 'mitchell': 2875, 'behavior': 446, 'murdered': 2940, 'fire': 1734, 'masterpiece': 2759, 'corny': 997, 'passing': 3204, 'composed': 926, 'stunning': 4244, 'explains': 1589, 'user': 4696, 'vote': 4766, 'dire': 1257, 'contrived': 976, 'drags': 1345, 'sally': 3776, 'caring': 691, 'developing': 1224, 'principal': 3398, 'redeeming': 3577, 'paris': 3189, 'secondly': 3847, 'whether': 4866, 'risk': 3704, 'unintentional': 4658, 'united': 4664, 'states': 4163, 'wrote': 4974, '20th': 38, 'todays': 4509, 'thank': 4421, 'chris': 806, 'interested': 2324, 'iran': 2350, 'mountains': 2918, 'landscapes': 2514, 'mentioned': 2811, 'distinct': 1296, 'mexican': 2826, 'scooby': 3820, 'doo': 1325, 'tomatoes': 4515, 'focus': 1766, 'hate': 2046, 'listening': 2620, 'enjoying': 1487, 'personalities': 3241, 'treasure': 4571, 'shirley': 3936, 'considered': 951, 'adults': 126, 'attractive': 351, 'werent': 4849, 'occasionally': 3075, 'disturbed': 1299, 'remind': 3618, 'contest': 967, 'blame': 499, 'honesty': 2148, 'media': 2789, 'wrong': 4973, 'waters': 4817, 'jaw': 2384, 'dropped': 1370, 'references': 3583, 'stereotypical': 4180, 'blacks': 494, 'industry': 2280, 'hood': 2151, 'talent': 4354, 'jr': 2423, 'contemporary': 965, 'temple': 4398, 'prince': 3396, 'father': 1666, 'flaws': 1752, 'information': 2288, 'commercials': 903, 'thriller': 4472, 'faithful': 1634, 'ago': 154, 'broke': 593, 'roles': 3727, 'increasingly': 2268, 'poster': 3353, 'opinions': 3119, 'lol': 2640, 'patrick': 3213, 'moody': 2899, 'allowed': 190, 'angles': 237, 'lighting': 2596, 'create': 1036, 'feelings': 1686, 'wrap': 4963, 'motives': 2916, 'reveal': 3670, 'samurai': 3779, 'festival': 1697, 'blew': 505, 'sheer': 3925, 'utter': 4701, 'ninja': 3018, 'tight': 4492, 'stellar': 4174, 'superficial': 4298, 'eg': 1434, 'expensive': 1579, 'student': 4238, 'basic': 406, 'acts': 107, 'aside': 315, 'sharp': 3922, 'sides': 3967, 'intimate': 2331, 'hammer': 2014, 'credit': 1049, 'melodrama': 2797, 'screams': 3828, 'ruined': 3751, 'fabulous': 1615, 'cube': 1076, 'jennifer': 2392, 'generic': 1885, 'degree': 1164, 'horrid': 2165, 'models': 2881, 'failed': 1626, 'miserably': 2864, 'prove': 3445, 'buying': 641, 'fits': 1741, 'twin': 4615, 'rage': 3505, 'soldier': 4053, 'poem': 3312, 'stevens': 4183, 'douglas': 1334, 'victor': 4731, 'control': 977, 'hair': 2005, 'india': 2273, 'figures': 1713, 'ups': 4686, 'fond': 1776, 'catches': 715, 'unit': 4663, 'married': 2744, 'service': 3896, 'slapstick': 4019, 'handsome': 2021, 'tense': 4403, 'elephant': 1444, 'annie': 247, 'tear': 4379, 'gentle': 1890, 'brave': 567, 'soul': 4079, 'massive': 2756, 'scope': 3821, 'remarkable': 3613, 'recommended': 3572, 'kim': 2475, 'belongs': 460, 'neighbor': 2992, 'boredom': 542, 'losing': 2658, 'powers': 3361, 'aunt': 355, 'lemmon': 2567, 'brother': 598, 'chief': 788, 'author': 359, 'smooth': 4041, 'drunk': 1375, 'heres': 2087, 'tie': 4488, 'strictly': 4223, 'shoes': 3941, 'hang': 2022, 'clean': 838, 'bare': 398, 'walls': 4783, 'san': 3780, 'lesbian': 2573, 'effective': 1429, 'presence': 3373, 'plastic': 3294, 'resist': 3648, 'forces': 1788, 'wear': 4830, 'hideous': 2098, 'cure': 1081, 'angry': 238, 'directs': 1267, 'cats': 721, 'ears': 1402, 'tricks': 4583, 'skip': 4016, 'independent': 2272, 'careers': 687, 'jazz': 2387, 'member': 2800, 'johnny': 2410, 'typically': 4624, 'bbc': 417, 'press': 3379, 'depressed': 1187, 'teenager': 4390, 'timothy': 4499, 'fears': 1677, 'morality': 2903, 'crew': 1053, 'lifetime': 2594, 'manage': 2722, 'mile': 2842, 'triumph': 4590, 'arrive': 300, 'weeks': 4839, 'shooting': 3943, 'foot': 1781, 'lately': 2524, 'photo': 3257, 'reviews': 3679, 'chilling': 794, 'physically': 3263, 'johnson': 2411, 'horrific': 2166, 'abuse': 74, 'aids': 161, 'ultimately': 4628, 'sunshine': 4294, 'staring': 4152, 'understated': 4646, 'nominated': 3025, 'academy': 77, 'award': 366, 'recommend': 3571, 'prepared': 3371, 'leaves': 2556, 'reactions': 3542, 'numerous': 3062, 'patients': 3212, 'field': 1704, 'community': 908, 'allowing': 191, 'trial': 4580, 'handled': 2019, 'firstly': 1737, 'proved': 3446, 'defense': 1159, 'terry': 4415, 'asking': 318, 'asked': 317, 'specific': 4099, 'competent': 917, 'gotten': 1947, 'parent': 3187, 'depressing': 1188, 'forgive': 1795, 'types': 4622, 'boyfriend': 558, 'thrown': 4481, 'twenty': 4612, 'haunting': 2051, 'shame': 3918, 'directorial': 1265, 'call': 651, 'represents': 3639, 'conflict': 939, 'tree': 4576, 'viewings': 4741, 'loaded': 2632, 'psychological': 3458, 'stephen': 4176, 'kings': 2481, 'spirited': 4114, 'brand': 565, 'books': 536, 'mainstream': 2709, 'emotionally': 1460, 'proceedings': 3410, 'endings': 1472, 'offer': 3087, 'glimpse': 1919, 'pet': 3246, 'hadnt': 2004, 'persona': 3239, 'week': 4837, 'worthy': 4956, 'theatrical': 4430, 'directly': 1263, 'keeps': 2451, 'sucked': 4270, 'casting': 711, 'choices': 798, 'joe': 2407, 'warmth': 4796, 'awkward': 374, 'structure': 4233, 'lies': 2591, 'pointed': 3317, 'approach': 282, 'eighties': 1437, 'remote': 3622, 'provided': 3449, 'engage': 1479, 'namely': 2962, 'including': 2264, 'nail': 2957, 'pay': 3216, 'throwing': 4480, 'incoherent': 2265, 'possessed': 3347, 'supernatural': 4302, 'props': 3439, 'narrator': 2967, 'caliber': 649, 'opens': 3115, 'closet': 858, 'inside': 2297, 'classics': 837, 'strangely': 4212, 'gothic': 1945, 'beast': 422, 'horses': 2171, 'monsters': 2893, '70s': 56, 'sunday': 4293, 'afternoon': 144, 'combination': 883, 'ideas': 2215, 'dracula': 1341, 'frankenstein': 1822, 'stale': 4141, 'prequel': 3372, 'realized': 3553, 'essentially': 1523, 'likely': 2601, 'mummy': 2937, 'intrigued': 2334, 'stayed': 4167, 'culture': 1079, 'teenagers': 4391, 'differences': 1247, 'teens': 4392, 'displayed': 1292, 'drinking': 1362, 'sports': 4130, 'california': 650, 'nicely': 3009, 'installment': 2303, 'godfather': 1927, 'saga': 3773, 'staff': 4138, 'deserve': 1199, 'mafia': 2700, 'solely': 4056, 'greedy': 1969, 'don': 1320, 'spends': 4107, 'bleak': 503, 'deep': 1154, 'kay': 2447, 'thoughts': 4464, 'bizarre': 492, 'passion': 3205, 'fit': 1740, 'conversations': 981, 'remarks': 3615, 'andy': 230, 'teen': 4388, 'kitchen': 2485, 'glenn': 1918, 'silver': 3977, 'position': 3345, 'families': 1644, 'routine': 3743, 'vincent': 4746, 'respect': 3652, 'gangsters': 1869, 'portrait': 3339, 'sadly': 3769, 'telling': 4396, 'hamilton': 2012, 'task': 4368, '3rd': 47, 'damage': 1099, 'pulling': 3463, 'cars': 702, 'involving': 2349, 'corrupt': 1001, 'financial': 1725, '1980s': 21, 'spectacular': 4101, 'photographed': 3258, 'mary': 2751, 'estate': 1525, 'dirty': 1268, 'familys': 1646, 'failure': 1629, 'lengthy': 2570, 'gene': 1879, 'logical': 2639, 'members': 2801, 'georges': 1894, 'definite': 1161, 'factor': 1622, 'highlights': 2104, 'deadly': 1133, 'interpretation': 2328, 'desperate': 1208, 'sake': 3775, 'track': 4544, 'apparent': 269, 'intellectual': 2312, 'jon': 2416, 'emotions': 1461, 'interaction': 2322, 'environment': 1505, 'creatures': 1046, 'won': 4925, 'orson': 3132, 'welles': 4844, 'derek': 1192, 'mysterious': 2955, 'push': 3477, 'lucky': 2683, 'recently': 3567, 'latest': 2526, 'wed': 4835, 'talked': 4359, 'safe': 3771, 'lessons': 2578, 'larry': 2520, 'wacky': 4769, 'cameras': 660, 'quirky': 3493, 'acceptable': 81, 'accident': 84, 'terrifying': 4410, 'silent': 3975, 'terror': 4412, 'dad': 1095, 'nowadays': 3055, 'block': 508, 'offensive': 3086, 'exploitation': 1592, 'scenario': 3808, 'breasts': 572, 'search': 3841, 'ex': 1549, 'con': 928, 'gruesome': 1986, 'guts': 1999, 'opposite': 3123, 'began': 441, 'harsh': 2040, 'madonna': 2699, 'offended': 3085, 'slave': 4022, 'path': 3209, 'finding': 1727, 'moves': 2925, 'darkness': 1117, 'hook': 2152, 'lovers': 2673, 'son': 4070, 'lay': 2542, 'zombies': 4998, 'station': 4164, 'bathroom': 412, 'dozen': 1338, 'vampires': 4712, 'vampire': 4711, 'holding': 2130, 'gun': 1996, 'ran': 3513, 'speaking': 4095, 'alike': 185, 'anyways': 262, 'urge': 4689, 'terrorists': 4414, 'doomed': 1327, 'plane': 3288, 'doom': 1326, 'unnecessary': 4672, 'contain': 962, 'proper': 3436, 'send': 3875, 'virus': 4752, 'network': 3000, 'rubbish': 3748, 'receives': 3565, 'boxing': 556, 'humble': 2191, 'winning': 4898, 'focused': 1767, 'matches': 2764, 'emphasis': 1463, 'alive': 186, 'rough': 3741, 'bright': 581, 'fat': 1663, 'headed': 2058, 'constructed': 959, 'settings': 3901, 'clothing': 861, 'exploration': 1593, 'east': 1407, 'england': 1482, 'virginia': 4750, 'schools': 3814, 'relate': 3593, 'homosexual': 2145, 'related': 3594, 'forms': 1801, 'streets': 4217, 'defined': 1160, 'brad': 560, 'camp': 662, 'tales': 4357, 'guessing': 1991, 'potentially': 3356, 'captivating': 675, 'key': 2458, 'gradually': 1952, 'reaches': 3538, 'overdone': 3152, 'pleasure': 3306, 'sincere': 3991, 'died': 1244, 'broadcast': 591, 'roll': 3728, 'filmmaker': 1719, 'unless': 4669, 'wide': 4880, 'awake': 365, 'eyed': 1612, 'national': 2970, 'reasons': 3560, 'rival': 3706, 'express': 1600, 'forward': 1808, 'warriors': 4803, 'hip': 2114, 'hop': 2154, 'chased': 770, 'rap': 3520, 'aspects': 322, 'homage': 2141, 'dawn': 1127, 'yeah': 4977, 'talents': 4356, 'mtv': 2933, 'definition': 1163, 'fetched': 1698, 'iron': 2354, 'calling': 653, 'travesty': 4570, 'appalling': 268, 'disgusting': 1286, 'eerie': 1427, 'fairy': 1632, 'horrendous': 2162, 'lousy': 2667, 'accents': 79, 'twisted': 4618, 'accent': 78, 'tried': 4584, 'happening': 2028, 'ned': 2986, 'beatty': 427, 'useless': 4695, 'ignorant': 2223, 'hat': 2045, 'tone': 4517, 'warrior': 4802, 'lewis': 2586, 'hunter': 2199, 'nuts': 3064, 'burt': 629, 'reynolds': 3684, '1972': 18, 'forgotten': 1797, 'speaks': 4096, 'levels': 2585, 'amounts': 220, 'convey': 982, 'blade': 495, 'lively': 2627, 'river': 3707, 'equally': 1510, 'loving': 2675, 'groups': 1981, 'inevitable': 2282, 'wisdom': 4902, 'kicked': 2461, 'arrested': 298, 'arrived': 301, 'sold': 4052, 'afford': 138, 'shining': 3933, 'redemption': 3578, 'shut': 3961, 'stanley': 4148, 'kubrick': 2496, 'threw': 4470, 'frustration': 1843, 'complexity': 924, 'isolated': 2363, 'winter': 4900, 'nicholson': 3011, 'flawless': 1751, 'delivery': 1173, 'shelley': 3928, 'twins': 4616, 'significant': 3972, 'necessary': 2984, 'presents': 3377, 'interview': 2329, 'followed': 1773, 'wendy': 4846, 'danny': 1112, 'sneak': 4043, 'concern': 931, 'bloody': 513, 'rooms': 3736, 'slowly': 4032, 'damn': 1100, 'mr': 2929, 'daughters': 1122, 'tied': 4489, 'presented': 3376, 'havent': 2053, 'amusing': 221, 'sorts': 4078, 'clips': 852, 'clip': 851, 'typical': 4623, 'bank': 394, 'barbara': 397, 'stanwyck': 4149, 'pre': 3365, 'regret': 3591, 'addition': 118, 'handle': 2018, 'sophisticated': 4075, 'donald': 1321, 'cook': 988, 'henry': 2084, 'portray': 3340, 'victims': 4730, 'seconds': 3848, 'st': 4137, 'louis': 2665, 'blues': 519, 'dealing': 1136, 'technical': 4381, 'techniques': 4384, 'program': 3424, 'memories': 2803, 'abusive': 75, 'madness': 2698, 'account': 89, 'bruce': 602, 'campbell': 663, 'extended': 1604, 'alternate': 200, 'format': 1799, 'highlight': 2103, 'unknown': 4668, 'repeat': 3630, 'literally': 2622, '24': 39, 'domino': 1319, 'study': 4242, 'mere': 2814, 'yellow': 4981, 'lucy': 2684, 'believing': 457, 'nobody': 3022, 'killers': 2471, 'hilariously': 2107, 'desperately': 1209, 'resembles': 3646, 'fifteen': 1706, 'attempting': 342, 'technique': 4383, 'harvey': 2042, 'purpose': 3474, 'text': 4419, 'jerry': 2396, 'cop': 991, 'wouldve': 4959, 'trailers': 4555, 'hatred': 2049, 'pops': 3332, 'purely': 3472, 'performer': 3231, 'blowing': 515, 'exists': 1573, 'tiny': 4500, 'narrative': 2966, 'blows': 517, 'resort': 3650, 'popular': 3333, 'existence': 1571, 'paulie': 3215, 'ranks': 3519, 'status': 4165, 'loves': 2674, 'dedicated': 1153, 'notable': 3041, 'mothers': 2912, '18': 10, 'hearts': 2066, 'ear': 1397, 'scarecrow': 3804, 'losers': 2656, 'covers': 1024, 'dude': 1381, 'ladies': 2506, 'tea': 4373, 'craig': 1030, 'magic': 2703, 'ingredients': 2289, 'blatant': 502, 'games': 1865, 'writers': 4969, 'aliens': 184, 'size': 4012, 'reminded': 3619, 'crash': 1033, 'ability': 65, 'prefer': 3368, 'touches': 4535, 'overrated': 3156, 'sappy': 3784, 'pursuit': 3476, 'shines': 3932, 'access': 83, 'gift': 1906, 'everyones': 1543, 'test': 4416, 'troubles': 4594, 'folk': 1770, 'survival': 4320, 'blind': 506, 'meat': 2787, 'duke': 1383, 'coach': 868, 'bone': 533, 'spending': 4106, 'suffering': 4277, 'eating': 1413, 'blockbuster': 509, 'pie': 3271, 'park': 3190, 'stranger': 4213, 'beaten': 424, 'introduction': 2339, 'creature': 1045, 'atlantis': 332, 'empire': 1464, 'gem': 1877, 'jungle': 2434, 'pokemon': 3320, 'portion': 3338, 'devoted': 1231, 'fox': 1814, 'museum': 2945, 'failing': 1627, 'wishes': 4906, 'wealth': 4826, 'overcome': 3151, 'caught': 722, 'unexpected': 4650, 'discovery': 1282, 'generated': 1882, 'achieved': 93, 'creativity': 1042, 'developed': 1223, 'unrealistic': 4677, 'driven': 1365, 'model': 2880, 'tradition': 4549, 'snow': 4045, 'ho': 2127, 'willing': 4889, 'resident': 3647, 'mistakes': 2873, 'dislike': 1288, 'mid': 2832, 'magnificent': 2705, 'arthur': 305, 'moore': 2901, 'butler': 637, 'library': 2589, 'noticed': 3049, 'zero': 4996, 'occasional': 3074, 'modesty': 2883, 'comics': 895, 'beloved': 461, 'finished': 1733, 'values': 4710, 'couldve': 1009, 'hopefully': 2157, 'decisions': 1152, 'panic': 3181, 'ass': 323, 'trees': 4577, 'cartoons': 705, 'summary': 4290, 'button': 639, 'ron': 3734, 'carter': 703, 'costs': 1004, 'occurs': 3078, 'revolutionary': 3681, 'mob': 2879, 'delivering': 1171, 'motion': 2913, 'mans': 2730, 'false': 1641, 'invasion': 2340, 'civil': 826, 'beating': 425, 'warming': 4795, 'precious': 3366, 'pot': 3354, 'associated': 327, 'adams': 112, 'karen': 2444, 'gary': 1873, 'hint': 2112, 'adequate': 120, 'scares': 3806, 'tooth': 4524, 'design': 1202, 'tremendous': 4579, 'mouse': 2919, 'shorts': 3948, 'abysmal': 76, 'latter': 2528, 'frequently': 1832, 'oddly': 3081, 'desired': 1206, 'formula': 1802, 'titled': 4505, 'cheese': 780, 'factory': 1623, 'alongside': 196, 'featuring': 1681, 'minimal': 2855, 'thoroughly': 4459, 'pregnant': 3369, 'understood': 4647, 'senseless': 3878, 'warned': 4798, 'spoiler': 4123, 'ritter': 3705, 'animals': 240, 'island': 2361, 'authority': 360, 'keeping': 2450, 'till': 4493, 'midnight': 2834, 'pants': 3182, 'gain': 1863, 'goal': 1925, 'contact': 961, 'trio': 4587, 'union': 4661, 'facing': 1620, 'marry': 2745, 'finest': 1730, 'golden': 1934, 'instant': 2305, 'nomination': 3026, 'staged': 4140, 'slaughter': 4021, 'fest': 1696, 'develops': 1226, 'chasing': 772, 'tall': 4362, 'protect': 3443, 'grow': 1982, 'efforts': 1433, 'gender': 1878, 'thankfully': 4422, 'racial': 3501, 'sacrifice': 3766, 'warner': 4799, 'thrill': 4471, 'trick': 4582, 'paper': 3183, 'fortune': 1806, 'dollars': 1315, 'successfully': 4267, 'spend': 4105, 'mansion': 2731, 'curse': 1086, 'dan': 1102, 'served': 3894, 'shocked': 3939, 'evening': 1534, 'staying': 4168, 'guest': 1992, 'split': 4120, 'haunted': 2050, 'includes': 2263, 'maker': 2714, 'shadows': 3913, 'reveals': 3673, 'smart': 4035, 'fooled': 1780, 'cash': 709, 'nearby': 2980, 'australia': 356, 'feminist': 1695, 'jessica': 2398, 'kirk': 2482, 'replaced': 3634, 'fool': 1779, 'extreme': 1609, 'tons': 4520, 'holes': 2133, 'busy': 635, 'theaters': 4428, 'worried': 4949, 'scream': 3826, 'balls': 390, 'killings': 2473, 'actions': 101, 'german': 1896, 'assume': 328, 'wondered': 4927, 'chosen': 805, 'folks': 1771, 'aint': 163, 'menace': 2806, '12': 3, 'wild': 4885, 'searching': 3842, 'companion': 909, 'attitude': 346, 'stargate': 4151, 'device': 1227, 'worlds': 4947, 'loads': 2633, 'facial': 1619, 'prevent': 3385, 'draw': 1349, 'positive': 3346, 'revolves': 3682, 'survivor': 4324, 'experiments': 1584, 'primarily': 3393, 'survivors': 4325, 'eric': 1514, 'argue': 290, 'center': 732, 'nazi': 2977, 'nazis': 2978, 'territory': 4411, 'surrounded': 4318, 'theory': 4437, 'discuss': 1283, 'chicago': 785, 'teachers': 4376, 'annoyed': 248, 'education': 1424, 'university': 4667, 'wake': 4774, 'deeper': 1155, 'fair': 1630, 'abilities': 64, 'peace': 3219, 'ps': 3453, 'saturday': 3792, 'duty': 1390, 'universe': 4666, 'happily': 2030, 'co': 867, 'spiritual': 4116, 'visually': 4758, 'executed': 1565, 'settle': 3902, 'strike': 4224, 'yelling': 4980, 'stooges': 4200, 'shape': 3919, 'harder': 2035, 'hitting': 2126, 'strength': 4219, 'spare': 4093, 'grace': 1950, 'brenda': 575, 'appealing': 272, 'smoking': 4040, 'elderly': 1440, 'antics': 255, 'mindless': 2851, 'gag': 1861, 'graphic': 1958, 'lust': 2689, 'politically': 3325, 'surreal': 4317, 'extent': 1605, 'lena': 2568, 'wannabe': 4787, 'cabin': 643, 'fully': 1847, 'concert': 935, 'subjects': 4254, 'spain': 4091, 'franco': 1820, 'coherent': 871, 'analysis': 224, 'enterprise': 1495, 'comfortable': 892, 'subtle': 4260, 'ambitious': 211, 'vulnerable': 4768, 'connect': 944, 'inner': 2292, 'intentionally': 2320, 'faults': 1669, 'artistic': 308, 'swedish': 4335, 'comedic': 888, 'digital': 1251, 'designs': 1204, 'shine': 3931, 'nonetheless': 3029, 'vast': 4716, 'wave': 4818, 'punk': 3468, 'clues': 865, 'survived': 4322, 'wealthy': 4827, 'bullet': 620, 'wound': 4960, 'nightmares': 3015, 'ensemble': 1492, 'explicit': 1591, 'stylish': 4251, 'twilight': 4614, 'zone': 4999, 'demon': 1177, 'similarly': 3980, 'constant': 957, 'notes': 3046, 'creative': 1041, 'obsession': 3070, 'waitress': 4773, 'coffee': 870, 'angel': 231, 'kicks': 2463, 'proceeds': 3411, 'montage': 2894, 'downhill': 1336, 'wished': 4905, 'treats': 4575, 'landing': 2512, 'moon': 2900, 'mentions': 2813, 'training': 4558, 'thirty': 4456, 'spanish': 4092, 'strongly': 4231, 'entertain': 1497, 'dancers': 1105, 'bite': 489, 'throat': 4476, 'instantly': 2306, 'hooked': 2153, 'wore': 4939, '25': 40, 'lasted': 2522, 'cup': 1080, 'itll': 2369, 'cowboy': 1025, 'indian': 2274, 'knife': 2487, 'chest': 784, 'wrapped': 4964, 'greatly': 1967, 'focusing': 1769, 'random': 3514, 'build': 614, 'pace': 3161, 'subplots': 4256, 'roberts': 3714, 'relief': 3605, 'kenneth': 2455, 'branagh': 564, 'distracting': 1297, 'centered': 733, 'angle': 236, 'steel': 4173, 'perform': 3227, 'remotely': 3623, 'caine': 647, 'remembered': 3617, 'hearing': 2063, 'massacre': 2754, 'master': 2757, 'tour': 4538, 'recording': 3575, 'appreciation': 281, 'beach': 419, 'owner': 3159, 'fitting': 1742, '75': 57, 'donna': 1323, 'survive': 4321, 'football': 1783, 'freak': 1824, 'compare': 911, 'intent': 2318, 'visuals': 4759, 'louise': 2666, 'rachel': 3500, 'loses': 2657, 'buried': 624, 'drop': 1369, 'blend': 504, 'dialogs': 1233, 'cringe': 1059, 'ring': 3698, 'craft': 1028, 'jet': 2400, 'li': 2587, 'sole': 4055, 'gritty': 1977, 'inspector': 2299, 'grey': 1973, 'revealing': 3672, 'switch': 4339, 'edge': 1418, '3d': 46, 'bugs': 613, '2001': 31, 'date': 1118, 'bridge': 578, 'sin': 3988, 'science': 3816, 'multi': 2935, 'beneath': 464, 'research': 3644, 'global': 1920, 'daniel': 1111, 'assigned': 325, 'influenced': 2287, 'plots': 3310, 'presentation': 3375, 'source': 4086, 'relatively': 3600, 'medium': 2792, 'pushed': 3478, 'lose': 2654, 'critic': 1061, 'formulaic': 1803, 'conspiracy': 956, 'quotes': 3497, 'justify': 2439, 'nicholas': 3010, 'bonus': 534, 'benefit': 465, 'allow': 189, 'laughed': 2532, 'convinced': 984, 'lowest': 2678, 'reputation': 3640, 'spoof': 4127, '1960s': 15, 'wells': 4845, 'adapted': 114, 'versus': 4722, 'disagree': 1269, 'progress': 3425, 'civilization': 827, 'richardson': 3688, 'petty': 3249, 'demands': 1175, 'plague': 3285, 'section': 3853, 'flight': 1757, 'attraction': 350, 'evident': 1547, 'ruins': 3752, 'steps': 4177, 'futuristic': 1857, 'wonders': 4931, 'rocket': 3721, 'raymond': 3534, 'thoughtful': 4463, 'plausible': 3295, 'limits': 2607, 'adorable': 124, 'refreshing': 3586, 'traveling': 4568, 'photographer': 3259, 'abandoned': 62, 'worthwhile': 4955, 'destiny': 1212, '35': 45, 'notion': 3050, 'scrooge': 3837, 'dickens': 1240, 'businessman': 634, 'hates': 2048, 'linda': 2609, 'championship': 745, 'baseball': 403, 'longer': 2645, 'taught': 4370, 'trek': 4578, 'substance': 4258, 'surface': 4310, 'sounded': 4082, 'hasnt': 2044, 'bits': 490, 'clint': 850, 'eastwood': 1409, 'sudden': 4272, 'productions': 3420, 'succeeds': 4264, 'backgrounds': 381, 'bird': 484, 'funniest': 1851, 'aka': 168, 'videos': 4734, 'bat': 410, 'painfully': 3172, 'below': 462, 'controversial': 978, 'pleasantly': 3303, 'cleverly': 842, 'enormous': 1490, 'falk': 1636, 'mom': 2885, 'depicts': 1186, 'pool': 3327, 'daily': 1097, 'capturing': 679, 'workers': 4943, 'spike': 4111, 'awe': 370, 'bud': 607, 'disappoint': 1272, 'kurt': 2499, 'russell': 3761, 'todd': 4510, 'challenge': 743, 'mel': 2796, 'purchase': 3469, 'timing': 4498, 'nervous': 2999, 'liners': 2611, 'ann': 244, 'warren': 4801, 'provide': 3448, 'drew': 1360, 'catherine': 719, 'surviving': 4323, 'eve': 1532, 'colors': 879, 'broadway': 592, 'wicked': 4879, 'characterization': 759, 'royal': 3746, 'flow': 1762, 'worry': 4950, 'contains': 964, 'wives': 4918, 'commercial': 902, 'primary': 3394, 'players': 3299, 'irritating': 2359, 'hire': 2116, 'exact': 1550, 'unwatchable': 4682, 'record': 3573, 'farm': 1656, 'burton': 630, 'regard': 3588, '1984': 23, 'julia': 2427, 'beliefs': 452, 'commit': 904, 'rescue': 3643, 'mystery': 2956, 'nights': 3016, 'celebrity': 729, 'department': 1182, 'map': 2733, 'lying': 2690, 'area': 286, 'purposes': 3475, 'fancy': 1649, 'reached': 3537, 'occasion': 3073, 'soviet': 4089, 'blonde': 511, 'costume': 1005, 'comedian': 887, 'eastern': 1408, 'mini': 2854, 'blah': 496, 'suspect': 4327, 'assumed': 329, 'mighty': 2836, 'goofy': 1939, 'oliver': 3102, 'hardy': 2037, 'italian': 2367, 'consequences': 947, 'depicted': 1183, 'glover': 1923, 'reviewers': 3678, 'trilogy': 4586, 'copies': 992, 'stiller': 4189, 'website': 4834, 'larger': 2519, 'persons': 3244, 'load': 2631, 'initially': 2291, 'uninspired': 4657, 'lacking': 2504, 'continued': 970, 'disappointment': 1275, 'president': 3378, 'newly': 3004, 'del': 1165, 'francisco': 1819, 'reed': 3580, 'justice': 2438, 'raising': 3509, 'safety': 3772, 'cliff': 847, 'stunt': 4245, 'legendary': 2565, 'performs': 3234, 'jumping': 2431, 'riding': 3695, 'chapter': 757, 'hence': 2083, 'lone': 2642, 'tarzan': 4367, 'creator': 1043, 'edgar': 1417, 'scripts': 3836, 'carl': 692, 'mixed': 2877, 'neck': 2985, 'fictional': 1703, 'transfer': 4559, 'learned': 2551, 'asian': 314, 'giallo': 1904, 'julie': 2428, 'surrounding': 4319, 'arrival': 299, 'mario': 2738, 'mentioning': 2812, 'chances': 748, 'satisfying': 3791, 'halloween': 2010, 'richards': 3687, 'jealous': 2388, 'stolen': 4195, 'stupidity': 4248, 'needless': 2989, 'shock': 3938, 'guns': 1998, 'troops': 4591, 'marketing': 2741, 'females': 1694, 'myers': 2952, 'carpenter': 694, 'builds': 617, '2004': 34, 'disjointed': 1287, 'concerning': 933, 'command': 897, 'displays': 1293, 'notch': 3043, 'shakespeare': 3915, 'montana': 2895, 'pacino': 3164, 'forbidden': 1785, 'fame': 1642, 'muslim': 2949, 'anna': 245, 'interviews': 2330, 'seeks': 3860, 'refuses': 3587, 'facts': 1624, 'web': 4833, 'awards': 367, 'crack': 1027, 'miscast': 2862, 'phony': 3256, 'thick': 4447, 'closing': 859, 'household': 2179, 'notably': 3042, 'engaged': 1480, 'trap': 4563, 'saves': 3796, 'hall': 2009, 'stereotype': 4178, 'colonel': 876, 'susan': 4326, 'serving': 3897, 'poignant': 3315, 'loss': 2659, 'crying': 1074, 'mrs': 2930, 'hype': 2207, 'descent': 1193, 'lacks': 2505, '1983': 22, 'hippie': 2115, 'unsettling': 4679, 'pamela': 3179, 'legend': 2564, 'fury': 1855, 'seeking': 3859, 'hardcore': 2034, 'rat': 3525, 'rights': 3697, 'context': 968, 'menacing': 2807, 'countless': 1012, 'inspiring': 2302, 'blake': 498, 'wilson': 4891, 'riveting': 3708, '2005': 35, 'jane': 2380, 'paltrow': 3178, 'kate': 2446, 'emma': 1457, 'imagined': 2239, 'dress': 1357, 'elegant': 1441, 'believed': 455, 'loyal': 2679, 'campy': 664, 'mate': 2765, 'grab': 1949, 'bucks': 606, 'messed': 2821, 'skill': 4013, 'stress': 4220, 'graphics': 1959, 'rabbit': 3498, 'rocks': 3722, 'creators': 1044, 'ape': 266, 'bargain': 400, 'basement': 405, 'embarrassing': 1454, 'fx': 1858, 'throws': 4482, 'rick': 3689, 'europe': 1529, 'mike': 2838, 'vs': 4767, 'slasher': 4020, 'screening': 3830, 'catching': 716, 'attacked': 338, 'unlikely': 4671, 'tim': 4494, 'remake': 3612, 'improved': 2255, 'sat': 3786, 'target': 4366, 'bin': 483, 'pilot': 3276, 'solution': 4059, 'doctors': 1305, 'stone': 4197, 'holy': 2140, 'spider': 4109, 'monster': 2892, 'spots': 4132, 'edie': 1419, 'jackie': 2374, 'kennedy': 2454, 'dragon': 1344, 'consistent': 953, 'hunting': 2201, 'ad': 110, 'charge': 761, 'cave': 727, 'arm': 292, 'huh': 2187, 'helicopter': 2076, 'combat': 882, 'boot': 538, 'signs': 3973, 'fighter': 1708, 'theyll': 4444, 'eaten': 1412, 'carrying': 701, 'pitt': 3280, 'devil': 1228, 'locations': 2636, 'unseen': 4678, 'winds': 4895, 'luke': 2687, 'travels': 4569, 'holly': 2136, '2007': 37, 'cg': 739, 'dinosaur': 1255, 'reaching': 3539, 'kung': 2498, 'fu': 1844, 'innocence': 2293, 'unforgettable': 4652, 'mask': 2752, '40s': 49, 'nancy': 2964, 'specifically': 4100, 'popcorn': 3331, 'thugs': 4484, 'inept': 2281, 'excessive': 1560, 'pulls': 3464, 'mars': 2746, 'doubts': 1333, 'artificial': 306, 'deliberately': 1166, 'agents': 151, 'masses': 2755, 'exposed': 1598, 'agent': 150, 'matrix': 2767, 'dialogues': 1235, 'albeit': 173, 'painting': 3175, 'chick': 786, 'pg': 3250, 'wood': 4933, 'producing': 3417, 'realizes': 3554, 'visit': 4755, 'eight': 1436, 'lynch': 2691, 'foul': 1810, 'metal': 2823, 'ken': 2453, 'amanda': 205, 'trapped': 4564, 'catchy': 717, 'tune': 4602, 'sitcom': 4004, 'upper': 4685, 'breathtaking': 574, 'downright': 1337, 'jackson': 2375, 'ancient': 225, 'psychic': 3456, 'alien': 183, 'drawing': 1350, 'curtis': 1087, 'struggles': 4235, 'briefly': 580, 'stuck': 4237, 'equivalent': 1512, 'achievement': 94, 'category': 718, 'widow': 4883, 'aged': 149, 'sandra': 3782, 'rush': 3759, 'virgin': 4749, 'spring': 4134, 'ian': 2209, 'incomprehensible': 2267, 'synopsis': 4344, 'importantly': 2248, 'ironic': 2355, 'underlying': 4641, 'evidence': 1546, 'thrillers': 4473, 'britain': 588, 'banned': 395, 'psychiatrist': 3455, 'garbo': 1871, 'amazingly': 210, 'ramones': 3512, 'ms': 2931, 'determined': 1221, 'stilted': 4190, 'communist': 907, 'destroy': 1213, 'weapon': 4828, 'anger': 235, 'citizen': 824, 'dubbed': 1379, 'sutherland': 4333, 'investigation': 2343, 'jeffrey': 2391, 'hbo': 2055, 'eddie': 1416, 'murphy': 2944, 'jamie': 2379, 'hudson': 2184, 'mature': 2773, 'felix': 1689, 'figured': 1712, 'bears': 421, 'priceless': 3390, 'bo': 521, 'thrills': 4475, 'illness': 2230, 'dentist': 1180, 'according': 88, 'subplot': 4255, 'relies': 3606, 'stinks': 4192, 'vice': 4727, '45': 50, 'gotta': 1946, 'satan': 3787, 'neighborhood': 2993, 'activities': 102, 'maria': 2736, 'fathers': 1667, 'semi': 3874, 'nude': 3058, 'priest': 3392, 'lips': 2615, 'mirror': 2861, 'identify': 2216, 'plight': 3308, 'brooks': 596, 'projects': 3428, 'sell': 3871, 'burns': 628, 'answers': 252, 'responsibility': 3655, 'trust': 4598, 'picks': 3268, 'properly': 3437, 'restaurant': 3658, 'hitler': 2124, 'signed': 3971, 'lights': 2597, 'albert': 174, 'teeth': 4393, 'outcome': 3142, 'houses': 2180, 'winner': 4897, 'individual': 2277, 'historically': 2120, 'embarrassed': 1453, 'laws': 2540, 'farce': 1654, 'demented': 1176, 'existed': 1570, 'olivier': 3103, 'spoiled': 4122, 'amongst': 218, 'santa': 3783, 'enters': 1496, 'ship': 3934, 'causes': 725, 'amazed': 208, 'promise': 3430, 'inane': 2258, 'blond': 510, 'desperation': 1210, 'smaller': 4034, 'brady': 561, 'channels': 754, 'generous': 1886, 'villains': 4745, 'cooper': 990, 'ticket': 4487, 'husbands': 2205, 'dating': 1120, 'forgot': 1796, 'witty': 4917, 'los': 2653, 'consistently': 954, 'aimed': 162, 'overacting': 3149, 'butt': 638, 'hoped': 2156, 'couples': 1017, 'fortunately': 1805, 'cried': 1054, 'rob': 3710, 'epic': 1506, 'dignity': 1252, 'insight': 2298, 'exceptional': 1558, 'sentimental': 3882, 'rushed': 3760, 'upset': 4687, 'eager': 1396, 'brooklyn': 595, 'outrageous': 3145, 'argument': 291, '16': 8, 'contrast': 975, 'suffers': 4278, 'outfit': 3144, 'essence': 1521, 'thin': 4449, 'leonard': 2572, 'buildings': 616, 'paint': 3173, 'logic': 2638, 'ireland': 2352, 'ignore': 2224, 'visible': 4753, 'heck': 2071, 'explored': 1595, 'crucial': 1068, 'flaw': 1749, 'poetry': 3314, 'lower': 2677, 'restored': 3659, 'teach': 4374, 'quiet': 3492, 'avoided': 364, 'fonda': 1777, 'lily': 2605, 'shirt': 3937, 'parallel': 3185, 'irrelevant': 2358, 'reference': 3582, '2003': 33, 'accomplished': 87, 'adds': 119, 'succeeded': 4263, 'jake': 2377, 'homer': 2144, 'recognition': 3568, 'advertising': 132, 'ideal': 2214, 'sea': 3838, 'hurts': 2203, 'heroic': 2090, 'weekend': 4838, 'claimed': 829, 'starred': 4153, 'exotic': 1574, 'african': 142, 'rex': 3683, 'charismatic': 763, 'suggested': 4281, 'capable': 672, 'empathy': 1462, 'picking': 3267, 'worn': 4948, 'backdrop': 379, 'letters': 2582, 'destroying': 1215, 'jumps': 2432, 'jaws': 2385, 'shark': 3921, 'health': 2060, 'divorce': 1301, 'swim': 4337, 'continuity': 972, 'bride': 577, 'experiences': 1582, 'overwhelming': 3157, 'disappeared': 1271, 'planned': 3290, 'breaking': 570, 'imagery': 2234, 'individuals': 2278, 'performing': 3233, '1933': 12, 'comparing': 913, 'gods': 1928, 'generations': 1884, 'opened': 3113, 'audio': 354, 'demand': 1174, 'built': 618, 'devoid': 1230, 'thru': 4483, 'duo': 1386, 'homeless': 2143, 'ensues': 1493, 'spy': 4135, 'goldberg': 1933, 'witnessed': 4915, 'enthusiasm': 1501, 'everyday': 1541, 'detailed': 1218, 'mysteries': 2954, 'advantage': 129, 'twelve': 4611, 'anne': 246, 'marie': 2737, 'attorney': 348, 'overlooked': 3154, 'ted': 4386, '2000': 30, 'arnold': 296, 'drunken': 1376, 'anderson': 227, 'seventies': 3904, 'matt': 2768, 'hoffman': 2128, 'ethan': 1528, 'blunt': 520, 'pleased': 3305, 'nightmare': 3014, 'slight': 4027, 'brain': 562, 'passes': 3203, 'sits': 4006, 'closest': 857, 'demons': 1178, 'operation': 3117, 'confusion': 943, 'faster': 1662, 'inducing': 2279, 'blank': 501, 'idiotic': 2219, 'kidding': 2465, 'bottle': 550, 'invisible': 2344, 'leo': 2571, 'lawrence': 2539, 'methods': 2825, 'bitter': 491, 'fresh': 1833, 'monkey': 2890, 'appearances': 275, 'bollywood': 530, 'helen': 2075, 'rural': 3758, 'diane': 1238, 'horrifying': 2167, 'agreed': 156, 'musicals': 2948, 'elaborate': 1439, 'climactic': 848, 'alice': 182, 'excited': 1561, 'juvenile': 2441, 'simplistic': 3985, 'dragged': 1343, 'ashamed': 312, 'necessarily': 2983, 'painted': 3174, 'jeremy': 2394, 'chan': 746, 'insulting': 2310, 'tad': 4347, 'forest': 1791, 'lazy': 2543, 'nurse': 3063, 'sisters': 4002, 'uneven': 4649, 'poverty': 3357, 'raped': 3522, 'sellers': 3872, 'le': 2544, 'hysterical': 2208, 'reads': 3545, 'enjoys': 1489, 'ward': 4793, 'sidekick': 3966, 'baker': 385, 'handful': 2017, 'cuba': 1075, '1980': 20, 'hole': 2132, 'splatter': 4118, 'creation': 1040, 'attached': 336, 'urban': 4688, 'superbly': 4297, 'crowd': 1067, 'reduced': 3579, 'angels': 234, 'depicting': 1184, 'qualities': 3483, 'hung': 2197, 'illegal': 2229, 'religion': 3607, 'birth': 486, 'motivation': 2914, 'embarrassment': 1455, 'undoubtedly': 4648, 'poetic': 3313, 'condition': 937, 'buddies': 608, 'favorites': 1672, 'classical': 836, 'attracted': 349, 'glass': 1917, 'considerable': 950, 'wrestling': 4966, 'ties': 4490, 'burned': 626, 'prisoners': 3403, 'chess': 783, 'praise': 3364, 'topic': 4526, 'attend': 344, 'pushing': 3479, 'crafted': 1029, 'integrity': 2311, 'abc': 63, 'womans': 4922, 'calm': 655, 'crisis': 1060, 'fix': 1744, 'behave': 445, 'prom': 3429, 'cinemas': 817, 'winters': 4901, 'francis': 1818, 'attacks': 339, 'paranoia': 3186, 'stones': 4198, 'porno': 3337, '2002': 32, 'hints': 2113, 'miike': 2837, '1999': 27, 'popularity': 3334, 'freddy': 1826, 'hanks': 2025, 'nuclear': 3057, 'turkey': 4604, 'relatives': 3601, '3000': 43, 'kapoor': 2443, 'fail': 1625, 'fashioned': 1660, 'relevant': 3604, 'matched': 2763, 'pleasant': 3302, 'thumbs': 4485, 'basis': 408, 'hunters': 2200, 'clumsy': 866, 'trained': 4557, 'rising': 3703, 'dolph': 1317, 'comical': 894, 'construction': 960, 'minimum': 2856, 'progresses': 3426, 'chooses': 800, 'finger': 1731, 'funnier': 1850, 'lifestyle': 2593, 'angeles': 233, 'monk': 2889, 'capital': 673, 'compelled': 915, 'womens': 4924, 'literature': 2623, 'guilt': 1994, 'eyre': 1614, 'magazine': 2701, 'cynical': 1093, 'merit': 2816, 'bay': 416, 'trademark': 4548, 'hank': 2024, 'sir': 4000, 'sport': 4129, 'surfing': 4311, 'cole': 873, 'vengeance': 4719, 'bold': 528, 'improvement': 2256, 'christians': 809, 'greek': 1970, 'tame': 4363, 'recorded': 3574, 'cd': 728, 'official': 3094, 'favor': 1670, 'beings': 449, 'notorious': 3051, 'ginger': 1908, 'arguably': 289, 'exposure': 1599, 'escaped': 1518, 'wes': 4851, 'aforementioned': 139, 'screenwriter': 3833, 'werewolf': 4850, 'kane': 2442, 'satisfied': 3789, 'selling': 3873, 'jumped': 2430, 'site': 4005, 'mechanical': 2788, 'connected': 945, 'perry': 3237, 'machines': 2694, 'guessed': 1990, 'illogical': 2231, 'kiss': 2483, 'distance': 1294, 'insane': 2296, 'centers': 734, 'robbery': 3711, 'idiot': 2218, 'mayor': 2777, 'vietnam': 4735, 'diana': 1237, 'equipment': 1511, 'screens': 3832, 'captures': 678, 'fever': 1699, 'kevin': 2457, 'fare': 1655, 'fascinated': 1657, 'property': 3438, 'clichéd': 845, 'private': 3404, 'ready': 3546, '1st': 28, 'hunt': 2198, 'explaining': 1588, 'realizing': 3555, 'voight': 4764, 'intrigue': 2333, 'lacked': 2503, 'sounding': 4083, 'returned': 3666, 'september': 3884, 'genuine': 1891, 'selfish': 3870, 'et': 1526, 'preview': 3386, 'suspend': 4329, 'subtitles': 4259, 'stood': 4199, 'sandler': 3781, 'wishing': 4907, 'per': 3223, 'daddy': 1096, 'dalton': 1098, 'rochester': 3719, 'hollow': 2135, 'scientific': 3817, 'korean': 2495, 'method': 2824, 'punishment': 3467, 'nostalgia': 3038, 'balance': 387, 'elm': 1447, 'understandable': 4644, 'abraham': 69, 'edition': 1422, 'wanna': 4786, 'consists': 955, 'expressed': 1601, 'conceived': 929, 'cities': 823, 'mall': 2720, 'ha': 2002, 'brains': 563, 'absence': 70, 'assistant': 326, '60': 53, 'gray': 1963, 'vegas': 4717, 'andrew': 228, 'dressing': 1359, 'rank': 3518, 'worker': 4942, 'fired': 1735, 'solve': 4060, 'goodness': 1938, 'sixties': 4011, 'draws': 1352, 'rubber': 3747, 'walked': 4776, 'errors': 1516, 'scare': 3803, 'heights': 2073, 'oil': 3097, 'dorothy': 1330, 'babe': 375, 'carefully': 689, 'chorus': 803, 'prize': 3405, 'accepted': 82, 'dinosaurs': 1256, 'lees': 2560, 'pearl': 3220, 'tiresome': 4502, 'trashy': 4566, 'lyrics': 2692, 'genres': 1889, 'singer': 3993, 'fay': 1674, 'parker': 3191, '1990s': 25, 'clark': 832, 'ease': 1404, 'sid': 3964, 'mail': 2706, 'gabriel': 1859, 'overlook': 3153, 'inferior': 2285, 'disappear': 1270, 'elvira': 1450, 'tonight': 4519, 'cared': 685, 'eccentric': 1414, 'andrews': 229, 'accompanied': 86, 'morgan': 2905, 'keaton': 2448, 'lane': 2515, 'spielberg': 4110, 'laura': 2536, 'swimming': 4338, 'classes': 834, 'deaf': 1134, 'icon': 2211, 'ham': 2011, 'translation': 4562, 'bettie': 473, 'americas': 215, 'iii': 2227, 'currently': 1085, 'rise': 3702, 'fisher': 1739, 'jonathan': 2417, 'species': 4098, 'belong': 459, 'respected': 3653, 'scripted': 3835, 'masterpieces': 2760, 'africa': 141, 'furthermore': 1854, 'matthau': 2771, 'mixture': 2878, 'bourne': 554, 'damon': 1101, 'stretched': 4222, 'cinematographer': 819, 'nyc': 3065, 'akshay': 169, 'hugh': 2186, 'dave': 1123, 'maintain': 2710, 'transformation': 4560, 'conventional': 979, 'pat': 3208, 'investigate': 2342, 'kicking': 2462, 'depression': 1189, 'pages': 3168, 'grandmother': 1955, 'neighbors': 2994, 'describes': 1196, 'joey': 2408, 'wolf': 4920, 'stinker': 4191, 'elvis': 1451, 'countryside': 1015, 'melodramatic': 2798, 'prostitute': 3440, 'fed': 1682, 'influence': 2286, 'faced': 1617, 'attempted': 341, 'miserable': 2863, 'possibilities': 3348, 'devils': 1229, 'punch': 3466, 'franchise': 1817, 'sink': 3999, 'soccer': 4048, 'mickey': 2831, 'easier': 1405, 'wing': 4896, 'rocky': 3723, 'causing': 726, 'grasp': 1960, 'resemblance': 3645, 'titanic': 4503, 'jenny': 2393, 'cousin': 1021, 'reel': 3581, 'assault': 324, 'similarities': 3979, 'purple': 3473, 'inevitably': 2283, 'bear': 420, 'mildly': 2840, 'airplane': 166, 'phantom': 3251, 'unpredictable': 4675, 'horrors': 2169, 'judging': 2425, 'justin': 2440, 'mentally': 2809, 'neil': 2995, 'khan': 2459, 'gundam': 1997, 'secretly': 3851, 'alfred': 181, 'teaching': 4377, 'superman': 4301, 'photos': 3261, 'pig': 3274, 'editor': 1423, 'purchased': 3470, 'immensely': 2243, 'reflect': 3584, 'amitabh': 216, 'journalist': 2420, 'freeman': 1829, 'bacall': 377, 'robbins': 3712, 'karloff': 2445, 'complaint': 920, 'birds': 485, 'hyde': 2206, 'fbi': 1675, 'enemies': 1476, 'terrorist': 4413, 'flop': 1760, 'che': 773, 'lloyd': 2630, 'seed': 3856, 'tracy': 4546, 'junior': 2435, 'ego': 1435, 'snl': 4044, 'deceased': 1146, 'streisand': 4218, 'tongue': 4518, 'dropping': 1371, 'jesse': 2397, 'davies': 1125, 'judy': 2426, 'defeat': 1157, 'godzilla': 1929, 'fields': 1705, 'dutch': 1389, 'educational': 1425, 'craven': 1034, 'showcase': 3954, 'widmark': 4882, 'represent': 3637, 'convincingly': 986, 'bumbling': 622, 'despair': 1207, 'columbo': 881, 'armed': 293, 'gerard': 1895, 'kissing': 2484, 'tiger': 4491, 'willis': 4890, 'airport': 167, 'widely': 4881, 'spoke': 4125, 'brutally': 604, 'masterful': 2758, 'threat': 4467, 'neo': 2998, 'reflection': 3585, 'philosophical': 3253, 'basketball': 409, 'scores': 3823, 'randomly': 3515, 'dreary': 1356, 'whale': 4857, 'suspicious': 4332, 'album': 175, 'motivations': 2915, 'instinct': 2308, 'landscape': 2513, 'polanski': 3321, 'laurel': 2537, 'norman': 3035, 'omen': 3104, 'simpson': 3987, 'lincoln': 2608, 'hamlet': 2013, 'ships': 3935, 'angela': 232, 'spread': 4133, 'introduce': 2336, 'doll': 1313, 'bull': 619, 'stan': 4142, 'cheek': 779, 'gandhi': 1866, 'crocodile': 1065, 'earned': 1401, 'tag': 4348, 'gadget': 1860, 'uwe': 4703, 'boll': 529, 'der': 1191, 'blob': 507}\n"
     ]
    }
   ],
   "source": [
    "print(str(vocabulary))"
   ]
  },
  {
   "cell_type": "markdown",
   "metadata": {},
   "source": [
    "Once you have added the endpoint name to the Lambda function, click on **Save**. Your Lambda function is now up and running. Next we need to create a way for our web app to execute the Lambda function."
   ]
  },
  {
   "cell_type": "markdown",
   "metadata": {},
   "source": [
    "### Setting up API Gateway\n",
    "\n",
    "Now that our Lambda function is set up, it is time to create a new API using API Gateway that will trigger the Lambda function we have just created.\n",
    "\n",
    "Using AWS Console, navigate to **Amazon API Gateway** and then click on **Get started**.\n",
    "\n",
    "On the next page, make sure that **New API** is selected and give the new api a name, for example, `sentiment_analysis_web_app`. Then, click on **Create API**.\n",
    "\n",
    "Now we have created an API, however it doesn't currently do anything. What we want it to do is to trigger the Lambda function that we created earlier.\n",
    "\n",
    "Select the **Actions** dropdown menu and click **Create Method**. A new blank method will be created, select its dropdown menu and select **POST**, then click on the check mark beside it.\n",
    "\n",
    "For the integration point, make sure that **Lambda Function** is selected and click on the **Use Lambda Proxy integration**. This option makes sure that the data that is sent to the API is then sent directly to the Lambda function with no processing. It also means that the return value must be a proper response object as it will also not be processed by API Gateway.\n",
    "\n",
    "Type the name of the Lambda function you created earlier into the **Lambda Function** text entry box and then click on **Save**. Click on **OK** in the pop-up box that then appears, giving permission to API Gateway to invoke the Lambda function you created.\n",
    "\n",
    "The last step in creating the API Gateway is to select the **Actions** dropdown and click on **Deploy API**. You will need to create a new Deployment stage and name it anything you like, for example `prod`.\n",
    "\n",
    "You have now successfully set up a public API to access your SageMaker model. Make sure to copy or write down the URL provided to invoke your newly created public API as this will be needed in the next step. This URL can be found at the top of the page, highlighted in blue next to the text **Invoke URL**."
   ]
  },
  {
   "cell_type": "markdown",
   "metadata": {},
   "source": [
    "## Step 7: Deploying our web app\n",
    "\n",
    "Now that we have a publicly available API, we can start using it in a web app. For our purposes, we have provided a simple static html file which can make use of the public api you created earlier.\n",
    "\n",
    "In the `website` folder there should be a file called `index.html`. Download the file to your computer and open that file up in a text editor of your choice. There should be a line which contains **\\*\\*REPLACE WITH PUBLIC API URL\\*\\***. Replace this string with the url that you wrote down in the last step and then save the file.\n",
    "\n",
    "Now, if you open `index.html` on your local computer, your browser will behave as a local web server and you can use the provided site to interact with your SageMaker model.\n",
    "\n",
    "If you'd like to go further, you can host this html file anywhere you'd like, for example using github or hosting a static site on Amazon's S3. Once you have done this you can share the link with anyone you'd like and have them play with it too!\n",
    "\n",
    "> **Important Note** In order for the web app to communicate with the SageMaker endpoint, the endpoint has to actually be deployed and running. This means that you are paying for it. Make sure that the endpoint is running when you want to use the web app but that you shut it down when you don't need it, otherwise you will end up with a surprisingly large AWS bill."
   ]
  },
  {
   "cell_type": "markdown",
   "metadata": {},
   "source": [
    "### Delete the endpoint\n",
    "\n",
    "Remember to always shut down your endpoint if you are no longer using it. You are charged for the length of time that the endpoint is running so if you forget and leave it on you could end up with an unexpectedly large bill."
   ]
  },
  {
   "cell_type": "code",
   "execution_count": 51,
   "metadata": {},
   "outputs": [],
   "source": [
    "xgb_predictor.delete_endpoint()"
   ]
  },
  {
   "cell_type": "markdown",
   "metadata": {},
   "source": [
    "## Optional: Clean up\n",
    "\n",
    "The default notebook instance on SageMaker doesn't have a lot of excess disk space available. As you continue to complete and execute notebooks you will eventually fill up this disk space, leading to errors which can be difficult to diagnose. Once you are completely finished using a notebook it is a good idea to remove the files that you created along the way. Of course, you can do this from the terminal or from the notebook hub if you would like. The cell below contains some commands to clean up the created files from within the notebook."
   ]
  },
  {
   "cell_type": "code",
   "execution_count": 57,
   "metadata": {},
   "outputs": [],
   "source": [
    "# First we will remove all of the files contained in the data_dir directory\n",
    "!rm $data_dir/*\n",
    "\n",
    "# And then we delete the directory itself\n",
    "!rmdir $data_dir\n",
    "\n",
    "# Similarly we remove the files in the cache_dir directory and the directory itself\n",
    "!rm $cache_dir/*\n",
    "!rmdir $cache_dir"
   ]
  },
  {
   "cell_type": "code",
   "execution_count": null,
   "metadata": {},
   "outputs": [],
   "source": []
  },
  {
   "cell_type": "code",
   "execution_count": null,
   "metadata": {},
   "outputs": [],
   "source": []
  }
 ],
 "metadata": {
  "kernelspec": {
   "display_name": "conda_python3",
   "language": "python",
   "name": "conda_python3"
  },
  "language_info": {
   "codemirror_mode": {
    "name": "ipython",
    "version": 3
   },
   "file_extension": ".py",
   "mimetype": "text/x-python",
   "name": "python",
   "nbconvert_exporter": "python",
   "pygments_lexer": "ipython3",
   "version": "3.6.13"
  }
 },
 "nbformat": 4,
 "nbformat_minor": 2
}
